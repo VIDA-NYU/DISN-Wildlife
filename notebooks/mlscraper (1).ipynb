{
 "cells": [
  {
   "cell_type": "code",
   "execution_count": 1,
   "id": "76512736-9230-47ae-8393-52632783a000",
   "metadata": {},
   "outputs": [],
   "source": [
    "from elasticsearch import Elasticsearch, helpers\n",
    "from elasticsearch.helpers import scan\n",
    "from pathlib import Path\n",
    "import pandas as pd\n",
    "\n",
    "from typing import Optional, Any\n",
    "import requests\n",
    "from mlscraper.html import Page\n",
    "from mlscraper.samples import Sample, TrainingSet\n",
    "from mlscraper.training import train_scraper\n",
    "import pickle"
   ]
  },
  {
   "cell_type": "code",
   "execution_count": 2,
   "id": "5943d94e-cc07-4670-93e8-aaee3469de91",
   "metadata": {},
   "outputs": [],
   "source": [
    "\n",
    "from urllib3.exceptions import InsecureRequestWarning\n",
    "from urllib3 import disable_warnings\n",
    "\n",
    "disable_warnings(InsecureRequestWarning)"
   ]
  },
  {
   "cell_type": "code",
   "execution_count": 3,
   "id": "56d37294-b62b-4225-b2ce-fb44577715ca",
   "metadata": {},
   "outputs": [],
   "source": [
    "es_ache = Elasticsearch(\"http://elasticsearch-ache:9200\")\n",
    "index = \"crawl-cites-small\"\n",
    "# es_index = \"crawl-common-cites\"\n"
   ]
  },
  {
   "cell_type": "code",
   "execution_count": 4,
   "id": "a2b2e478-eb44-4ec6-95d1-15732cd14916",
   "metadata": {},
   "outputs": [],
   "source": [
    "res2 = es_ache.search(\n",
    "    index=index,\n",
    "    size=150,\n",
    ")[\"hits\"][\"hits\"]"
   ]
  },
  {
   "cell_type": "code",
   "execution_count": 12,
   "id": "81d54e54-e8b3-49c8-9f1c-c446e83969fb",
   "metadata": {},
   "outputs": [
    {
     "name": "stdout",
     "output_type": "stream",
     "text": [
      "Defaulting to user installation because normal site-packages is not writeable\n",
      "\u001b[31mERROR: Could not find a version that satisfies the requirement urllib2 (from versions: none)\u001b[0m\u001b[31m\n",
      "\u001b[0m\u001b[31mERROR: No matching distribution found for urllib2\u001b[0m\u001b[31m\n",
      "\u001b[0m\n",
      "\u001b[1m[\u001b[0m\u001b[34;49mnotice\u001b[0m\u001b[1;39;49m]\u001b[0m\u001b[39;49m A new release of pip is available: \u001b[0m\u001b[31;49m23.0.1\u001b[0m\u001b[39;49m -> \u001b[0m\u001b[32;49m23.1.2\u001b[0m\n",
      "\u001b[1m[\u001b[0m\u001b[34;49mnotice\u001b[0m\u001b[1;39;49m]\u001b[0m\u001b[39;49m To update, run: \u001b[0m\u001b[32;49mpip install --upgrade pip\u001b[0m\n"
     ]
    }
   ],
   "source": [
    "!pip install urllib2"
   ]
  },
  {
   "cell_type": "markdown",
   "id": "23247a05-ed98-4fe6-a309-076172881dd4",
   "metadata": {},
   "source": [
    "## MLSCRAPER"
   ]
  },
  {
   "cell_type": "code",
   "execution_count": 3,
   "id": "ce5ac0c2-5f58-4d1c-9332-5d4192f94618",
   "metadata": {},
   "outputs": [],
   "source": [
    "def create_scraper(http: str, dict_page: dict) -> Any:\n",
    "    headers={'User-Agent': 'Mozilla/5.0 (Windows NT 10.0; Win64; x64) AppleWebKit/537.36 (KHTML, like Gecko) Chrome/102.0.0.0 Safari/537.36'}\n",
    "    resp = requests.get(http, headers= headers)\n",
    "    assert resp.status_code == 200\n",
    "\n",
    "    training_set = TrainingSet()\n",
    "    page = Page(resp.content)\n",
    "\n",
    "    sample= Sample(page, dict_page)\n",
    "    training_set.add_sample(sample)\n",
    "    scraper = train_scraper(training_set)\n",
    "    return scraper\n",
    "\n",
    "\n",
    "def create_dict(options: dict) -> dict:\n",
    "    keys=[]\n",
    "    for key in options.keys():\n",
    "        if not options[key]:\n",
    "            keys.append(key)\n",
    "    for key in keys:\n",
    "        options.pop(key)\n",
    "    return options\n",
    "\n",
    "def test_page_and_save(http: str, scraper: Any, site: str) -> None:\n",
    "    resp = requests.get(http, headers=headers)\n",
    "    assert resp.status_code == 200\n",
    "    result = scraper.get(Page(resp.content))\n",
    "    print(result)\n",
    "    if result:\n",
    "        with open(site, \"wb\") as f:\n",
    "            pickle.dump(scraper, f, protocol=pickle.HIGHEST_PROTOCOL)\n"
   ]
  },
  {
   "cell_type": "markdown",
   "id": "b6021e89-6c16-4038-800b-a6171e0c46ab",
   "metadata": {},
   "source": [
    "## canadianlisted"
   ]
  },
  {
   "cell_type": "code",
   "execution_count": 5,
   "id": "cf93e5ab-9b8a-49a1-a996-34e5fa8f8d36",
   "metadata": {},
   "outputs": [],
   "source": [
    "http = \"https://rockyview.canadianlisted.com/pets-and-animals/pied-ball-pythons-available_4173999.html\""
   ]
  },
  {
   "cell_type": "code",
   "execution_count": 6,
   "id": "60be519b-fa65-4657-ac75-0915a885e567",
   "metadata": {
    "collapsed": true,
    "jupyter": {
     "outputs_hidden": true
    },
    "tags": []
   },
   "outputs": [
    {
     "data": {
      "text/plain": [
       "b'<!DOCTYPE html PUBLIC \"-//W3C//DTD XHTML 1.0 Transitional//EN\" \"http://www.w3.org/TR/xhtml1/DTD/xhtml1-transitional.dtd\">\\r\\n<html xmlns=\"http://www.w3.org/1999/xhtml\">\\r\\n<head>\\r\\n<meta http-equiv=\"Content-Type\" content=\"text/html; charset=UTF-8\" />\\r\\n<title>Pied ball pythons available for sale in Rocky View, Alberta Classifieds - CanadianListed.com</title>\\t\\t\\r\\n<meta content=\"for sale, Pied ball pythons,Male and Female available and ready to go to any python loving. CanadianListed.com has classifieds in Rocky View, Alberta for pets and animals. Kennel hounds, dogs and all kinds of cats\" name=\"description\" />\\r\\n<meta name=\"robots\" content=\"index, follow\" /><script>(function(){/*\\n\\n Copyright The Closure Library Authors.\\n SPDX-License-Identifier: Apache-2.0\\n*/\\n\\'use strict\\';var g=function(a){var b=0;return function(){return b<a.length?{done:!1,value:a[b++]}:{done:!0}}},l=this||self,m=/^[\\\\w+/_-]+[=]{0,2}$/,p=null,q=function(){},r=function(a){var b=typeof a;if(\"object\"==b)if(a){if(a instanceof Array)return\"array\";if(a instanceof Object)return b;var c=Object.prototype.toString.call(a);if(\"[object Window]\"==c)return\"object\";if(\"[object Array]\"==c||\"number\"==typeof a.length&&\"undefined\"!=typeof a.splice&&\"undefined\"!=typeof a.propertyIsEnumerable&&!a.propertyIsEnumerable(\"splice\"))return\"array\";\\nif(\"[object Function]\"==c||\"undefined\"!=typeof a.call&&\"undefined\"!=typeof a.propertyIsEnumerable&&!a.propertyIsEnumerable(\"call\"))return\"function\"}else return\"null\";else if(\"function\"==b&&\"undefined\"==typeof a.call)return\"object\";return b},u=function(a,b){function c(){}c.prototype=b.prototype;a.prototype=new c;a.prototype.constructor=a};var v=function(a,b){Object.defineProperty(l,a,{configurable:!1,get:function(){return b},set:q})};var y=function(a,b){this.b=a===w&&b||\"\";this.a=x},x={},w={};var aa=function(a,b){a.src=b instanceof y&&b.constructor===y&&b.a===x?b.b:\"type_error:TrustedResourceUrl\";if(null===p)b:{b=l.document;if((b=b.querySelector&&b.querySelector(\"script[nonce]\"))&&(b=b.nonce||b.getAttribute(\"nonce\"))&&m.test(b)){p=b;break b}p=\"\"}b=p;b&&a.setAttribute(\"nonce\",b)};var z=function(){return Math.floor(2147483648*Math.random()).toString(36)+Math.abs(Math.floor(2147483648*Math.random())^+new Date).toString(36)};var A=function(a,b){b=String(b);\"application/xhtml+xml\"===a.contentType&&(b=b.toLowerCase());return a.createElement(b)},B=function(a){this.a=a||l.document||document};B.prototype.appendChild=function(a,b){a.appendChild(b)};var C=function(a,b,c,d,e,f){try{var k=a.a,h=A(a.a,\"SCRIPT\");h.async=!0;aa(h,b);k.head.appendChild(h);h.addEventListener(\"load\",function(){e();d&&k.head.removeChild(h)});h.addEventListener(\"error\",function(){0<c?C(a,b,c-1,d,e,f):(d&&k.head.removeChild(h),f())})}catch(n){f()}};var ba=l.atob(\"aHR0cHM6Ly93d3cuZ3N0YXRpYy5jb20vaW1hZ2VzL2ljb25zL21hdGVyaWFsL3N5c3RlbS8xeC93YXJuaW5nX2FtYmVyXzI0ZHAucG5n\"),ca=l.atob(\"WW91IGFyZSBzZWVpbmcgdGhpcyBtZXNzYWdlIGJlY2F1c2UgYWQgb3Igc2NyaXB0IGJsb2NraW5nIHNvZnR3YXJlIGlzIGludGVyZmVyaW5nIHdpdGggdGhpcyBwYWdlLg==\"),da=l.atob(\"RGlzYWJsZSBhbnkgYWQgb3Igc2NyaXB0IGJsb2NraW5nIHNvZnR3YXJlLCB0aGVuIHJlbG9hZCB0aGlzIHBhZ2Uu\"),ea=function(a,b,c){this.b=a;this.f=new B(this.b);this.a=null;this.c=[];this.g=!1;this.i=b;this.h=c},F=function(a){if(a.b.body&&!a.g){var b=\\nfunction(){D(a);l.setTimeout(function(){return E(a,3)},50)};C(a.f,a.i,2,!0,function(){l[a.h]||b()},b);a.g=!0}},D=function(a){for(var b=G(1,5),c=0;c<b;c++){var d=H(a);a.b.body.appendChild(d);a.c.push(d)}b=H(a);b.style.bottom=\"0\";b.style.left=\"0\";b.style.position=\"fixed\";b.style.width=G(100,110).toString()+\"%\";b.style.zIndex=G(2147483544,2147483644).toString();b.style[\"background-color\"]=I(249,259,242,252,219,229);b.style[\"box-shadow\"]=\"0 0 12px #888\";b.style.color=I(0,10,0,10,0,10);b.style.display=\\n\"flex\";b.style[\"justify-content\"]=\"center\";b.style[\"font-family\"]=\"Roboto, Arial\";c=H(a);c.style.width=G(80,85).toString()+\"%\";c.style.maxWidth=G(750,775).toString()+\"px\";c.style.margin=\"24px\";c.style.display=\"flex\";c.style[\"align-items\"]=\"flex-start\";c.style[\"justify-content\"]=\"center\";d=A(a.f.a,\"IMG\");d.className=z();d.src=ba;d.style.height=\"24px\";d.style.width=\"24px\";d.style[\"padding-right\"]=\"16px\";var e=H(a),f=H(a);f.style[\"font-weight\"]=\"bold\";f.textContent=ca;var k=H(a);k.textContent=da;J(a,\\ne,f);J(a,e,k);J(a,c,d);J(a,c,e);J(a,b,c);a.a=b;a.b.body.appendChild(a.a);b=G(1,5);for(c=0;c<b;c++)d=H(a),a.b.body.appendChild(d),a.c.push(d)},J=function(a,b,c){for(var d=G(1,5),e=0;e<d;e++){var f=H(a);b.appendChild(f)}b.appendChild(c);c=G(1,5);for(d=0;d<c;d++)e=H(a),b.appendChild(e)},G=function(a,b){return Math.floor(a+Math.random()*(b-a))},I=function(a,b,c,d,e,f){return\"rgb(\"+G(Math.max(a,0),Math.min(b,255)).toString()+\",\"+G(Math.max(c,0),Math.min(d,255)).toString()+\",\"+G(Math.max(e,0),Math.min(f,\\n255)).toString()+\")\"},H=function(a){a=A(a.f.a,\"DIV\");a.className=z();return a},E=function(a,b){0>=b||null!=a.a&&0!=a.a.offsetHeight&&0!=a.a.offsetWidth||(fa(a),D(a),l.setTimeout(function(){return E(a,b-1)},50))},fa=function(a){var b=a.c;var c=\"undefined\"!=typeof Symbol&&Symbol.iterator&&b[Symbol.iterator];b=c?c.call(b):{next:g(b)};for(c=b.next();!c.done;c=b.next())(c=c.value)&&c.parentNode&&c.parentNode.removeChild(c);a.c=[];(b=a.a)&&b.parentNode&&b.parentNode.removeChild(b);a.a=null};var ia=function(a,b,c,d,e){var f=ha(c),k=function(n){n.appendChild(f);l.setTimeout(function(){f?(0!==f.offsetHeight&&0!==f.offsetWidth?b():a(),f.parentNode&&f.parentNode.removeChild(f)):a()},d)},h=function(n){document.body?k(document.body):0<n?l.setTimeout(function(){h(n-1)},e):b()};h(3)},ha=function(a){var b=document.createElement(\"div\");b.className=a;b.style.width=\"1px\";b.style.height=\"1px\";b.style.position=\"absolute\";b.style.left=\"-10000px\";b.style.top=\"-10000px\";b.style.zIndex=\"-10000\";return b};var K={},L=null;var M=function(){},N=\"function\"==typeof Uint8Array,O=function(a,b){a.b=null;b||(b=[]);a.j=void 0;a.f=-1;a.a=b;a:{if(b=a.a.length){--b;var c=a.a[b];if(!(null===c||\"object\"!=typeof c||Array.isArray(c)||N&&c instanceof Uint8Array)){a.g=b-a.f;a.c=c;break a}}a.g=Number.MAX_VALUE}a.i={}},P=[],Q=function(a,b){if(b<a.g){b+=a.f;var c=a.a[b];return c===P?a.a[b]=[]:c}if(a.c)return c=a.c[b],c===P?a.c[b]=[]:c},R=function(a,b,c){a.b||(a.b={});if(!a.b[c]){var d=Q(a,c);d&&(a.b[c]=new b(d))}return a.b[c]};\\nM.prototype.h=N?function(){var a=Uint8Array.prototype.toJSON;Uint8Array.prototype.toJSON=function(){var b;void 0===b&&(b=0);if(!L){L={};for(var c=\"ABCDEFGHIJKLMNOPQRSTUVWXYZabcdefghijklmnopqrstuvwxyz0123456789\".split(\"\"),d=[\"+/=\",\"+/\",\"-_=\",\"-_.\",\"-_\"],e=0;5>e;e++){var f=c.concat(d[e].split(\"\"));K[e]=f;for(var k=0;k<f.length;k++){var h=f[k];void 0===L[h]&&(L[h]=k)}}}b=K[b];c=[];for(d=0;d<this.length;d+=3){var n=this[d],t=(e=d+1<this.length)?this[d+1]:0;h=(f=d+2<this.length)?this[d+2]:0;k=n>>2;n=(n&\\n3)<<4|t>>4;t=(t&15)<<2|h>>6;h&=63;f||(h=64,e||(t=64));c.push(b[k],b[n],b[t]||\"\",b[h]||\"\")}return c.join(\"\")};try{return JSON.stringify(this.a&&this.a,S)}finally{Uint8Array.prototype.toJSON=a}}:function(){return JSON.stringify(this.a&&this.a,S)};var S=function(a,b){return\"number\"!==typeof b||!isNaN(b)&&Infinity!==b&&-Infinity!==b?b:String(b)};M.prototype.toString=function(){return this.a.toString()};var T=function(a){O(this,a)};u(T,M);var U=function(a){O(this,a)};u(U,M);var ja=function(a,b){this.c=new B(a);var c=R(b,T,5);c=new y(w,Q(c,4)||\"\");this.b=new ea(a,c,Q(b,4));this.a=b},ka=function(a,b,c,d){b=new T(b?JSON.parse(b):null);b=new y(w,Q(b,4)||\"\");C(a.c,b,3,!1,c,function(){ia(function(){F(a.b);d(!1)},function(){d(!0)},Q(a.a,2),Q(a.a,3),Q(a.a,1))})};var la=function(a,b){V(a,\"internal_api_load_with_sb\",function(c,d,e){ka(b,c,d,e)});V(a,\"internal_api_sb\",function(){F(b.b)})},V=function(a,b,c){a=l.btoa(a+b);v(a,c)},W=function(a,b,c){for(var d=[],e=2;e<arguments.length;++e)d[e-2]=arguments[e];e=l.btoa(a+b);e=l[e];if(\"function\"==r(e))e.apply(null,d);else throw Error(\"API not exported.\");};var X=function(a){O(this,a)};u(X,M);var Y=function(a){this.h=window;this.a=a;this.b=Q(this.a,1);this.f=R(this.a,T,2);this.g=R(this.a,U,3);this.c=!1};Y.prototype.start=function(){ma();var a=new ja(this.h.document,this.g);la(this.b,a);na(this)};\\nvar ma=function(){var a=function(){if(!l.frames.googlefcPresent)if(document.body){var b=document.createElement(\"iframe\");b.style.display=\"none\";b.style.width=\"0px\";b.style.height=\"0px\";b.style.border=\"none\";b.style.zIndex=\"-1000\";b.style.left=\"-1000px\";b.style.top=\"-1000px\";b.name=\"googlefcPresent\";document.body.appendChild(b)}else l.setTimeout(a,5)};a()},na=function(a){var b=Date.now();W(a.b,\"internal_api_load_with_sb\",a.f.h(),function(){var c;var d=a.b,e=l[l.btoa(d+\"loader_js\")];if(e){e=l.atob(e);\\ne=parseInt(e,10);d=l.btoa(d+\"loader_js\").split(\".\");var f=l;d[0]in f||\"undefined\"==typeof f.execScript||f.execScript(\"var \"+d[0]);for(;d.length&&(c=d.shift());)d.length?f[c]&&f[c]!==Object.prototype[c]?f=f[c]:f=f[c]={}:f[c]=null;c=Math.abs(b-e);c=1728E5>c?0:c}else c=-1;0!=c&&(W(a.b,\"internal_api_sb\"),Z(a,Q(a.a,6)))},function(c){Z(a,c?Q(a.a,4):Q(a.a,5))})},Z=function(a,b){a.c||(a.c=!0,a=new l.XMLHttpRequest,a.open(\"GET\",b,!0),a.send())};(function(a,b){l[a]=function(c){for(var d=[],e=0;e<arguments.length;++e)d[e-0]=arguments[e];l[a]=q;b.apply(null,d)}})(\"__d3lUW8vwsKlB__\",function(a){\"function\"==typeof window.atob&&(a=window.atob(a),a=new X(a?JSON.parse(a):null),(new Y(a)).start())});}).call(this);\\n\\nwindow.__d3lUW8vwsKlB__(\"WyIxM2U0OTBlOGQxMTQyZDMyIixbbnVsbCxudWxsLG51bGwsImh0dHBzOi8vZnVuZGluZ2Nob2ljZXNtZXNzYWdlcy5nb29nbGUuY29tL2YvQUdTS1d4WDBmQWdEYVZ2bExrRmNoZDFTTHpQOW5VaURnaUIycnZXOGpJWHJna1BGQmlkZlcxUjdkV2Zrc1dZSmxTeURYbUQ5QVI0LVZwMFpYamxrRVdDVUtlWVx1MDAzZCJdCixbMjAsImRpdi1ncHQtYWQiLDEwMCwiTVRObE5Ea3daVGhrTVRFME1tUXpNZ1x1MDAzZFx1MDAzZCIsW251bGwsbnVsbCxudWxsLCJodHRwczovL3d3dy5nc3RhdGljLmNvbS8wZW1uL2YvcC8xM2U0OTBlOGQxMTQyZDMyLmpzP3VzcXBcdTAwM2RDQWsiXQpdCiwiaHR0cHM6Ly9mdW5kaW5nY2hvaWNlc21lc3NhZ2VzLmdvb2dsZS5jb20vbC9BR1NLV3hXbmNDTzhlYjlCWHQ4ZjFWR2xUY0ZQV1JBSDBFUGVHTFRwMW5naGd3RHlFN3NXVDVxRUoxekMtcTJ2WTFzeEE1ZnVhRFhtLWxBOWNVd05vdDVwP2FiXHUwMDNkMSIsImh0dHBzOi8vZnVuZGluZ2Nob2ljZXNtZXNzYWdlcy5nb29nbGUuY29tL2wvQUdTS1d4VnFkZkM5YkJUSEZZOGJWREkyeXA2ZTFfdDBWd2RvSjdnSGdvd0JhdVZhNzcza3lhRVMxR2FZVkk4Sjk5ckM5cG1Ua09rVVNlSnhXc0VBYXNIcD9hYlx1MDAzZDJcdTAwMjZzYmZcdTAwM2QxIiwiaHR0cHM6Ly9mdW5kaW5nY2hvaWNlc21lc3NhZ2VzLmdvb2dsZS5jb20vbC9BR1NLV3hYZVEtcEZKOTBHeW9pazlrVTR0aHprMElNMmQ1NGNNaWNwYW5qR2RKSDl0SlZXTF9QUC04WEtSSmF3ZHMzS3k5ODVKNkd4bTNCU0xJQ0U2SnFFP3NiZlx1MDAzZDIiXQo=\");</script>\\t\\t\\t\\t<script async src=\"https://securepubads.g.doubleclick.net/tag/js/gpt.js\"></script>\\n\\t<script>\\n\\t\\twindow.googletag = window.googletag || {cmd: []};\\n\\t\\tgoogletag.cmd.push(function() {\\n\\t\\t\\t\\t\\t\\t\\t\\t\\tgoogletag.defineSlot(\\'/8755530/CL-details-top\\', [[970, 90], [970, 250]], \\'div-gpt-ad-1573638734350-0\\').addService(googletag.pubads());\\n\\t\\t\\t\\tgoogletag.defineSlot(\\'/8755530/CL-details-middle-1\\', [728, 90], \\'div-gpt-ad-1573638832821-0\\').addService(googletag.pubads());\\n\\t\\t\\t\\tgoogletag.defineSlot(\\'/8755530/CL-details-middle-2\\', [728, 90], \\'div-gpt-ad-1573638914931-0\\').addService(googletag.pubads());\\n\\t\\t\\t\\t\\t\\t\\t\\tgoogletag.defineSlot(\\'/8755530/CL-details-right-1\\', [[120, 600], [300, 600], [160, 600], [300, 250]], \\'div-gpt-ad-1573638935763-0\\').addService(googletag.pubads());\\n\\t\\t\\t\\tgoogletag.defineSlot(\\'/8755530/CL-details-right-2\\', [[300, 250], [120, 600], [160, 600], [300, 600]], \\'div-gpt-ad-1573638962827-0\\').addService(googletag.pubads());\\n\\t\\t\\t\\tgoogletag.defineSlot(\\'/8755530/CL-details-right-3\\', [[300, 600], [120, 600], [160, 600], [300, 250]], \\'div-gpt-ad-1573638981829-0\\').addService(googletag.pubads());\\n\\t\\t\\t\\t\\t\\t\\t\\t\\t\\t\\n\\t\\t\\t\\tgoogletag.pubads().setTargeting(\\'lazyloading\\', \\'on\\');\\n\\t\\t\\t\\tgoogletag.pubads().enableLazyLoad({\\n\\t\\t\\t\\t\\tfetchMarginPercent: 500,\\n\\t\\t\\t\\t\\trenderMarginPercent: 200\\n\\t\\t\\t\\t});\\n\\t\\t\\t\\n\\t\\t\\t\\tgoogletag.enableServices();\\n\\t\\t\\n\\t\\t});\\n\\t</script>\\n\\t\\t\\t\\t\\t\\t<meta name=\"twitter:card\" content=\"product\" />\\r\\n\\t<meta name=\"twitter:site\" content=\"@canadianlisted\" />\\r\\n\\t<meta name=\"twitter:creator\" content=\"@canadianlisted\" />\\r\\n\\t<meta name=\"twitter:title\" content=\"Pied ball pythons available\" />\\r\\n\\t<meta name=\"twitter:description\" content=\"Pied ball pythons,Male and Female available and ready to go to any python loving and caring home.They male weighs 750 grams and the female weighs 850 grams.If interested and willing to own one of my pythons contact us for more photos and information. or just call us at 551-.\" />\\r\\n\\t<meta name=\"twitter:image\" content=\"https://images.canadianlisted.com/nlarge/pied-ball-pythons-available_9629159.jpg\" />\\t<meta name=\"twitter:data1\" content=\"Rocky View, Alberta\" />\\r\\n\\t<meta name=\"twitter:label1\" content=\"Location\" />\\r\\n\\t\\t<meta property=\"og:title\" content=\"Pied ball pythons available\" />\\r\\n\\t<meta name=\"og:description\" content=\"Pied ball pythons,Male and Female available and ready to go to any python loving and caring home.They male weighs 750 grams and the female weighs 850 grams.If interested and willing to own one of my pythons contact us for more photos and information. or just call us at 551-.\" />\\r\\n\\t<meta property=\"og:type\" content=\"product\" />\\r\\n\\t<meta property=\"og:country-name\" content=\"Canada\">\\r\\n\\t<meta property=\"og:region\" content=\"AB\" />\\r\\n\\t<meta property=\"og:locality\" content=\"Rocky View\" />\\t\\r\\n\\r\\n\\t<meta property=\"og:url\" content=\"https://rockyview.canadianlisted.com/pets-and-animals/pied-ball-pythons-available_4173999.html\" />\\r\\n\\t<meta property=\"og:image\" content=\"https://images.canadianlisted.com/nlarge/pied-ball-pythons-available_9629159.jpg\" /><meta name=\"viewport\" content=\"width=1100px\" /><link rel=\"apple-touch-icon\" href=\"/img/save.png\" />\\r\\n  <link rel=\"canonical\" href=\"https://rockyview.canadianlisted.com/pets-and-animals/pied-ball-pythons-available_4173999.html\" />\\r\\n<link href=\"/css/1669123278/basic.css\" rel=\"stylesheet\" type=\"text/css\"  ></link><link href=\"/css/1599666927/ad/index.css\" rel=\"stylesheet\" type=\"text/css\"  ></link><link href=\"/css/1599669990/listing/index.css\" rel=\"stylesheet\" type=\"text/css\"  ></link>\\t<script type=\"text/javascript\" charset=\"utf-8\">\\r\\n\\t\\r\\n\\t  (function(G,o,O,g,L,e){G[g]=G[g]||function(){(G[g][\\'q\\']=G[g][\\'q\\']||[]).push(\\r\\n\\t   arguments)},G[g][\\'t\\']=1*new Date;L=o.createElement(O),e=o.getElementsByTagName(\\r\\n\\t   O)[0];L.async=1;L.src=\\'//www.google.com/adsense/search/async-ads.js\\';\\r\\n\\t  e.parentNode.insertBefore(L,e)})(window,document,\\'script\\',\\'_googCsa\\');\\r\\n  \\t\\r\\n\\t</script>\\r\\n<script language=\\'javascript\\' type=\\'text/javascript\\'>\\r\\nvar pageController = \"ad\";\\r\\nvar pageMethod = \"index\";\\r\\nvar catparent = \"44\";var _GET = {\"city_id\":\"6412\",\"state_id\":\"1\",\"keyword\":\"\",\"category_id\":\"47\",\"tim\":1,\"zip_id\":null,\"ad_id\":\"4173999\"};</script>\\r\\n</head>\\r\\n<body style = \"position: relative;\" itemscope itemtype=\"http://schema.org/WebPage\">\\r\\n\\r\\n<!-- Global site tag (gtag.js) - Google Analytics -->\\r\\n<script async src=\"https://www.googletagmanager.com/gtag/js?id=UA-12563896-1\"></script>\\r\\n<script>\\r\\n  window.dataLayer = window.dataLayer || [];\\r\\n  function gtag(){dataLayer.push(arguments);}\\r\\n  gtag(\\'js\\', new Date());\\r\\n\\r\\n  gtag(\\'config\\', \\'UA-12563896-1\\');\\r\\n</script>\\r\\n\\r\\n<script src=\"https://code.jquery.com/jquery-latest.min.js\" language=\"JavaScript\" type=\"text/JavaScript\" ></script><script src=\"https://code.jquery.com/ui/1.11.4/jquery-ui.min.js\" language=\"JavaScript\" type=\"text/JavaScript\" ></script><script src=\"/ms/1599662201/firebugx.js\" language=\"JavaScript\" type=\"text/JavaScript\" ></script><script src=\"/ms/1599665266/basic.js\" language=\"JavaScript\" type=\"text/JavaScript\" ></script><script src=\"/ms/1599663037/ad_action.js\" language=\"JavaScript\" type=\"text/JavaScript\" ></script><script src=\"https://code.jquery.com/jquery-latest.min.js\" language=\"JavaScript\" type=\"text/JavaScript\" ></script><script src=\"https://code.jquery.com/ui/1.11.4/jquery-ui.min.js\" language=\"JavaScript\" type=\"text/JavaScript\" ></script><script src=\"/ms/1599667772/functions.js\" language=\"JavaScript\" type=\"text/JavaScript\" ></script><script src=\"/ms/1639057366/listing.js\" language=\"JavaScript\" type=\"text/JavaScript\" ></script><div style=\"height:0;width:100%;position:relative;\">\\r\\n\\t<div style=\"width:974px;margin-left:auto;margin-right:auto;height:0;float:none;\">\\r\\n\\t\\t<div style=\"float:right;width:300px;height:600px;margin-right:-300px;margin-top: 65px;\" id=\"main_ad_right\">\\r\\n\\t\\t\\t\\t\\t\\t\\t\\t\\t\\t\\t\\t\\t\\t\\t\\t\\t\\t<!-- /8755530/CL-details-right-1 -->\\n\\t\\t\\t<div id=\\'div-gpt-ad-1573638935763-0\\'>\\n\\t\\t\\t\\t<script>\\n\\t\\t\\t\\t\\tgoogletag.cmd.push(function() { googletag.display(\\'div-gpt-ad-1573638935763-0\\'); });\\n\\t\\t\\t\\t</script>\\n\\t\\t\\t</div>\\n\\t\\t\\t\\t\\t\\t\\t\\t\\t\\t\\t\\t</div>\\r\\n\\t\\t<div style=\"margin-top: 65px;width: 974px;margin-left: auto;margin-right: auto;left: 0;right: 0;\">\\r\\n\\t\\t\\t<div style=\"width:300px;height:600px;margin-left:-300px;\" id=\"main_ad_left\">\\r\\n\\t\\t\\t\\t\\t\\t\\t\\t\\t\\t\\t\\t\\t\\t\\t\\t\\t\\t\\t\\t\\t<!-- /8755530/CL-details-right-2 -->\\n\\t\\t\\t<div align=\"right\" id=\\'div-gpt-ad-1573638962827-0\\'>\\n\\t\\t\\t\\t<script>\\n\\t\\t\\t\\t\\tgoogletag.cmd.push(function() { googletag.display(\\'div-gpt-ad-1573638962827-0\\'); });\\n\\t\\t\\t\\t</script>\\n\\t\\t\\t</div>\\n\\t\\t\\t\\t\\t\\t\\t\\t\\t\\t\\t\\t  \\t\\t\\t</div>\\r\\n  \\t\\t</div>\\r\\n\\t</div>\\r\\n</div>\\r\\n</div>\\r\\n<div style=\"z-index: -1!important;position:absolute; bottom:0; width:100%; height:0;\">\\r\\n\\t<div style=\"position: relative;height:0px;width:974px;margin:0 auto;float:none;\">\\r\\n\\t\\t<div style=\"position: absolute; margin-bottom: 200px; width: 160px;height: 600px;right: 0;margin-right:-160px;bottom: 0px;text-align: right;\">\\r\\n\\t\\t\\t\\t\\t\\t\\t\\t\\t\\t\\t\\t\\t\\t\\t\\t\\t\\t\\t\\t\\t\\t\\t        </div>\\r\\n    </div>\\r\\n    </div>\\r\\n\\r\\n\\r\\n\\t<!-- Start SiteTopMenu.tpl -->\\r\\n\\t<div class=\"allclribbon\" style=\"position: relative;\">\\r\\n\\t<div class=\"allclribin\">\\r\\n\\t\\t<div class=\"deskcllogo\" itemscope itemtype=\"http://schema.org/Organization\">\\r\\n\\t\\t\\t<a href=\"//www.canadianlisted.com/\">\\r\\n\\t\\t\\t\\t<img src=\"/img/canadianListed_list.png\" border=\"0\" alt=\"CanadianListed.com, local and safe classifieds market in Canada.\" />\\r\\n\\t\\t\\t</a>\\r\\n\\t\\t</div>\\r\\n               \\r\\n                    <div class=\"headclcover\">\\r\\n                <div class=\"headclmenu\">\\r\\n                    <span id=\"saleclin\">For Sale</span>\\r\\n                </div>\\r\\n                <div class=\"headclmenu\">\\r\\n                    <span id=\"realclin\">Real Estate</span>\\r\\n                </div>\\r\\n                <div class=\"headclmenu\">\\r\\n                    <span id=\"busiclin\" style=\"width:60px;\">States</span>\\r\\n                </div>\\r\\n                <div class=\"headclmenu\">\\r\\n                    <a href=\"/jobs-employment/listing\" id=\"menuclwork\">\\r\\n                        <span id=\"workclin\">Jobs</span>\\r\\n                    </a>\\r\\n                </div>\\r\\n                                <div class=\"headclmenu\">\\r\\n                    <a href=\"//www.canadianlisted.com/about_us.html\" id=\"menuclcl\">\\r\\n                        <span id=\"clclin\">About Us</span>\\r\\n                    </a>\\r\\n                </div>\\r\\n                <div class=\"headclmenu\">\\r\\n                    <a href=\"//www.canadianlisted.com/post_ad.html\" id=\"menuclnowpost\">\\t\\r\\n                        <span id=\"postnowclin\" class=\"postclad\">Post Ad</span>\\r\\n                                            </a>\\r\\n                </div>\\r\\n                            </div>\\r\\n            \\t            <div class=\"headclsns\">\\r\\n                                <div><div id=\"fb-root\"></div><script src=\"//connect.facebook.net/en_US/all.js#xfbml=1\"></script><fb:like href=\"https://www.canadianlisted.com\" send=\"false\" layout=\"button_count\" width=\"90\" show_faces=\"false\" font=\"\"></fb:like></div>\\r\\n                            </div>\\r\\n                <div style=\"width:1072px;margin:0 auto;float:left;height:0px;position:relative;z-index: 1000;\">\\r\\n        <style type=\"text/css\">\\r\\n            #backgroundOverlay{\\r\\n                background-color:transparent;\\r\\n                position:fixed;\\r\\n                top:59px;\\r\\n                left:0;\\r\\n                right:0;\\r\\n                bottom:0;\\r\\n                display:none;\\r\\n            }\\r\\n            .header_pop {\\r\\n                display:none;\\r\\n                position: absolute;\\r\\n                top: -1px;\\r\\n                height: auto;\\r\\n                width: 200px;\\r\\n                background: #666;\\r\\n                z-index:600;\\r\\n                left:800px;\\r\\n                padding:15px;\\r\\n                padding-top:0;\\r\\n            } \\r\\n            .header_pop a {\\r\\n                display: block;\\r\\n                color: white;\\r\\n                font-size: 16px;\\r\\n                padding-top:5px;\\r\\n            }\\r\\n            .header_pop span {\\r\\n                display: block;\\r\\n                color: white;\\r\\n                font-size: 16px;\\r\\n                font-weight: bold;\\r\\n                padding-top:10px;\\r\\n            }\\r\\n            #stts_r_nv, #ads_r_nv, #estate_r_nv, #jobs_r_nv {\\r\\n                cursor:pointer; \\r\\n            }\\r\\n            #stts_r_nv:hover, #ads_r_nv:hover, #estate_r_nv:hover, #jobs_r_nv:hover {\\r\\n                text-decoration:underline; \\r\\n                cursor:pointer; \\r\\n            }\\r\\n            .headclmenu span {\\r\\n                font-size: 16px;\\r\\n                background: none;\\r\\n                text-align: center;\\r\\n                float: left;\\r\\n                font-weight: normal;\\r\\n                padding: 24px 4px 17px 4px;\\r\\n                cursor: pointer;\\r\\n                color: #fff;\\r\\n            }\\r\\n            .headclmenu span:hover {background:url(/img/go.png) repeat-x right -170px;cursor:pointer}\\r\\n        </style>\\r\\n        <div class=\"header_pop\" id=\"states_pop\" style=\"left: 451px;\">\\r\\n            <span><a href=\"https://www.canadianlisted.com/listing\" title=\"All states\">All states</a></span>\\r\\n            <a href=\"https://www.canadianlisted.com/alberta/listing\" title=\"Alberta\">Alberta</a>\\r\\n            <a href=\"https://www.canadianlisted.com/british-columbia/listing\" title=\"British Columbia\">British Columbia</a>\\r\\n            <a href=\"https://www.canadianlisted.com/manitoba/listing\" title=\"Manitoba\">Manitoba</a>\\r\\n            <a href=\"https://www.canadianlisted.com/new-brunswick/listing\" title=\"New Brunswick\">New Brunswick</a>\\r\\n            <a href=\"https://www.canadianlisted.com/newfoundland/listing\" title=\"Newfoundland\">Newfoundland</a>\\r\\n            <a href=\"https://www.canadianlisted.com/northwest-territories/listing\" title=\"Northwest Territories\">Northwest Territories</a>\\r\\n            <a href=\"https://www.canadianlisted.com/nova-scotia/listing\" title=\"Nova Scotia\">Nova Scotia</a>\\r\\n            <a href=\"https://www.canadianlisted.com/nunavut/listing\" title=\"Nunavut\">Nunavut</a>\\r\\n            <a href=\"https://www.canadianlisted.com/ontario/listing\" title=\"Ontario\">Ontario</a>\\r\\n            <a href=\"https://www.canadianlisted.com/prince-edward-island/listing\" title=\"Prince Edward Island\">Prince Edward Island</a>\\r\\n            <a href=\"https://www.canadianlisted.com/quebec/listing\" title=\"Quebec\">Quebec</a>\\r\\n            <a href=\"https://www.canadianlisted.com/saskatchewan/listing\" title=\"Saskatchewan\">Saskatchewan</a>\\r\\n            <a href=\"https://www.canadianlisted.com/yukon-territory/listing\" title=\"Yukon Territory\">Yukon Territory</a>\\r\\n        </div>\\r\\n        <div class=\"header_pop\" id=\"forsale_pop\" style=\"left: 234px;\">\\r\\n            <span><a href=\"https://www.canadianlisted.com/listing\" title=\"All Categories\">All Categories</a></span>\\r\\n            <span>VEHICLES</span>\\r\\n            <a href=\"https://www.canadianlisted.com/cars/listing\">Cars</a>\\r\\n            <a href=\"https://www.canadianlisted.com/car-parts/listing\">Car parts</a>\\r\\n            <a href=\"https://www.canadianlisted.com/boats-yachts-and-parts/listing\">Boats, Yachts and Parts</a>\\r\\n            <a href=\"https://www.canadianlisted.com/bicycles/listing\">Bicycles</a>\\r\\n            <a href=\"https://www.canadianlisted.com/trailers-mobile-homes/listing\">Trailers & Mobile homes</a>\\r\\n            <a href=\"https://www.canadianlisted.com/motorcycles-and-parts/listing\">Motorcycles and Parts</a>\\r\\n            <a href=\"https://www.canadianlisted.com/vehicle-services/listing\">Vehicle Services</a>\\r\\n            <a href=\"https://www.canadianlisted.com/other-vehicles/listing\">Other Vehicles</a>\\r\\n            <a href=\"https://www.canadianlisted.com/airplanes-and-helicopters/listing\">Airplanes and Helicopters</a>\\r\\n            <span>ELECTRONICS</span>\\r\\n            <a href=\"https://www.canadianlisted.com/computers-and-parts/listing\">Computers and parts</a>\\r\\n            <a href=\"https://www.canadianlisted.com/tv-games-pc-games/listing\">TV games & PC games</a>\\r\\n            <a href=\"https://www.canadianlisted.com/movies-music/listing\">Movies & Music</a>\\r\\n            <a href=\"https://www.canadianlisted.com/photo-cameras/listing\">Photo & Cameras</a>\\r\\n            <a href=\"https://www.canadianlisted.com/audio-and-video/listing\">Audio and Video</a>\\r\\n            <a href=\"https://www.canadianlisted.com/phones/listing\">Phones</a>\\r\\n            <span>LEISURE TIME &amp; HOBBIES</span>\\r\\n            <a href=\"https://www.canadianlisted.com/tickets-traveling/listing\">Tickets & Traveling</a>\\r\\n            <a href=\"https://www.canadianlisted.com/books/listing\">Books</a>\\r\\n            <a href=\"https://www.canadianlisted.com/pets-and-animals/listing\">Pets and Animals</a>\\r\\n            <a href=\"https://www.canadianlisted.com/horses-rides/listing\">Horses & Rides</a>\\r\\n            <a href=\"https://www.canadianlisted.com/hobbies-collectors/listing\">Hobbies & Collectors</a>\\r\\n            <a href=\"https://www.canadianlisted.com/hunting-fishing/listing\">Hunting & Fishing</a>\\r\\n            <a href=\"https://www.canadianlisted.com/watches-jewelry/listing\">Watches & Jewelry</a>\\r\\n            <a href=\"https://www.canadianlisted.com/music-instruments/listing\">Music instruments</a>\\r\\n            <a href=\"https://www.canadianlisted.com/sport/listing\">Sport</a>\\r\\n            <span>HOUSEHOLD</span>\\r\\n            <a href=\"https://www.canadianlisted.com/art-antiques/listing\">Art & Antiques</a>\\r\\n            <a href=\"https://www.canadianlisted.com/kids-products-toys/listing\">Kids\\xe2\\x80\\x99 products & Toys</a>\\r\\n            <a href=\"https://www.canadianlisted.com/baby-carriages/listing\">Baby Carriages</a>\\r\\n            <a href=\"https://www.canadianlisted.com/clothes/listing\">Clothes</a>\\r\\n            <a href=\"https://www.canadianlisted.com/garden-house/listing\">Garden & House</a>\\r\\n            <a href=\"https://www.canadianlisted.com/furniture/listing\">Furniture</a>\\r\\n            <a href=\"https://www.canadianlisted.com/refrigerators-ovens-etc/listing\">Refrigerators, ovens etc.</a>\\r\\n        </div>\\r\\n        <div class=\"header_pop\" id=\"realestate_pop\" style=\"left: 333px;\">\\r\\n            <span><a href=\"https://www.canadianlisted.com/homes/listing\">REAL ESTATE</a></span>\\r\\n            <a href=\"https://www.canadianlisted.com/apartments/listing\">Apartments</a>\\r\\n            <a href=\"https://www.canadianlisted.com/houses/listing\">Houses</a>\\r\\n            <a href=\"https://www.canadianlisted.com/vacation/listing\">Vacation rentals</a>\\r\\n            <a href=\"https://www.canadianlisted.com/condo/listing\">Condos</a>\\r\\n            <a href=\"https://www.canadianlisted.com/commercial/listing\">Commercial buildings</a>\\r\\n        </div>\\r\\n        <div class=\"header_pop\" id=\"job_pop\" style=\"width: 250px; left: 854px; display: none;\">\\r\\n        </div>\\r\\n        <div id=\"backgroundOverlay\"></div>\\r\\n        <script type=\"text/javascript\">\\r\\n            window.onload = function(){\\r\\n            var overlay = document.getElementById(\\'backgroundOverlay\\');\\r\\n            var states_pop = document.getElementById(\\'states_pop\\');\\r\\n            var forsale_pop = document.getElementById(\\'forsale_pop\\');\\r\\n            var realestate_pop = document.getElementById(\\'realestate_pop\\');\\r\\n            var job_pop = document.getElementById(\\'job_pop\\');\\r\\n            document.onclick = function(e){\\r\\n                if(e.target.id == \\'backgroundOverlay\\'){\\r\\n                    states_pop.style.display = \\'none\\';\\r\\n                    forsale_pop.style.display = \\'none\\';\\r\\n                    realestate_pop.style.display = \\'none\\';\\r\\n                    job_pop.style.display = \\'none\\';\\r\\n                    overlay.style.display = \\'none\\';\\r\\n                }\\r\\n                if (e.target.id == \\'busiclin\\') {\\r\\n                    states_pop.style.display = \\'none\\';\\r\\n                    forsale_pop.style.display = \\'none\\';\\r\\n                    realestate_pop.style.display = \\'none\\';\\r\\n                    job_pop.style.display = \\'none\\';\\r\\n                    overlay.style.display = \\'none\\';\\r\\n                    overlay.style.display = \\'block\\';\\r\\n                    states_pop.style.display = \\'block\\';\\r\\n                }\\r\\n                if (e.target.id == \\'saleclin\\') {\\r\\n                    states_pop.style.display = \\'none\\';\\r\\n                    forsale_pop.style.display = \\'none\\';\\r\\n                    realestate_pop.style.display = \\'none\\';\\r\\n                    job_pop.style.display = \\'none\\';\\r\\n                    overlay.style.display = \\'none\\';\\r\\n                    overlay.style.display = \\'block\\';\\r\\n                    forsale_pop.style.display = \\'block\\';\\r\\n                }\\r\\n                if (e.target.id == \\'realclin\\') {\\r\\n                    states_pop.style.display = \\'none\\';\\r\\n                    forsale_pop.style.display = \\'none\\';\\r\\n                    realestate_pop.style.display = \\'none\\';\\r\\n                    job_pop.style.display = \\'none\\';\\r\\n                    overlay.style.display = \\'none\\';\\r\\n                    overlay.style.display = \\'block\\';\\r\\n                    realestate_pop.style.display = \\'block\\';\\r\\n                }\\r\\n                if (e.target.id == \\'jobs_r_nv\\') {\\r\\n                    states_pop.style.display = \\'none\\';\\r\\n                    forsale_pop.style.display = \\'none\\';\\r\\n                    realestate_pop.style.display = \\'none\\';\\r\\n                    job_pop.style.display = \\'none\\';\\r\\n                    overlay.style.display = \\'none\\';\\r\\n                    overlay.style.display = \\'block\\';\\r\\n                    job_pop.style.display = \\'block\\';\\r\\n                }\\r\\n            };\\r\\n        };\\r\\n        </script>\\r\\n    </div>\\r\\n    </div>\\r\\n</div>\\t<!-- End SiteTopMenu.tpl -->\\r\\n<div id=\"wrap\" style=\"float:none;width: 974px;left:0;right:0;margin-left:auto;margin-right:auto;overflow:hidden;margin-bottom:0;\"><div id=\"allclpages\">\\r\\n\\t<div id=\\'pageclcontainer\\' style=\"width:970px;\"><!-- Start page PageAdAd.tpl -->\\r\\n    <style>\\r\\n        #inarticle_wrapper_div {\\r\\n            display: inline-block;\\r\\n            float: none;\\r\\n        }\\r\\n        .itemclbox {\\r\\n            width:958px;\\r\\n            padding:5px;\\r\\n            margin-bottom:6px;\\r\\n            margin-top:0px;\\r\\n            position: relative;\\r\\n        }\\r\\n        .salecladleft {\\r\\n            width: 204px;\\r\\n            height: 154px;\\r\\n            text-align: center;\\r\\n            overflow: hidden;\\r\\n            position: relative;\\r\\n            padding:0;\\r\\n        }\\r\\n        .salecladimg {\\r\\n            height: 100%;\\r\\n            width: 100%;\\r\\n            position: relative;\\r\\n        }\\r\\n        .clo_img {\\r\\n            min-width: 100%;\\r\\n            min-height: 100%;\\r\\n        }\\r\\n        .info_tag {\\r\\n            display: inline-block;\\r\\n            max-width: 250px;\\r\\n            overflow: hidden;\\r\\n            text-overflow: ellipsis;\\r\\n            -webkit-border-radius: 0.3em;\\r\\n            -moz-border-radius: 0.3em;\\r\\n            border-radius: 0.3em;\\r\\n            -moz-background-clip: padding;\\r\\n            -webkit-background-clip: padding-box;\\r\\n            background-clip: padding-box;\\r\\n            color: #555;\\r\\n            padding: 0.2em .7em;\\r\\n            margin-right: 0;\\r\\n            background: #ddd;\\r\\n            white-space: nowrap;\\r\\n        }\\r\\n        .info_tag_abs {\\r\\n            position: absolute;\\r\\n            bottom: 8px;\\r\\n            right: 52px;\\r\\n            margin-right: 0;\\r\\n        }\\r\\n        .salecladtop {\\r\\n            width: 748px;\\r\\n            height: 135px;\\r\\n            padding-left: 5px;\\r\\n        }\\r\\n        .salecladgreen {\\r\\n            height: 18px;\\r\\n            width: 748px;\\r\\n            padding-left: 5px;\\r\\n            padding-top:0;\\r\\n            font-family: arial;\\r\\n            font-size: 12px;\\r\\n        }\\r\\n        .txt_itm_txt {\\r\\n            width: 100%;\\r\\n            padding-top: 5px;\\r\\n            font-size: 13px;\\r\\n            line-height: 18px;\\r\\n        }\\r\\n        .info_tag_moreinfo {\\r\\n            float: right;\\r\\n            margin-right: 0;\\r\\n            margin-top: -3px;\\r\\n        }\\r\\n        .salecladprprice {\\r\\n            float: right;\\r\\n            color: #880000;\\r\\n            font-weight: bold;\\r\\n            font-size: 17px;\\r\\n        }\\r\\n        .img_thumb {\\r\\n            display: table-cell;\\r\\n            vertical-align: middle;\\r\\n            float: none;\\r\\n            border: 0px;\\r\\n        }\\r\\n        .ad_small_pictures img {\\r\\n            max-width: 100%;\\r\\n            max-height: 100%;\\r\\n        }\\r\\n    </style>\\r\\n    <!-- Start SiteSearchBoxs.tpl -->\\r\\n    <!--[if lt IE 8]><style type=\"text/css\">\\r\\n#suggest1clcompcity, #suggest2clcompcity{display:none}\\r\\n</style><![endif]-->\\r\\n<div style=\"width:100%;text-align:center;margin-bottom:5px;\">\\r\\n            <div style=\"float:none;display:inline-block;\">\\r\\n                            \\t\\t\\t\\t\\t\\t<!-- /8755530/CL-details-top -->\\n\\t\\t\\t<div id=\\'div-gpt-ad-1573638734350-0\\' style=\"height: 250px;\">\\n\\t\\t\\t\\t<script>\\n\\t\\t\\t\\t\\tgoogletag.cmd.push(function() { googletag.display(\\'div-gpt-ad-1573638734350-0\\'); });\\n\\t\\t\\t\\t</script>\\n\\t\\t\\t</div>\\n\\t\\t\\t                    </div>\\r\\n    </div>\\r\\n\\r\\n<div id=\\'boxclsearch\\'>\\r\\n\\t<div class=\"boxclccc\" style=\"padding-left:120px;width:848px\">\\r\\n                \\t\\t\\t            \\t\\t\\t<div id=\"pageclsearch\">\\r\\n\\t\\t\\t\\t<form name=\"search\" method=\"get\" action=\"/listing/\" id=\"searchbox\">\\r\\n\\t\\t\\t\\t\\t<div class=\"innerclsearch\">\\r\\n                        <div class=\"coverclclear\">\\r\\n                            <input id=\"clearclcity\" type=\"button\" value=\"\" onclick=\"clearCity();\">\\r\\n                        </div>\\r\\n                                                                            <input type=\"hidden\" value=\"0\" name=\"state_id\" id=\"state\">\\r\\n                                                <input type=\"text\" id=\"comp1clcity\" name=\"citysearch\" class=\"inputclword\" value=\\'Rocky View, AB\\' onblur=\"if (this.value == \\'\\') this.value = \\'(Where? City, Province)\\';\" onfocus=\"if (this.value == \\'(Where? City, Province)\\') this.value = \\'\\';\"  /> \\r\\n                        <input name=\"keyword\" id=\"inputclkey1\" type=\"text\" class=\"inputclword\" value=\\'What are you looking for?\\' onblur=\"if (this.value == \\'\\') this.value = \\'What are you looking for?\\'\" onfocus=\"if (this.value == \\'What are you looking for?\\') this.value = \\'\\';\" onkeydown=\"EnterSubmit(event, this.form);\" /> \\r\\n\\t\\t\\t\\t\\t\\t<script language=\\'javascript\\' type=\\'text/javascript\\'>\\r\\n                        \\r\\n\\r\\n                        $( \"#comp1clcity\" ).autocomplete({\\r\\n                            //appendTo: \"#comp1clcity\",\\r\\n                            appendTo: \"#suggest1clcompcity\",\\r\\n                            source: function(request, response) {\\r\\n                                $.ajax ({\\r\\n                                    url: \\'/ajax/citystateautocomplete\\',\\r\\n                                    type: \"POST\",\\r\\n                                    dataType: \"json\",\\r\\n                                    data: { citysearch: request.term, state_id: $(\\'#state\\').val()},\\r\\n                                    success: response,\\r\\n                                     error: function () {\\r\\n                                         response([]);\\r\\n                                     }\\r\\n                                });\\r\\n                            },\\r\\n                            minLength: 2,\\r\\n                            messages: {\\r\\n                                noResults: \\'\\',\\r\\n                                results: function() {}\\r\\n                            },\\r\\n                            select: function (event, ui) {\\r\\n                                var label = ui.item.label;\\r\\n                                var value = ui.item.value;\\r\\n                                var city_id = ui.item.city_id;\\r\\n                                var state_id = ui.item.state_id;\\r\\n                               //store in session\\r\\n                              // document.getElementById(\\'city\\').value = city_id;\\r\\n                              document.getElementById(\\'state\\').value = state_id;\\r\\n\\r\\n                            }\\r\\n                        });\\r\\n\\r\\n                        $( \"#inputclkey1\" ).autocomplete({\\r\\n                            appendTo: \"#suggest2clcompcity\",\\r\\n                            source: function(request, response) {\\r\\n                                $.ajax ({\\r\\n                                    url: \\'/ajax/keywordcomplete\\',\\r\\n                                    type: \"POST\",\\r\\n                                    \\r\\n                                    data: { term: request.term },\\r\\n                                    dataType: \"json\",\\r\\n                                    success: response,\\r\\n                                     error: function () {\\r\\n                                         response([]);\\r\\n                                     }\\r\\n                                });\\r\\n                            },\\r\\n                            minLength: 2,\\r\\n                            messages: {\\r\\n                                noResults: \\'\\',\\r\\n                                results: function() {}\\r\\n                            },\\r\\n                        });\\r\\n                        \\r\\n                        \\r\\n\\r\\n\\r\\n                        </script>\\r\\n                            <script language=\\'javascript\\' type=\\'text/javascript\\'>\\r\\n                                function clearAutoComp(){\\r\\n                                        document.getElementById(\"comp1clcity\").value = \"(Where? City, Province)\";\\r\\n                                }\\r\\n                                function clearCity(){\\r\\n                                        document.getElementById(\"comp1clcity\").value = \"\";\\r\\n                                        document.getElementById(\"comp1clcity\").focus();\\r\\n                                        document.getElementById(\"state\").value = 0;\\r\\n                                }\\r\\n                            </script>                   \\r\\n\\t\\t\\t\\t\\t</div>\\r\\n                    <div>\\r\\n                        <input type=\"submit\" value=\"Search\" style=\"font-weight:normal;border:0;margin-left:0px;height:25px;font-size:16px\" class=\"inputclsubmit\" onClick=\"save_search($(\\'keyword\\').value);\" />\\r\\n                    </div>\\r\\n                    \\t\\t\\t\\t</form>\\r\\n\\t\\t\\t</div>\\r\\n\\t\\t \\r\\n\\t\\t           \\r\\n\\t\\t</div>\\r\\n\\t\\t\\t\\t\\t<div id=\"advcladv\"></div>\\r\\n\\t\\t\\t\\t            <div id=\"linksclcrumb\">\\r\\n                <div style=\"width:550px; margin-left:120px\" itemscope itemtype=\"http://data-vocabulary.org/Breadcrumb\">\\r\\n                                           <a href=\"//www.canadianlisted.com/listing\">All Classifieds</a>  \\r\\n                        / <a href=\"//www.canadianlisted.com/alberta/listing\" itemprop=\"url\"><span itemprop=\"title\">Alberta</span></a>                        / <a href=\"/pets-and-animals/listing\" itemprop=\"url\"><span itemprop=\"title\">Pets and Animals</span></a>                        / <a href=\"https://rockyview.canadianlisted.com/listing\" itemprop=\"url\"><span itemprop=\"title\">Rocky View</span></a>     \\r\\n                                    </div>\\r\\n            </div>\\r\\n         \\r\\n</div>\\r\\n<div class=\\'allclclear\\'></div>    <!-- End SiteSearchBox -->\\r\\n<div class=\"pagecl5box\">\\r\\n\\t     \\t<div class=\"pageclwideadv\" style=\"text-align: center;\">\\r\\n                            <div style=\"float:none;display:inline-block;\">\\r\\n                    \\t\\t\\t\\t\\t\\t<!-- /8755530/CL-details-middle-1 -->\\n\\t\\t\\t<div id=\\'div-gpt-ad-1573638832821-0\\' style=\\'width: 728px; height: 90px;\\'>\\n\\t\\t\\t\\t<script>\\n\\t\\t\\t\\t\\tgoogletag.cmd.push(function() { googletag.display(\\'div-gpt-ad-1573638832821-0\\'); });\\n\\t\\t\\t\\t</script>\\n\\t\\t\\t</div>\\n\\t\\t\\t                </div>\\r\\n                    </div>\\r\\n                <div style=\"width:100%;height:10px;\"></div>\\r\\n            <style>\\n        #adcsacl {\\n            width: 769px;\\n            height:156px;\\n            box-sizing: border-box;\\n            overflow:hidden;\\n        }\\n        #adcsacl2 {\\n            width: 769px;\\n            box-sizing: border-box;\\n            float:right;\\n            overflow:hidden;\\n        }\\n    </style>\\n<script type=\"text/javascript\" charset=\"utf-8\">\\nvar pageOptions = {\\n    \\'pubId\\' : \\'pub-0318786078362354\\',\\n    \\'query\\' : \\'Pied ball pythons available\\',\\n    \"styleId\": \"8932115563\",\\n    \\'channel\\' : \\'6197064136\\',\\n    \\'hl\\' : \\'en\\'\\n};\\nvar adblock1 = {\\n    \\'container\\' : \\'adcsaclblue\\',\\n    \\'number\\' : \\'1\\',\\n    \\'width\\' : \\'100%\\',\\n    \\'lines\\' : \\'2\\',\\n};\\nvar adblock2 = {\\n    \\'container\\' : \\'adcsaclblue2\\',\\n    \\'number\\' : \\'2\\',\\n    \\'width\\' : \\'100%\\',\\n    \\'lines\\' : \\'2\\',\\n};\\n_googCsa(\\'ads\\', pageOptions, adblock1,adblock2);\\n</script>\\n        \\t<div id=\"adcsacl\" style=\"width:100%;position: relative;overflow:hidden;\">\\n        \\t<div id=\"adcsaclblue\"></div>\\n            <div style=\"position: absolute;top:0;bottom:0;z-index:-1;\"><img src=\"https://www.canadianlisted.com/img/csa_background_desk.png\" alt=\"\"></div>\\n        </div>\\n        \\t<div class=\"boxclccc boxclccccsa\" style=\"margin-top:5px\" itemscope itemtype=\"http://schema.org/Product\"> \\r\\n                 \\t<div style=\"width:950px;text-align:center;padding-left:10px;padding-right:10px\">\\r\\n     \\t\\t\\t<h1 style=\"clear: both;float:none\" itemprop=\"name\">\\r\\n                    Pied ball pythons available \\r\\n                    in \\r\\n                                        \\tRocky View,\\r\\n                     \\r\\n                    Alberta\\r\\n            \\t\\t                    \\t for sale  \\r\\n                    \\t\\t\\t\\t</h1>\\r\\n     \\t\\t</div>\\r\\n\\t\\t\\t<div style=\"width:100%;clear:both;float:none\">\\r\\n\\t\\t\\t\\t\\t    \\t\\t\\t\\t    \\t\\t\\t\\t<div class=\"itemcl1adv\">\\r\\n                                                            \\t\\t\\t\\t\\t\\t<!-- /8755530/cl-details-middle-3 -->\\n\\t\\t\\t<div id=\\'div-gpt-ad-1573731562392-0\\' style=\\'width: 300px; height: 250px;\\'>\\n\\t\\t\\t\\t<script>\\n\\t\\t\\t\\t\\tgoogletag.cmd.push(function() { googletag.display(\\'div-gpt-ad-1573731562392-0\\'); });\\n\\t\\t\\t\\t</script>\\n\\t\\t\\t</div>\\n\\t\\t\\t                            \\t    \\t\\t\\t\\t\\t</div>\\r\\n\\t\\t\\t\\t\\t      \\r\\n\\t\\t\\t\\t                                                            <div class=\"itemcl1photo\">\\r\\n                        \\t                            <a href=\"/ad/gallery/4173999/\" target=\"_blank\" rel=\"nofollow\">\\r\\n                                <img itemprop=\"image\" src=\"https://images.canadianlisted.com/nlarge/pied-ball-pythons-available_9629159.jpg\" alt=\"Pied ball pythons available\" id=\"itemcl2photo\" />\\r\\n                            </a>\\r\\n                        </div>\\r\\n                        \\t\\t\\t\\t                    \\t<div class=\"itemcl3photo\" style=\"clear:both;\">\\r\\n    \\t\\t\\t\\t\\t\\t                            \\t                                <div>\\r\\n                                    <div style=\"display: table-cell;vertical-align: middle;float: none;border:0px;\">\\r\\n                                                                                <a href=\"/ad/gallery/4173999/\" target=\"_blank\" rel=\"nofollow\"><img src=\"https://images.canadianlisted.com/nsmall/pied-ball-pythons-available_9629159.jpg\" alt=\"Pied ball pythons available\" /></a>\\r\\n                                                                            </div>\\r\\n                                </div>\\r\\n                                                                                                                    <div style=\"margin-right:0;\">\\r\\n                                <a href=\"/ad/gallery/4173999/\" height=\"79\" rel=\"nofollow\"><img src=\"//www.canadianlisted.com/img/more_ads.png\" alt=\"Pied ball pythons available\" /></a>\\r\\n                            </div>\\r\\n                                    \\t\\t\\t\\t</div>\\r\\n                                    \\t\\t\\t</div>\\r\\n            \\t\\t\\t<div class=\"itemclinfo\" itemprop=\"offers\" itemscope itemtype=\"http://schema.org/Offer\" style=\"margin-top:10px; margin-right: -10px;clear: both;\">\\r\\n\\t\\t\\t\\t                \\t<meta itemprop=\"priceCurrency\" content=\"CAD\" />\\r\\n                \\t\\t\\t\\t                \\t<div style=\"width:100%;margin-bottom:10px\">\\r\\n                                                    <a class=\"allclfont2\" href=\"/ad/contact/4173999\" rel=\"nofollow\" title=\"Reply to seller\">\\r\\n                                <span class=\"blue-btn\">\\r\\n                                    <span class = \"btn-text\">\\r\\n                                        <img src=\"//www.canadianlisted.com/img/ad_reply.png\" alt=\"contact seller\" style=\"vertical-align: middle; margin-top: -5px; margin-right:10px\"/>\\r\\n                                                                                    <span>Reply to Seller</span>\\r\\n                                                                            </span>\\r\\n                                 </span>\\r\\n                            </a>\\r\\n                        \\t\\t\\t\\t\\t</div>\\r\\n                    <a class=\"bl_fnt\" href=\"//emailmetrack.com/click.ashx?CID=278534&AFID=396569\" rel=\"nofollow\" title=\"\" target=\"_blank\">\\r\\n                        <span class=\"blue-btn\" style = \"background-color: #019e4b; border-color:#019e4b;\">\\r\\n                            <span style=\"font-size: 25px;display: block;font-weight: bold;float: left;margin-top: 3px; margin-right:10px;\">$</span>\\r\\n                            <span class = \"btn-text style = font-size:16px\">\\r\\n                                Check Your Free Credit Score\\r\\n                            </span>\\r\\n                        </span>\\r\\n                    </a>\\r\\n\\r\\n                                                \\r\\n                                 \\t<div style=\"width:265px; height:200px; float:right; margin-right:16px; margin-top:30px; margin-bottom 10px; display:block\">\\r\\n                        <div style=\"margin-right:10px;margin-top:2px\">\\r\\n                        \\r\\n                            <a href=\"//pinterest.com/pin/create/button/?url=https%3A%2F%2Frockyview.canadianlisted.com%2Fpets-and-animals%2Fpied-ball-pythons-available_4173999.html&media=https%3A%2F%2Fimages.canadianlisted.com%2Fnlarge%2Fpied-ball-pythons-available_9629159.jpg\" class=\"pin-it-button\" count-layout=\"none\">\\r\\n                                <img border=\"0\" src=\"//www.canadianlisted.com/img/social/pinterest.png\" title=\"Pin It\" />\\r\\n                            </a>\\r\\n                         \\r\\n                        \\r\\n                            <a class rel=\"nofollow\" target=\"_blank\" href=\"//www.facebook.com/share.php?u=https://rockyview.canadianlisted.com/pets-and-animals/pied-ball-pythons-available_4173999.html\" title=\"Share on Facebook\" onclick=\"window.open(\\'https://www.facebook.com/share.php?u=https://rockyview.canadianlisted.com/pets-and-animals/pied-ball-pythons-available_4173999.html\\', \\'newWindow\\', \\'width=816, height=523\\'); return false;\">\\r\\n                                <img border=\"0\" src=\"//www.canadianlisted.com/img/social/facebook.png\" title=\"Share on Facebook\" />\\r\\n                            </a>\\r\\n                            <a rel=\"nofollow\" target=\"_blank\" href=\"//twitter.com/home?status=Pied ball pythons available%20-%20https://rockyview.canadianlisted.com/pets-and-animals/pied-ball-pythons-available_4173999.html\" title=\"Share on Twitter\" onclick=\"window.open(\\'https://twitter.com/home?status=Pied ball pythons available%20-%20https://rockyview.canadianlisted.com/pets-and-animals/pied-ball-pythons-available_4173999.html\\', \\'newWindow\\', \\'width=816, height=523\\'); return false;\">\\r\\n                                <img border=\"0\" src=\"//www.canadianlisted.com/img/social/twitter.png\" title=\"Tweet\"/>\\r\\n                            </a>\\r\\n                            <a href=\"https://plus.google.com/share?url=https%3A%2F%2Frockyview.canadianlisted.com%2Fpets-and-animals%2Fpied-ball-pythons-available_4173999.html\" onclick=\"javascript:window.open(this.href,\\'\\', \\'menubar=no,toolbar=no,resizable=yes,scrollbars=yes,height=600,width=600\\');return false;\">\\r\\n                                <img src=\"//www.canadianlisted.com/img/social/google-plus.png\" alt=\"Share on Google+\"/>\\r\\n                            </a>\\r\\n                            <a href=\"//www.reddit.com/submit\" onclick=\"window.location = \\'//www.reddit.com/submit?url=\\' + encodeURIComponent(window.location); return false\">\\r\\n                                <img src=\"//www.canadianlisted.com/img/social/reddit.png\" alt=\"Share on Reddit\"/>\\r\\n                            </a>\\r\\n\\r\\n                        \\r\\n                        </div>\\r\\n                     </div>\\r\\n                                                \\t\\t\\t\\t\\t<a href=\"/ad/login/4173999\" rel=\"nofollow\" title=\"Edit your ad\">\\r\\n                    \\t<strong>\\r\\n                       \\t\\t<span style = \"background:#FFA500\" class = \"blue-btn btn-text\">\\r\\n                                <span style = \"margin-left:40px\"> Edit your ad</span></span>\\r\\n                        </strong>\\r\\n                    </a>\\r\\n                    <br/>\\r\\n\\t\\t\\t\\t\\t<a href=\"/ad/abuse/4173999\" rel=\"nofollow\" title=\"Report abuse\">\\r\\n                       \\t<strong>\\r\\n                        \\t<span style = \"background:#D72D32;\" class = \"blue-btn btn-text\">\\r\\n                                <img src=\"//www.canadianlisted.com/img/alert-circled.png\" alt=\"report scam\" style=\"height:31px;vertical-align: middle; margin-right:10px; text-align: left;\"/>\\r\\n                                <span style=\"vertical-align: middle;\">Report Abuse</span>\\r\\n                        </strong>\\r\\n                    </a>\\r\\n                \\t\\t\\t\\t\\t\\t\\t\\t<div style=\"width:100%;height:10px\"></div><br/>      \\r\\n            </div>\\r\\n            <div class=\"itemcl1text\">\\r\\n                                <span style=\" width:100%; color: #6DB183; font-size:30px; font-weight:500; margin-bottom: 10px;\">\\r\\n                                            <span>&nbsp;&nbsp;&mdash;&mdash;</span>\\r\\n                       \\r\\n                </span>\\r\\n                                <div itemprop=\"description\" style=\"margin-top: 10px;float:none;\">\\r\\n                    <p>\\r\\n                        <span id=\"itemcl2text\">\\r\\n                                                            Pied ball pythons,Male and Female available and ready to go to any python loving and caring home.They male weighs 750 grams and the female weighs 850 grams.If interested and willing to own one of my pythons contact us for more photos and information. or just call us at .\\r\\n                                                    </span>\\r\\n                    </p>\\r\\n                                    </div> \\r\\n                                                            <div style=\"width:575px;text-align:center;\">\\r\\n                            <script type=\"text/javascript\"><!--\\r\\n                            google_ad_client = \"ca-pub-4112973349901582\";\\r\\n                            /* CL-details-video */\\r\\n                            google_ad_slot = \"4810669924\";\\r\\n                            google_ad_width = 575;\\r\\n                            google_ad_height = 250;\\r\\n                            //-->\\r\\n                            </script>\\r\\n                            <script type=\"text/javascript\"\\r\\n                            src=\"//pagead2.googlesyndication.com/pagead/show_ads.js\">\\r\\n                            </script>\\r\\n                        </div>\\r\\n                                                </div>\\r\\n\\r\\n            <div style=\"width:950px;margin-left:10px;display:block; margin-bottom: 20px; margin-top:5px\">\\r\\n                                                                                                                                                                                     \\r\\n                     \\r\\n                                                                                                                                                                                                                           <br />\\r\\n                        <div style=\"width:436px; display: inline; color:gray; font-size:14; margin-bottom: 10px;\">\\r\\n                            \\r\\n                            <div >\\r\\n\\r\\n                                <span>Category:&nbsp;</span>\\r\\n                                <a style= \"color:gray;\" href=\"/pets-and-animals/listing\" title=\"Pets and Animals\">Pets and Animals</a>\\r\\n                                <span style = \"margin-left: 2px; margin-right: 2px;\">&nbsp;|&nbsp;<span>\\r\\n\\r\\n                                Address:&nbsp;\\r\\n                                                                    <a style= \"color:gray;\" href=\\'https://rockyview.canadianlisted.com/listing\\' title=\"Rocky View\">Rocky View</a>,&nbsp;\\r\\n                                                                                                    <a  style= \"color:gray;\" href=\"//www.canadianlisted.com/alberta/listing\" title=\"Alberta\">\\r\\n                                        Alberta\\r\\n                                    </a>\\r\\n                                                            \\r\\n\\r\\n                        </div>\\r\\n                       \\r\\n            </div>\\r\\n\\r\\n\\r\\n                         \\r\\n                </div>\\r\\n            \\t\\t\\t\\t\\t\\t\\t</div>\\r\\n    <div style=\"width:100%;margin-top:10px;\">\\r\\n        <div id=\"adcsacl2\" style=\"width:100%;\">\\r\\n            <div id=\"adcsaclblue2\"></div>\\r\\n        </div>\\r\\n    </div>\\r\\n    <div style=\"width:969px;margin-top:5px;\">\\r\\n            <div style=\"width:100%;text-align:center;\">\\r\\n            <div style=\"float:none;display:inline-block;\">\\r\\n                \\t\\t\\t\\t            </div>\\r\\n        </div>\\r\\n         \\t\\t\\t  \\t\\t\\t\\t\\t<div class=\"itemclbox\" id=\"ad_4177665\" itemprop=\"itemListElement\" itemscope itemtype=\"http://schema.org/Product\">\\n\\t\\t\\t<div class=\"salecladleft\">\\n\\t\\t\\t\\t\\t\\t<div class=\"salecladimg\">\\n\\t\\t\\t\\t<a href=\"https://edmonton.canadianlisted.com/pets-and-animals/piebald-and-albino-ball-pythons-for-sale_4177665.html\" title=\"1 year old each.\\nEating frozen thawed or live rats.\" class=\"allclfont2\">\\n\\t\\t\\t\\t\\t<img class=\"clo_img\" border=\"0\" src=\"https://images.canadianlisted.com/nssmall/piebald-and-albino-ball-pythons-for-sale_9637046.jpg\" alt=\"1 year old each.\\nEating frozen thawed or live rats.\" />\\n\\t\\t\\t\\t</a>\\n\\t\\t\\t\\t<span class=\"info_tag info_tag_abs\"><a href=\"https://edmonton.canadianlisted.com/ad/gallery/4177665/\">View Images</a></span>\\n\\t\\t\\t\\t\\t\\t</div>\\n\\t\\t</div>\\n\\t\\t<div class=\"salecladtop\" itemprop=\"offers\" itemscope itemtype=\"http://schema.org/Offer\">\\n\\t\\t\\t\\t\\t<a href=\"https://edmonton.canadianlisted.com/pets-and-animals/piebald-and-albino-ball-pythons-for-sale_4177665.html\" title=\"1 year old each.\\nEating frozen thawed or live rats.\" class=\"allclfont2\" itemprop=\"url\"><span itemprop=\"name\">Piebald and Albino Ball Pythons for sale</span></a>\\n\\t\\t\\t\\t<div style=\"width:100%;padding-top:5px;font-size:16px;line-height:18px\">\\n\\t\\t\\t<span itemprop=\"description\">\\n\\t\\t\\t\\t1 year old each.\\nEating frozen thawed or live rats.\\nBreeding size.\\nFriendly\\nMale/Females\\nNo trades- looking for cash...\\n\\t\\t\\t</span>\\n\\t\\t</div>\\n\\t</div>\\n\\t<div class=\"salecladgreen\">\\n\\t\\t\\t\\t\\t<span class=\"info_tag\">\\n\\t\\t\\t\\t<a href=\\'https://edmonton.canadianlisted.com/pets-and-animals/listing\\'>Pets and Animals Edmonton</a>\\n\\t\\t\\t</span>\\n\\t\\t\\t\\t\\t\\t\\t<span class=\"info_tag info_tag_moreinfo\">\\n\\t\\t\\t\\t<a href=\\'https://edmonton.canadianlisted.com/pets-and-animals/piebald-and-albino-ball-pythons-for-sale_4177665.html\\'>More info</a>\\n\\t\\t\\t</span>\\n\\t\\t\\t</div>\\n\\t\\t\\t</div>        \\t  \\t\\t\\t\\t\\t<div class=\"itemclbox\" id=\"ad_4235249\" itemprop=\"itemListElement\" itemscope itemtype=\"http://schema.org/Product\">\\n\\t\\t\\t<div class=\"salecladleft\">\\n\\t\\t\\t\\t\\t\\t<div class=\"salecladimg\">\\n\\t\\t\\t\\t<a href=\"https://rockyview.canadianlisted.com/pets-and-animals/carpet-python_4235249.html\" title=\"Carpet python for sale about 3yrs old. Has never\" class=\"allclfont2\">\\n\\t\\t\\t\\t\\t<img class=\"clo_img\" border=\"0\" src=\"https://images.canadianlisted.com/nssmall/carpet-python_9731410.jpg\" alt=\"Carpet python for sale about 3yrs old. Has never\" />\\n\\t\\t\\t\\t</a>\\n\\t\\t\\t\\t<span class=\"info_tag info_tag_abs\"><a href=\"https://rockyview.canadianlisted.com/ad/gallery/4235249/\">View Images</a></span>\\n\\t\\t\\t\\t\\t\\t</div>\\n\\t\\t</div>\\n\\t\\t<div class=\"salecladtop\" itemprop=\"offers\" itemscope itemtype=\"http://schema.org/Offer\">\\n\\t\\t\\t\\t\\t<a href=\"https://rockyview.canadianlisted.com/pets-and-animals/carpet-python_4235249.html\" title=\"Carpet python for sale about 3yrs old. Has never\" class=\"allclfont2\" itemprop=\"url\"><span itemprop=\"name\">CARPET PYTHON</span></a>\\n\\t\\t\\t\\t<div style=\"width:100%;padding-top:5px;font-size:16px;line-height:18px\">\\n\\t\\t\\t<span itemprop=\"description\">\\n\\t\\t\\t\\tCarpet python for sale about 3yrs old. Has never bitten, snake is handled a lot. Good starter snake as it wont grow...\\n\\t\\t\\t</span>\\n\\t\\t</div>\\n\\t</div>\\n\\t<div class=\"salecladgreen\">\\n\\t\\t\\t\\t\\t<span class=\"info_tag\">\\n\\t\\t\\t\\t<a href=\\'https://rockyview.canadianlisted.com/pets-and-animals/listing\\'>Pets and Animals Rocky View</a>\\n\\t\\t\\t</span>\\n\\t\\t\\t\\t\\t\\t\\t<span class=\"info_tag info_tag_moreinfo\">\\n\\t\\t\\t\\t<a href=\\'https://rockyview.canadianlisted.com/pets-and-animals/carpet-python_4235249.html\\'>More info</a>\\n\\t\\t\\t</span>\\n\\t\\t\\t</div>\\n\\t\\t\\t</div>        \\t  \\t\\t\\t\\t\\t<div class=\"itemclbox\" id=\"ad_4225429\" itemprop=\"itemListElement\" itemscope itemtype=\"http://schema.org/Product\">\\n\\t\\t\\t<div class=\"salecladleft\">\\n\\t\\t\\t\\t\\t\\t<div class=\"salecladimg\" style=\"background-color:#fff;float:none;height:154px;display:table-cell;vertical-align:middle;\">\\n\\t\\t\\t\\t<img src=\"//www.canadianlisted.com/img/ad_img/pets_and_animals.png\"\\r\\n\\t style=\"max-width:100%;max-height:100%;\" alt=\"No image\" />\\r\\t\\t\\t\\t\\t\\t\\t</div>\\n\\t\\t</div>\\n\\t\\t<div class=\"salecladtop\" itemprop=\"offers\" itemscope itemtype=\"http://schema.org/Offer\">\\n\\t\\t\\t\\t\\t<a href=\"https://calgary.canadianlisted.com/pets-and-animals/meet-beau_4225429.html\" title=\"He is a normal ball python, about 3.5 feet long. He\" class=\"allclfont2\" itemprop=\"url\"><span itemprop=\"name\">Meet Beau</span></a>\\n\\t\\t\\t\\t<div style=\"width:100%;padding-top:5px;font-size:16px;line-height:18px\">\\n\\t\\t\\t<span itemprop=\"description\">\\n\\t\\t\\t\\tHe is a normal ball python, about 3.5 feet long. He eats well on frozen medium rats. He thinks he is a boa because he...\\n\\t\\t\\t</span>\\n\\t\\t</div>\\n\\t</div>\\n\\t<div class=\"salecladgreen\">\\n\\t\\t\\t\\t\\t<span class=\"info_tag\">\\n\\t\\t\\t\\t<a href=\\'https://calgary.canadianlisted.com/pets-and-animals/listing\\'>Pets and Animals Calgary</a>\\n\\t\\t\\t</span>\\n\\t\\t\\t\\t\\t\\t\\t<span class=\"info_tag info_tag_moreinfo\">\\n\\t\\t\\t\\t<a href=\\'https://calgary.canadianlisted.com/pets-and-animals/meet-beau_4225429.html\\'>More info</a>\\n\\t\\t\\t</span>\\n\\t\\t\\t</div>\\n\\t\\t\\t</div>        \\t  \\t\\t\\t\\t\\t<div class=\"itemclbox\" id=\"ad_4278400\" itemprop=\"itemListElement\" itemscope itemtype=\"http://schema.org/Product\">\\n\\t\\t\\t<div class=\"salecladleft\">\\n\\t\\t\\t\\t\\t\\t<div class=\"salecladimg\" style=\"background-color:#fff;float:none;height:154px;display:table-cell;vertical-align:middle;\">\\n\\t\\t\\t\\t<img src=\"//www.canadianlisted.com/img/ad_img/pets_and_animals.png\"\\r\\n\\t style=\"max-width:100%;max-height:100%;\" alt=\"No image\" />\\r\\t\\t\\t\\t\\t\\t\\t</div>\\n\\t\\t</div>\\n\\t\\t<div class=\"salecladtop\" itemprop=\"offers\" itemscope itemtype=\"http://schema.org/Offer\">\\n\\t\\t\\t\\t\\t<a href=\"https://bellevue-ab.canadianlisted.com/pets-and-animals/current-availability_4278400.html\" title=\"We are making a trip from Edmonton to Abbotsford\" class=\"allclfont2\" itemprop=\"url\"><span itemprop=\"name\">Current Availability</span></a>\\n\\t\\t\\t\\t<div style=\"width:100%;padding-top:5px;font-size:16px;line-height:18px\">\\n\\t\\t\\t<span itemprop=\"description\">\\n\\t\\t\\t\\tWe are making a trip from Edmonton to Abbotsford Reptile show April 25th and 26th, 2015. Have a look at our website...\\n\\t\\t\\t</span>\\n\\t\\t</div>\\n\\t</div>\\n\\t<div class=\"salecladgreen\">\\n\\t\\t\\t\\t\\t<span class=\"info_tag\">\\n\\t\\t\\t\\t<a href=\\'https://bellevue-ab.canadianlisted.com/pets-and-animals/listing\\'>Pets and Animals Bellevue</a>\\n\\t\\t\\t</span>\\n\\t\\t\\t\\t\\t\\t\\t<span class=\"info_tag info_tag_moreinfo\">\\n\\t\\t\\t\\t<a href=\\'https://bellevue-ab.canadianlisted.com/pets-and-animals/current-availability_4278400.html\\'>More info</a>\\n\\t\\t\\t</span>\\n\\t\\t\\t</div>\\n\\t\\t\\t</div>        \\t  \\t\\t\\t  \\t\\t\\t  \\t\\t\\t  \\t\\t\\t  \\t\\t\\t  \\t\\t\\t  \\t\\t\\t  \\t\\t\\t  \\t\\t\\t  \\t\\t\\t  \\t\\t\\t  \\t\\t\\t  \\t\\t\\t  \\t\\t\\t    </div>\\r\\n\\t\\t            <div style=\"padding-bottom: 6px;width:728px;height:92px;margin-left:121px;\">\\r\\n                <div>\\r\\n                                            \\t\\t\\t\\t\\t\\t<!-- /8755530/CL-details-middle-2 -->\\n\\t\\t\\t<div id=\\'div-gpt-ad-1573638914931-0\\' style=\\'width: 728px; height: 90px;\\'>\\n\\t\\t\\t\\t<script>\\n\\t\\t\\t\\t\\tgoogletag.cmd.push(function() { googletag.display(\\'div-gpt-ad-1573638914931-0\\'); });\\n\\t\\t\\t\\t</script>\\n\\t\\t\\t</div>\\n\\t\\t\\t                                    </div>\\r\\n                \\r\\n            </div>\\r\\n          \\t\\r\\n\\t<br />\\r\\n<!-- End page PageAdAd.tpl -->\\r\\n</div><!-- Start SiteFooter.tpl -->\\r\\n</div>\\t\\r\\n\\t\\t<style type=\"text/css\">.non_float div{float:none;} .non_float {overflow:hidden;width:100%;}</style>\\r\\n\\t\\t<div class=\"non_float\">\\r\\n\\t\\t\\t<script async id=\"vd503376901\" src=\"https://tags.viewdeos.com/listed/player-canadianlisted.js\"></script>\\r\\n\\t\\t</div>\\r\\n\\t\\r\\n</div>        </div><!-- End of allclpages -->\\r\\n    <div id=\"pageclpush\"></div>\\r\\n    <div class=\"allclribbon\" id=\"allclribottom\">\\r\\n                   <div class=\"pageclfoot\">\\r\\n            <div class=\"deskclfooter\" style=\"border: none; margin-top: 0; padding: 0;margin-left:5px;\">\\r\\n                <div style=\"float:left;width:700px;padding:0\">\\r\\n                    <div class=\"allclfoot\">\\r\\n                        <div class=\"footcllinks\">\\r\\n                                                        <strong>\\r\\n                                <a href=\"//www.canadianlisted.com/about_us.html\" class=\"linkclfoot\">About us</a> |\\r\\n                                <a href=\"//www.canadianlisted.com/management.html\" class=\"linkclfoot\">Management</a> |\\r\\n                                <a href=\"//www.canadianlisted.com/contact.html\" class=\"linkclfoot\">Contact us</a> |\\r\\n                                <a href=\"//www.canadianlisted.com/safety.html\" class=\"linkclfoot\">Safety</a> |\\r\\n                                <a href=\"//www.canadianlisted.com/terms.html\" class=\"linkclfoot\">Rules</a> &\\r\\n                                <a href=\"//www.canadianlisted.com/privacy.html\" class=\"linkclfoot\">Policies</a> |\\r\\n                                <a href=\"//www.canadianlisted.com/testimonials.html\" class=\"linkclfoot\">Testimonials</a>\\r\\n                            </strong><br />\\r\\n                            <a href=\"//www.canadianlisted.com/sitemap.html\" class=\"linkclfoot\">Sitemap</a>\\r\\n                            <a href=\"//www.canadianlisted.com/sitemap_2.html\" class=\"linkclfoot\">2</a>\\r\\n                             <a href=\"//www.canadianlisted.com/sitemap_3.html\" class=\"linkclfoot\">3</a> |\\r\\n                            <a href=\"/popular/?state_id=1&city_id=6412\" class=\"linkclfoot\">Popular searches</a>\\r\\n                                                            <a href=\"/popular/index/2?state_id=1&city_id=6412\" class=\"linkclfoot\">\\r\\n                                    2\\r\\n                                </a>\\r\\n                                                            <a href=\"/popular/index/3?state_id=1&city_id=6412\" class=\"linkclfoot\">\\r\\n                                    3\\r\\n                                </a>\\r\\n                                                            <a href=\"/popular/index/4?state_id=1&city_id=6412\" class=\"linkclfoot\">\\r\\n                                    4\\r\\n                                </a>\\r\\n                                                            <a href=\"/popular/index/5?state_id=1&city_id=6412\" class=\"linkclfoot\">\\r\\n                                    5\\r\\n                                </a>\\r\\n                                                            <a href=\"/popular/index/6?state_id=1&city_id=6412\" class=\"linkclfoot\">\\r\\n                                    6\\r\\n                                </a>\\r\\n                                                            <a href=\"/popular/index/7?state_id=1&city_id=6412\" class=\"linkclfoot\">\\r\\n                                    7\\r\\n                                </a>\\r\\n                                                            <a href=\"/popular/index/8?state_id=1&city_id=6412\" class=\"linkclfoot\">\\r\\n                                    8\\r\\n                                </a>\\r\\n                                                                                    <br /><br />\\r\\n                                                    </div>\\r\\n                                            </div>\\r\\n                    <div style=\"clear:both;height:10px;width:100%\">\\r\\n                    </div>\\r\\n                    <div>\\r\\n                        <b>Copyright &copy; 2023 CanadianListed.com, All Rights Reserved.</b><br />\\r\\n                        Designated trademarks and brands are the property of their respective owners.<br /><br />\\r\\n                    </div>\\r\\n\\r\\n                </div>\\r\\n            </div>\\r\\n        </div>\\r\\n                <div style=\"clear:both\"></div>\\r\\n    </div>\\r\\n<!-- End SiteFooter.tpl -->\\r\\n</body>\\r\\n</html>\\r'"
      ]
     },
     "execution_count": 6,
     "metadata": {},
     "output_type": "execute_result"
    }
   ],
   "source": [
    "headers={'User-Agent': 'Mozilla/5.0 (Windows NT 10.0; Win64; x64) AppleWebKit/537.36 (KHTML, like Gecko) Chrome/102.0.0.0 Safari/537.36'}\n",
    "resp = requests.get(http, headers= headers)\n",
    "resp.content"
   ]
  },
  {
   "cell_type": "code",
   "execution_count": null,
   "id": "1ba78b87-8aa9-4379-908e-3359514b8d2d",
   "metadata": {},
   "outputs": [],
   "source": [
    "name\tdescription\timage\tproduction_data\tcategory\turl\ttitle\ttext\tprice\tcurrency\tseller_name\tseller_type\tlocation\tproduct\taddress_type\taddres_location\taddress_country\tseller\tships to"
   ]
  },
  {
   "cell_type": "code",
   "execution_count": 7,
   "id": "6472c0a2-ef2c-4a1d-ae44-db6fd9212af1",
   "metadata": {},
   "outputs": [],
   "source": [
    "dict_scrap = create_dict({\"name\": \"Pied ball pythons available for sale in Rocky View, Alberta Classifieds - CanadianListed.com\",\n",
    "                         \"description\": \"for sale, Pied ball pythons,Male and Female available and ready to go to any python loving. CanadianListed.com has classifieds in Rocky View, Alberta for pets and animals. Kennel hounds, dogs and all kinds of cats\",\n",
    "                        \"location\":\"Rocky View, Alberta\",\n",
    "                        \"ship_to\":None,\n",
    "                        \"category\": \"Pets and Animals\",\n",
    "                        \"seller\": None,\n",
    "                        \"price\": None})\n",
    "scraper = create_scraper(http, dict_scrap)"
   ]
  },
  {
   "cell_type": "code",
   "execution_count": 8,
   "id": "98d9fb31-70e8-42b0-8055-6728ec16b41f",
   "metadata": {},
   "outputs": [
    {
     "name": "stdout",
     "output_type": "stream",
     "text": [
      "{'category': 'Pets and Animals', 'name': 'CARPET PYTHON for sale in Rocky View, Alberta Classifieds - CanadianListed.com', 'location': 'Rocky View, Alberta', 'description': 'for sale, Carpet python for sale about 3yrs old. Has never bitten, snake is handled a lot.. CanadianListed.com has classifieds in Rocky View, Alberta for pets and animals. Kennel hounds, dogs and all kinds of cats'}\n"
     ]
    }
   ],
   "source": [
    "test_page_and_save(http=\"https://rockyview.canadianlisted.com/pets-and-animals/carpet-python_4235249.html\", scraper=scraper, site=\"scraper_canadianlisted\")"
   ]
  },
  {
   "cell_type": "markdown",
   "id": "83d3ee00-d179-42d1-ad5e-6d1d1df4fee2",
   "metadata": {},
   "source": [
    "## PRELOVED"
   ]
  },
  {
   "cell_type": "code",
   "execution_count": 9,
   "id": "0262adbc-f9c8-4783-b49d-45ac3a334fd3",
   "metadata": {},
   "outputs": [],
   "source": [
    "http =\"https://www.preloved.co.uk/adverts/show/102966807/lincolnshire-greyhound-trust-greyhounds-needing-loving-homes.html\""
   ]
  },
  {
   "cell_type": "code",
   "execution_count": 10,
   "id": "684af851-6101-4a10-9869-c2cc1221c5aa",
   "metadata": {
    "tags": []
   },
   "outputs": [],
   "source": [
    "http =\"https://www.preloved.co.uk/adverts/show/102966807/lincolnshire-greyhound-trust-greyhounds-needing-loving-homes.html\"\n",
    "dict_scrap = create_dict({\"name\": \"Lincolnshire Greyhound Trust greyhounds needing loving homes\",\n",
    "                         \"description\": \"WE CURRENTLY HAVE NO GREYHOUNDS AVAILABLE THAT WE CONSIDER CAT TRAINABLE AND HAVE A CONSIDERABLE WAITING LIST.\",\n",
    "                        \"location\":\"Lincoln, Lincolnshire\",\n",
    "                        \"ship_to\":None,\n",
    "                        \"seller\": \"Visit Lincsgreyhounds's profile\",\n",
    "                        \"price\": \"£100\"})\n",
    "scraper = create_scraper(http, dict_scrap)"
   ]
  },
  {
   "cell_type": "code",
   "execution_count": 11,
   "id": "74bc65f8-4f88-46d8-882b-ae71ec50d731",
   "metadata": {},
   "outputs": [
    {
     "name": "stdout",
     "output_type": "stream",
     "text": [
      "{'price': '£20', 'location': 'Leeds, West Yorkshire', 'description': 'Beautiful plush black çat zip bag. Fluffy and soft with tail. Length appx 17\" Height appx 11\" strap adjustable to appx 21\"Wear on shoulder or shorten to hand held length. Used once for a couple of hours for fun.', 'seller': \"Visit Lizzy or Steve's profile\", 'name': 'Cat plush bag fluffy with purr collar and fluffy tail'}\n"
     ]
    }
   ],
   "source": [
    "test_page_and_save(http=\"https://www.preloved.co.uk/adverts/show/122109996/cat-plush-bag-fluffy-with-purr-collar-and-fluffy-tail.html?link=%2Fclassifieds%2Fclothing-jewellery%2Fbags-purses-wallets\", scraper=scraper, site=\"scraper_preloved\")"
   ]
  },
  {
   "cell_type": "code",
   "execution_count": null,
   "id": "fb991206-2a47-49ba-920c-c2fa783c0a99",
   "metadata": {},
   "outputs": [],
   "source": []
  },
  {
   "cell_type": "markdown",
   "id": "43156767-6b10-4325-b159-5f54508a8cb6",
   "metadata": {},
   "source": [
    "## ukclassifieds"
   ]
  },
  {
   "cell_type": "code",
   "execution_count": 12,
   "id": "4ec2a9f5-944f-4aac-a8d5-a37c1202adbb",
   "metadata": {
    "tags": []
   },
   "outputs": [],
   "source": [
    "http =\"https://www.ukclassifieds.co.uk/for-sale/audio-stereo-hifi/headphones-earbuds-airpods/buy-bulk-kubite-f15-rgb-wired-gaming-headphone-with-microphone-in-uk-i55806\"\n",
    "dict_scrap = create_dict({\"name\": \"Buy Bulk Kubite F15 RGB Wired Gaming Headphone With Microphone in UK\",\n",
    "                         \"description\": \"Kubite F15 RGB Wired Gaming Headphone With Microphone\",\n",
    "                        \"location\":\"Unit 2A Westbury Road, Forest Gate London, E7 8BU UK\",\n",
    "                        \"ship_to\":None,\n",
    "                        \"seller\": \"Fonegads UK\",\n",
    "                        \"price\": \"£ 10.00\"})\n",
    "scraper = create_scraper(http, dict_scrap)"
   ]
  },
  {
   "cell_type": "code",
   "execution_count": 13,
   "id": "9b4b609f-ce69-4985-8512-8689a5a090b2",
   "metadata": {},
   "outputs": [
    {
     "name": "stdout",
     "output_type": "stream",
     "text": [
      "{'price': '£ 500.00', 'location': 'A4, London WC2N 5DU, UKAL3 8QEBabertonEdinburghScotland', 'description': \"We have 6 adorable Labrador Puppies for sale. We have 4 girls and 2 boys. They have been raised by mum. They have been well socialized with adults, children and other pets. They have been handled plenty so they are really sociable. We are looking for stable, caring forever homes for the pups.\\nMum is an amazing member of our family. She's the best.\\n\\nThey will be vet checked and they had their first vaccinations. We will also have them wormed.....\\n\\nFor more details contact via whatsapp +447570620489\", 'seller': 'Emmanuel Barry', 'name': 'Labrador Puppies Ready To Go'}\n"
     ]
    }
   ],
   "source": [
    "test_page_and_save(http=\"https://www.ukclassifieds.co.uk/pets/puppies-dogs-for-sale/labrador-retriever/labrador-puppies-ready-to-go-i40297\",\n",
    "                   scraper=scraper,\n",
    "                   site=\"scraper_ukclassifieds\")"
   ]
  },
  {
   "cell_type": "markdown",
   "id": "91d24c22-720b-4407-ad71-bdbbf5f2155a",
   "metadata": {},
   "source": [
    "## ETSY"
   ]
  },
  {
   "cell_type": "code",
   "execution_count": 14,
   "id": "a47595a0-76f5-423e-993b-f441cdeec504",
   "metadata": {
    "tags": []
   },
   "outputs": [],
   "source": [
    "http =\"https://www.etsy.com/se-en/listing/989551080/scrabble-given-names?click_key=5692a5aa7b738b84a1ea71be07752bc685911b3e%3A989551080&click_sum=96115def&ref=related-6\"\n",
    "dict_scrap = create_dict({\"name\": \"Scrabble given names\",\n",
    "                         \"description\": None,\n",
    "                        \"location\":\"Ships from France\",\n",
    "                        \"ship_to\":None,\n",
    "                        \"seller\": \"Benjamin Broutin\",\n",
    "                        \"price\": None})\n",
    "scraper = create_scraper(http, dict_scrap)"
   ]
  },
  {
   "cell_type": "code",
   "execution_count": 15,
   "id": "e0452c98-b6a0-409f-95d6-409cca58d107",
   "metadata": {},
   "outputs": [
    {
     "name": "stdout",
     "output_type": "stream",
     "text": [
      "{'seller': 'cotébonheur', 'name': 'Super grandpa custom socks, grandpa socks, dad socks, godfather uncle, brother, personalized gift', 'location': 'Ships from France'}\n"
     ]
    }
   ],
   "source": [
    "test_page_and_save(http=\"https://www.etsy.com/se-en/listing/1081235251/super-grandpa-custom-socks-grandpa-socks?external=1&ref=cl_listing_page_recs_listings-2-listing-3&external_collection=NzcyODc5OTZ8NTA5NTcyMzY4&page_type=cl_listing_page&dataset=cs\",\n",
    "                   scraper=scraper,\n",
    "                   site=\"scraper_etsy\")"
   ]
  },
  {
   "cell_type": "markdown",
   "id": "dc2000cb-2470-4107-af53-d26cb1a8f2fa",
   "metadata": {},
   "source": [
    "## thetaxidermystore"
   ]
  },
  {
   "cell_type": "code",
   "execution_count": 16,
   "id": "615806cc-6be6-45c1-b5e5-a2a625efed6b",
   "metadata": {
    "tags": []
   },
   "outputs": [],
   "source": [
    "http= \"https://www.thetaxidermystore.com/fawn-pedestal-bust-taxidermy-mount-26358.html\"\n",
    "dict_scrap = create_dict({\"description\": \"Fawn Pedestal Bust Taxidermy Mount For Sale\",\n",
    "                          \"name\": \"Whitetail Deer\",\n",
    "                        \"location\":None,\n",
    "                        \"ship_to\":None,\n",
    "                        \"seller\": None,\n",
    "                        \"price\": \"$1,695.00\"})\n",
    "scraper = create_scraper(http, dict_scrap)"
   ]
  },
  {
   "cell_type": "code",
   "execution_count": 18,
   "id": "bc8a6702-412d-4831-b01f-b2c00cc09f07",
   "metadata": {},
   "outputs": [
    {
     "name": "stdout",
     "output_type": "stream",
     "text": [
      "{'name': 'Alligator', 'description': 'Alligator Rug Taxidermy Mount For Sale', 'price': '$625.00'}\n"
     ]
    }
   ],
   "source": [
    "test_page_and_save(http=\"https://www.thetaxidermystore.com/taxidermy-mounts/alligator-rug-taxidermy-mount-for-sale-27868.html\",\n",
    "                   scraper=scraper,\n",
    "                   site=\"scraper_thetaxidermystore\")"
   ]
  },
  {
   "cell_type": "markdown",
   "id": "ede25cb8-fa95-4a34-b791-1d35d5c6d8bc",
   "metadata": {},
   "source": [
    "## skullsunlimited"
   ]
  },
  {
   "cell_type": "code",
   "execution_count": 28,
   "id": "09d3657a-8d8f-4d47-b3e7-4228c32e8811",
   "metadata": {},
   "outputs": [],
   "source": [
    "http= \"https://www.skullsunlimited.com/collections/all-mammals/products/real-broad-footed-mole-skull-lq-12754\""
   ]
  },
  {
   "cell_type": "code",
   "execution_count": 29,
   "id": "5b3daf87-4ce9-4013-85c5-c83aed00243a",
   "metadata": {
    "tags": []
   },
   "outputs": [],
   "source": [
    "dict_scrap = create_dict({\"name\": 'Real Broad-footed Mole Skull',\n",
    "                         \"description\": \"The broad-footed mole, also known as the California mole, can be found dwelling underground in the moist grasslands and open forests of Northern Mexico, California, Nevada, and Oregon. These mammals are part of the Talpidae family, and they spend most of their lives underground digging for and consuming prey. The California mole is a carnivore, and they eat a variety of invertebrates like earthworms and grubs, and will occasionally consume plant matter to balance their diet.\",\n",
    "                        \"location\":None,\n",
    "                        \"ship_to\":None,\n",
    "                        \"seller\": None,\n",
    "                        \"price\":None})\n",
    "scraper = create_scraper(http, dict_scrap)"
   ]
  },
  {
   "cell_type": "code",
   "execution_count": 31,
   "id": "e15fb304-4f77-4837-9e53-03afd8bd7f4c",
   "metadata": {},
   "outputs": [
    {
     "name": "stdout",
     "output_type": "stream",
     "text": [
      "{'name': 'Real River Cooter Skull', 'description': 'The river cooter is a species of aquatic turtle native to the southeastern United States. It is a large turtle, typically growing to a shell length of 11-14 inches. River cooters are omnivorous and feed on a variety of aquatic plants, insects, snails, crayfish, and carrion. They are primarily aquatic, but may leave the water to bask in the sun. River cooters are an important species in their ecosystems, providing food for larger predators, such as birds and mammals.'}\n"
     ]
    }
   ],
   "source": [
    "test_page_and_save(http=\"https://www.skullsunlimited.com/collections/all-reptiles-amphibians/products/river-cooter-skull\",\n",
    "                   scraper=scraper,\n",
    "                   site=\"scraper_skullsunlimited\")"
   ]
  },
  {
   "cell_type": "markdown",
   "id": "8af1e275-26a0-433e-bbeb-2646a5085d80",
   "metadata": {},
   "source": [
    "## 1stdibs"
   ]
  },
  {
   "cell_type": "code",
   "execution_count": 34,
   "id": "3e362c12-ce90-49a6-bc02-f16f8bc86444",
   "metadata": {},
   "outputs": [],
   "source": [
    "http = \"https://www.1stdibs.com/furniture/tables/side-tables/two-tier-table-drawer-signed-karl-springer/id-f_5091563/\""
   ]
  },
  {
   "cell_type": "code",
   "execution_count": 35,
   "id": "de5a7007-8ad9-4c20-ad15-4809ca6e632b",
   "metadata": {},
   "outputs": [],
   "source": [
    "dict_scrap = create_dict({\"name\": \"Two-Tier Table with Drawer signed Karl Springer\",\n",
    "                         \"description\": \"For Sale on 1stDibs - Two-Tier Table with Drawer signed Karl Springer. Gorgeous, seldom-seen two-tier table in tessellated stone with brass inlays. Karl Springer label in single\",\n",
    "                        \"location\":\"Ft Lauderdale, FL\",\n",
    "                        \"ship_to\":None,\n",
    "                        \"seller\": None,\n",
    "                        \"price\":None})\n",
    "scraper = create_scraper(http, dict_scrap)"
   ]
  },
  {
   "cell_type": "code",
   "execution_count": 36,
   "id": "e55d3cde-9062-4f0f-8b4b-854f0ff916c4",
   "metadata": {},
   "outputs": [
    {
     "name": "stdout",
     "output_type": "stream",
     "text": [
      "{'name': 'In The Light, Paris', 'location': 'New York, NY', 'description': 'For Sale on 1stDibs - In The Light, Paris, Archival Pigment Print by Haik Kocharian. Offered by Robin Rice Gallery Fine Photography.'}\n"
     ]
    }
   ],
   "source": [
    "test_page_and_save(http=\"https://www.1stdibs.com/art/photography/black-white-photography/haik-kocharian-light-paris/id-a_16393/\",\n",
    "                   scraper=scraper,\n",
    "                   site=\"scraper_1stdibs\")"
   ]
  },
  {
   "cell_type": "markdown",
   "id": "3e741acc-82ce-4cc2-a68a-c472a94f8611",
   "metadata": {},
   "source": [
    "## trocadero"
   ]
  },
  {
   "cell_type": "code",
   "execution_count": 43,
   "id": "7c1b00d5-4633-44e6-9703-81c839c0753b",
   "metadata": {},
   "outputs": [],
   "source": [
    "http =\"https://www.trocadero.com/stores/stoneking/items/1474512/Vintage-Chinese-Scholar-Taihu-Lake-Stone\""
   ]
  },
  {
   "cell_type": "code",
   "execution_count": 44,
   "id": "d0e2d1e4-d12c-4407-bb96-527cebc9ec92",
   "metadata": {
    "tags": []
   },
   "outputs": [],
   "source": [
    "dict_scrap = create_dict({\"name\": \"A Vintage Chinese Scholar Taihu Lake Stone\",\n",
    "                         \"description\":\"A Vintage Chinese Scholar Taihu Lake Stone for desk appreciation,about 50 years. size:7.87 X 4.33 X 0.99 (height X width X thickness),in good condition\",\n",
    "                          \"price\":None,\n",
    "                          \"location\":\"Suzhou\",\n",
    "                        \"ship_to\":None,\n",
    "                        \"seller\": \"Stone King\"})\n",
    "scraper = create_scraper(http, dict_scrap)"
   ]
  },
  {
   "cell_type": "code",
   "execution_count": 45,
   "id": "44b807d2-ede1-41b5-be24-8038bf1cc93f",
   "metadata": {},
   "outputs": [
    {
     "name": "stdout",
     "output_type": "stream",
     "text": [
      "{'seller': 'New England Art Exchange', 'name': 'Aiden Ripley etching, Geese, c. 1930, pencil signed', 'location': 'New England Art Exchange\\n\\n\\nView Seller Profile\\r\\n    14-20 Depot Street\\r\\n    Peterborough, NH 03458\\n603-784-5311 \\n\\n\\nGuest Book', 'description': 'Aiden Lassell Ripley 1896-1969 American A very fine original etching by American sporting artist Aiden Lassell Ripley, image size 8 3/4 x 13 7/8 inches, c. 1930, pencil signed and titled. Ripley studied at the Boston Museum School under Phillip Hale and Frank Benson, then spent several years traveling throughout Europe. He became quite well known for his landscapes and sporting scenes, and also worked throughout his life in wildlife and endangered species preservation. He was a member of many prestigious artist groups of the 20th century, including the National Academy of Design, the American Watercolor Society, and the Audubon Artists; he served as the president of the Boston Guild of Artists from 1959 to 1969.'}\n"
     ]
    }
   ],
   "source": [
    "test_page_and_save(http=\"https://www.trocadero.com/stores/neart/items/1476438/Aiden-Ripley-etching-Geese-1930-pencil-signed\",\n",
    "                   scraper=scraper,\n",
    "                   site=\"scraper_trocadero\")"
   ]
  },
  {
   "cell_type": "markdown",
   "id": "15cb134d-09dc-4123-8a5c-c1a203f87cf8",
   "metadata": {},
   "source": [
    "## glacierwear"
   ]
  },
  {
   "cell_type": "code",
   "execution_count": 70,
   "id": "1251b3de-3997-4be0-987b-7f49b6c8e026",
   "metadata": {},
   "outputs": [],
   "source": [
    "http = \"https://www.glacierwear.com/black-bear-hide-103309.html\""
   ]
  },
  {
   "cell_type": "code",
   "execution_count": 71,
   "id": "cb73cc46-4b29-4cf5-8132-794341f3673a",
   "metadata": {},
   "outputs": [],
   "source": [
    "dict_scrap = create_dict({\"name\": \"Black Bear Hide #103309\",\n",
    "                         \"description\":\"- Origin: Canada\", \n",
    "                          \"price\":\"649.95\",\n",
    "                          \"location\":None,\n",
    "                        \"ship_to\":None,\n",
    "                        \"seller\": None})\n",
    "scraper = create_scraper(http, dict_scrap)"
   ]
  },
  {
   "cell_type": "code",
   "execution_count": 73,
   "id": "68171c66-71df-4c16-87dd-e6fdd47a4905",
   "metadata": {},
   "outputs": [
    {
     "name": "stdout",
     "output_type": "stream",
     "text": [
      "{'name': 'Black Bear Hide #103309', 'description': 'bbr103309\\n\\n- Origin: Canada\\n- Color: Black \\n- First Quality Fur: Semi-Heavy, Glossy and Silky, Fall Bear\\n- 62 Inches from Tip of Nose to Tip of Tail \\n- 73 Inches from Tip of Nose to Rear Paw \\n- 30 Inches Across the Belly\\n- Complete Life Size - All Paws, Claws and Pads, Ears Turned and Lips Split\\n- Should be Suitable for a Life Size Mount by a Competent Taxidermist\\n- Good for a Wall Hanger, Crafts, Claws, Garments or Accessories\\n- Fresh Commercial Tanned', 'price': '649.95'}\n"
     ]
    }
   ],
   "source": [
    "test_page_and_save(http=\"https://www.glacierwear.com/black-bear-hide-103309.html\",\n",
    "                   scraper=scraper,\n",
    "                   site=\"scraper_glacierwear\")"
   ]
  },
  {
   "cell_type": "markdown",
   "id": "7a1e27ef-6d48-45a2-8f19-4fed6c3f8e0e",
   "metadata": {},
   "source": [
    "## ebay"
   ]
  },
  {
   "cell_type": "code",
   "execution_count": 75,
   "id": "61f22c22-144d-4f8d-9884-aaa873a2e4d9",
   "metadata": {},
   "outputs": [],
   "source": [
    "http = \"https://www.ebay.com/itm/384693477548?hash=item599184a0ac:g:0jsAAOSwTHNiTWNa&amdata=enc%3AAQAIAAAA4GBg9A4c7Z11DQDr0I1DAWh864ozZtXprcOzEjdCkvxi12FY1VCl9UgflOOMVMqWUG0B9InP12Y2H6Ksd4dR4uzPC0C6REnu26XTuPc6hUHzRkQSX0lQwt6E1RQxFiOyOEk94oNDaexr1xgzF1SenL%2FBlgviAW1poF1rXEBsHaoWTvfyYAqZ3OgmNjUEeIKbF7PrnAsySKgkKAMEbdPJ6MYYXxQO7GTJlrmn5OH55%2BLU2nsutqWUPYDBhioMSh3kk%2FM1HJRZ5z5vcMjHOWEwxTfzqO%2B2CL2WixXuJcchmyzg%7Ctkp%3ABk9SR6K694j9YQ\""
   ]
  },
  {
   "cell_type": "code",
   "execution_count": 83,
   "id": "ad2bbe89-9d66-44bd-b75b-dab1ff7239fb",
   "metadata": {
    "collapsed": true,
    "jupyter": {
     "outputs_hidden": true
    },
    "tags": []
   },
   "outputs": [
    {
     "ename": "SelectorSyntaxError",
     "evalue": "Malformed attribute selector at position 3\n  line 1:\ndiv[data-viewport=\"{\"trackableId\":\"01GZM9D1F0H20BX31VGJBZW923\"}\"] span\n   ^",
     "output_type": "error",
     "traceback": [
      "\u001b[0;31m---------------------------------------------------------------------------\u001b[0m",
      "\u001b[0;31mSelectorSyntaxError\u001b[0m                       Traceback (most recent call last)",
      "Cell \u001b[0;32mIn [83], line 7\u001b[0m\n\u001b[1;32m      1\u001b[0m dict_scrap \u001b[38;5;241m=\u001b[39m create_dict({\u001b[38;5;124m\"\u001b[39m\u001b[38;5;124mname\u001b[39m\u001b[38;5;124m\"\u001b[39m: \u001b[38;5;124m\"\u001b[39m\u001b[38;5;124mAnimal Insect Enamel Pin Lapel Collar Pin Corsage Brooch Women Men Jewelry Gift\u001b[39m\u001b[38;5;124m\"\u001b[39m,\n\u001b[1;32m      2\u001b[0m                          \u001b[38;5;124m\"\u001b[39m\u001b[38;5;124mdescription\u001b[39m\u001b[38;5;124m\"\u001b[39m:\u001b[38;5;124m\"\u001b[39m\u001b[38;5;124mEnamel\u001b[39m\u001b[38;5;124m\"\u001b[39m, \n\u001b[1;32m      3\u001b[0m                           \u001b[38;5;124m\"\u001b[39m\u001b[38;5;124mprice\u001b[39m\u001b[38;5;124m\"\u001b[39m:\u001b[38;5;124m\"\u001b[39m\u001b[38;5;124m0.99\u001b[39m\u001b[38;5;124m\"\u001b[39m,\n\u001b[1;32m      4\u001b[0m                           \u001b[38;5;124m\"\u001b[39m\u001b[38;5;124mlocation\u001b[39m\u001b[38;5;124m\"\u001b[39m:\u001b[38;5;124m\"\u001b[39m\u001b[38;5;124m义乌, China\u001b[39m\u001b[38;5;124m\"\u001b[39m,\n\u001b[1;32m      5\u001b[0m                         \u001b[38;5;124m\"\u001b[39m\u001b[38;5;124mship_to\u001b[39m\u001b[38;5;124m\"\u001b[39m:\u001b[38;5;124m\"\u001b[39m\u001b[38;5;124mWorldwide\u001b[39m\u001b[38;5;124m\"\u001b[39m,\n\u001b[1;32m      6\u001b[0m                         \u001b[38;5;124m\"\u001b[39m\u001b[38;5;124mseller\u001b[39m\u001b[38;5;124m\"\u001b[39m: \u001b[38;5;124m\"\u001b[39m\u001b[38;5;124myaojie_80\u001b[39m\u001b[38;5;124m\"\u001b[39m})\n\u001b[0;32m----> 7\u001b[0m scraper \u001b[38;5;241m=\u001b[39m \u001b[43mcreate_scraper\u001b[49m\u001b[43m(\u001b[49m\u001b[43mhttp\u001b[49m\u001b[43m,\u001b[49m\u001b[43m \u001b[49m\u001b[43mdict_scrap\u001b[49m\u001b[43m)\u001b[49m\n",
      "Cell \u001b[0;32mIn [3], line 11\u001b[0m, in \u001b[0;36mcreate_scraper\u001b[0;34m(http, dict_page)\u001b[0m\n\u001b[1;32m      9\u001b[0m sample\u001b[38;5;241m=\u001b[39m Sample(page, dict_page)\n\u001b[1;32m     10\u001b[0m training_set\u001b[38;5;241m.\u001b[39madd_sample(sample)\n\u001b[0;32m---> 11\u001b[0m scraper \u001b[38;5;241m=\u001b[39m \u001b[43mtrain_scraper\u001b[49m\u001b[43m(\u001b[49m\u001b[43mtraining_set\u001b[49m\u001b[43m)\u001b[49m\n\u001b[1;32m     12\u001b[0m \u001b[38;5;28;01mreturn\u001b[39;00m scraper\n",
      "File \u001b[0;32m~/.local/lib/python3.9/site-packages/mlscraper/training.py:66\u001b[0m, in \u001b[0;36mtrain_scraper\u001b[0;34m(training_set, complexity)\u001b[0m\n\u001b[1;32m     64\u001b[0m     logging\u001b[38;5;241m.\u001b[39minfo(\u001b[38;5;124mf\u001b[39m\u001b[38;5;124m\"\u001b[39m\u001b[38;5;124mtrying to train scraper for matches (\u001b[39m\u001b[38;5;132;01m{\u001b[39;00mmatch_combination\u001b[38;5;132;01m=}\u001b[39;00m\u001b[38;5;124m)\u001b[39m\u001b[38;5;124m\"\u001b[39m)\n\u001b[1;32m     65\u001b[0m     roots \u001b[38;5;241m=\u001b[39m [s\u001b[38;5;241m.\u001b[39mpage \u001b[38;5;28;01mfor\u001b[39;00m s \u001b[38;5;129;01min\u001b[39;00m training_set\u001b[38;5;241m.\u001b[39mitem\u001b[38;5;241m.\u001b[39msamples]\n\u001b[0;32m---> 66\u001b[0m     scraper \u001b[38;5;241m=\u001b[39m \u001b[43mtrain_scraper_for_matches\u001b[49m\u001b[43m(\u001b[49m\u001b[43mmatch_combination\u001b[49m\u001b[43m,\u001b[49m\u001b[43m \u001b[49m\u001b[43mroots\u001b[49m\u001b[43m,\u001b[49m\u001b[43m \u001b[49m\u001b[43mcomplexity\u001b[49m\u001b[43m)\u001b[49m\n\u001b[1;32m     67\u001b[0m     \u001b[38;5;28;01mreturn\u001b[39;00m scraper\n\u001b[1;32m     68\u001b[0m \u001b[38;5;28;01mexcept\u001b[39;00m NoScraperFoundException:\n",
      "File \u001b[0;32m~/.local/lib/python3.9/site-packages/mlscraper/training.py:150\u001b[0m, in \u001b[0;36mtrain_scraper_for_matches\u001b[0;34m(matches, roots, complexity)\u001b[0m\n\u001b[1;32m    148\u001b[0m     logging\u001b[38;5;241m.\u001b[39minfo(\u001b[38;5;124mf\u001b[39m\u001b[38;5;124m\"\u001b[39m\u001b[38;5;124mtraining key for DictScraper (\u001b[39m\u001b[38;5;132;01m{\u001b[39;00mk\u001b[38;5;132;01m=}\u001b[39;00m\u001b[38;5;124m)\u001b[39m\u001b[38;5;124m\"\u001b[39m)\n\u001b[1;32m    149\u001b[0m     logging\u001b[38;5;241m.\u001b[39minfo(\u001b[38;5;124mf\u001b[39m\u001b[38;5;124m\"\u001b[39m\u001b[38;5;124mmatches for key: \u001b[39m\u001b[38;5;132;01m{\u001b[39;00mmatches_per_key\u001b[38;5;132;01m=}\u001b[39;00m\u001b[38;5;124m\"\u001b[39m)\n\u001b[0;32m--> 150\u001b[0m     scraper \u001b[38;5;241m=\u001b[39m \u001b[43mtrain_scraper_for_matches\u001b[49m\u001b[43m(\u001b[49m\u001b[43mmatches_per_key\u001b[49m\u001b[43m,\u001b[49m\u001b[43m \u001b[49m\u001b[43mroots\u001b[49m\u001b[43m,\u001b[49m\u001b[43m \u001b[49m\u001b[43mcomplexity\u001b[49m\u001b[43m)\u001b[49m\n\u001b[1;32m    151\u001b[0m     scraper_per_key[k] \u001b[38;5;241m=\u001b[39m scraper\n\u001b[1;32m    152\u001b[0m logging\u001b[38;5;241m.\u001b[39minfo(\u001b[38;5;124mf\u001b[39m\u001b[38;5;124m\"\u001b[39m\u001b[38;5;124mfound DictScraper (\u001b[39m\u001b[38;5;132;01m{\u001b[39;00mscraper_per_key\u001b[38;5;132;01m=}\u001b[39;00m\u001b[38;5;124m)\u001b[39m\u001b[38;5;124m\"\u001b[39m)\n",
      "File \u001b[0;32m~/.local/lib/python3.9/site-packages/mlscraper/training.py:124\u001b[0m, in \u001b[0;36mtrain_scraper_for_matches\u001b[0;34m(matches, roots, complexity)\u001b[0m\n\u001b[1;32m    118\u001b[0m \u001b[38;5;28;01melse\u001b[39;00m:\n\u001b[1;32m    119\u001b[0m     logging\u001b[38;5;241m.\u001b[39minfo(\n\u001b[1;32m    120\u001b[0m         \u001b[38;5;124m\"\u001b[39m\u001b[38;5;124mno early return: \u001b[39m\u001b[38;5;132;01m%s\u001b[39;00m\u001b[38;5;124m\"\u001b[39m,\n\u001b[1;32m    121\u001b[0m         [(m\u001b[38;5;241m.\u001b[39mnode, r, m\u001b[38;5;241m.\u001b[39mnode \u001b[38;5;241m==\u001b[39m r) \u001b[38;5;28;01mfor\u001b[39;00m m, r \u001b[38;5;129;01min\u001b[39;00m \u001b[38;5;28mzip\u001b[39m(matches, roots)],\n\u001b[1;32m    122\u001b[0m     )\n\u001b[0;32m--> 124\u001b[0m selector \u001b[38;5;241m=\u001b[39m \u001b[43mfirst\u001b[49m\u001b[43m(\u001b[49m\n\u001b[1;32m    125\u001b[0m \u001b[43m    \u001b[49m\u001b[43mgenerate_unique_selectors_for_nodes\u001b[49m\u001b[43m(\u001b[49m\n\u001b[1;32m    126\u001b[0m \u001b[43m        \u001b[49m\u001b[43m[\u001b[49m\u001b[43mm\u001b[49m\u001b[38;5;241;43m.\u001b[39;49m\u001b[43mnode\u001b[49m\u001b[43m \u001b[49m\u001b[38;5;28;43;01mfor\u001b[39;49;00m\u001b[43m \u001b[49m\u001b[43mm\u001b[49m\u001b[43m \u001b[49m\u001b[38;5;129;43;01min\u001b[39;49;00m\u001b[43m \u001b[49m\u001b[43mmatches\u001b[49m\u001b[43m]\u001b[49m\u001b[43m,\u001b[49m\u001b[43m \u001b[49m\u001b[43mroots\u001b[49m\u001b[43m,\u001b[49m\u001b[43m \u001b[49m\u001b[43mcomplexity\u001b[49m\n\u001b[1;32m    127\u001b[0m \u001b[43m    \u001b[49m\u001b[43m)\u001b[49m\u001b[43m,\u001b[49m\n\u001b[1;32m    128\u001b[0m \u001b[43m    \u001b[49m\u001b[38;5;28;43;01mNone\u001b[39;49;00m\u001b[43m,\u001b[49m\n\u001b[1;32m    129\u001b[0m \u001b[43m\u001b[49m\u001b[43m)\u001b[49m\n\u001b[1;32m    130\u001b[0m \u001b[38;5;28;01mif\u001b[39;00m \u001b[38;5;129;01mnot\u001b[39;00m selector:\n\u001b[1;32m    131\u001b[0m     \u001b[38;5;28;01mraise\u001b[39;00m NoScraperFoundException(\u001b[38;5;124mf\u001b[39m\u001b[38;5;124m\"\u001b[39m\u001b[38;5;124mno selector found \u001b[39m\u001b[38;5;132;01m{\u001b[39;00mmatches\u001b[38;5;132;01m=}\u001b[39;00m\u001b[38;5;124m\"\u001b[39m)\n",
      "File \u001b[0;32m~/.local/lib/python3.9/site-packages/more_itertools/more.py:195\u001b[0m, in \u001b[0;36mfirst\u001b[0;34m(iterable, default)\u001b[0m\n\u001b[1;32m    178\u001b[0m \u001b[38;5;124;03m\"\"\"Return the first item of *iterable*, or *default* if *iterable* is\u001b[39;00m\n\u001b[1;32m    179\u001b[0m \u001b[38;5;124;03mempty.\u001b[39;00m\n\u001b[1;32m    180\u001b[0m \n\u001b[0;32m   (...)\u001b[0m\n\u001b[1;32m    192\u001b[0m \n\u001b[1;32m    193\u001b[0m \u001b[38;5;124;03m\"\"\"\u001b[39;00m\n\u001b[1;32m    194\u001b[0m \u001b[38;5;28;01mtry\u001b[39;00m:\n\u001b[0;32m--> 195\u001b[0m     \u001b[38;5;28;01mreturn\u001b[39;00m \u001b[38;5;28;43mnext\u001b[39;49m\u001b[43m(\u001b[49m\u001b[38;5;28;43miter\u001b[39;49m\u001b[43m(\u001b[49m\u001b[43miterable\u001b[49m\u001b[43m)\u001b[49m\u001b[43m)\u001b[49m\n\u001b[1;32m    196\u001b[0m \u001b[38;5;28;01mexcept\u001b[39;00m \u001b[38;5;167;01mStopIteration\u001b[39;00m \u001b[38;5;28;01mas\u001b[39;00m e:\n\u001b[1;32m    197\u001b[0m     \u001b[38;5;28;01mif\u001b[39;00m default \u001b[38;5;129;01mis\u001b[39;00m _marker:\n",
      "File \u001b[0;32m~/.local/lib/python3.9/site-packages/mlscraper/selectors.py:60\u001b[0m, in \u001b[0;36mgenerate_unique_selectors_for_nodes\u001b[0;34m(nodes, roots, complexity)\u001b[0m\n\u001b[1;32m     58\u001b[0m nodes_per_root \u001b[38;5;241m=\u001b[39m {r: [n \u001b[38;5;28;01mfor\u001b[39;00m n \u001b[38;5;129;01min\u001b[39;00m nodes \u001b[38;5;28;01mif\u001b[39;00m n\u001b[38;5;241m.\u001b[39mhas_parent(r)] \u001b[38;5;28;01mfor\u001b[39;00m r \u001b[38;5;129;01min\u001b[39;00m \u001b[38;5;28mset\u001b[39m(roots)}\n\u001b[1;32m     59\u001b[0m \u001b[38;5;28;01mfor\u001b[39;00m selector \u001b[38;5;129;01min\u001b[39;00m generate_selectors_for_nodes(nodes, roots, complexity):\n\u001b[0;32m---> 60\u001b[0m     \u001b[38;5;28;01mif\u001b[39;00m \u001b[38;5;28;43mall\u001b[39;49m\u001b[43m(\u001b[49m\n\u001b[1;32m     61\u001b[0m \u001b[43m        \u001b[49m\u001b[43mselector\u001b[49m\u001b[38;5;241;43m.\u001b[39;49m\u001b[43mselect_all\u001b[49m\u001b[43m(\u001b[49m\u001b[43mr\u001b[49m\u001b[43m)\u001b[49m\u001b[43m \u001b[49m\u001b[38;5;241;43m==\u001b[39;49m\u001b[43m \u001b[49m\u001b[43mnodes_of_root\u001b[49m\n\u001b[1;32m     62\u001b[0m \u001b[43m        \u001b[49m\u001b[38;5;28;43;01mfor\u001b[39;49;00m\u001b[43m \u001b[49m\u001b[43mr\u001b[49m\u001b[43m,\u001b[49m\u001b[43m \u001b[49m\u001b[43mnodes_of_root\u001b[49m\u001b[43m \u001b[49m\u001b[38;5;129;43;01min\u001b[39;49;00m\u001b[43m \u001b[49m\u001b[43mnodes_per_root\u001b[49m\u001b[38;5;241;43m.\u001b[39;49m\u001b[43mitems\u001b[49m\u001b[43m(\u001b[49m\u001b[43m)\u001b[49m\n\u001b[1;32m     63\u001b[0m \u001b[43m    \u001b[49m\u001b[43m)\u001b[49m:\n\u001b[1;32m     64\u001b[0m         \u001b[38;5;28;01myield\u001b[39;00m selector\n",
      "File \u001b[0;32m~/.local/lib/python3.9/site-packages/mlscraper/selectors.py:61\u001b[0m, in \u001b[0;36m<genexpr>\u001b[0;34m(.0)\u001b[0m\n\u001b[1;32m     58\u001b[0m nodes_per_root \u001b[38;5;241m=\u001b[39m {r: [n \u001b[38;5;28;01mfor\u001b[39;00m n \u001b[38;5;129;01min\u001b[39;00m nodes \u001b[38;5;28;01mif\u001b[39;00m n\u001b[38;5;241m.\u001b[39mhas_parent(r)] \u001b[38;5;28;01mfor\u001b[39;00m r \u001b[38;5;129;01min\u001b[39;00m \u001b[38;5;28mset\u001b[39m(roots)}\n\u001b[1;32m     59\u001b[0m \u001b[38;5;28;01mfor\u001b[39;00m selector \u001b[38;5;129;01min\u001b[39;00m generate_selectors_for_nodes(nodes, roots, complexity):\n\u001b[1;32m     60\u001b[0m     \u001b[38;5;28;01mif\u001b[39;00m \u001b[38;5;28mall\u001b[39m(\n\u001b[0;32m---> 61\u001b[0m         \u001b[43mselector\u001b[49m\u001b[38;5;241;43m.\u001b[39;49m\u001b[43mselect_all\u001b[49m\u001b[43m(\u001b[49m\u001b[43mr\u001b[49m\u001b[43m)\u001b[49m \u001b[38;5;241m==\u001b[39m nodes_of_root\n\u001b[1;32m     62\u001b[0m         \u001b[38;5;28;01mfor\u001b[39;00m r, nodes_of_root \u001b[38;5;129;01min\u001b[39;00m nodes_per_root\u001b[38;5;241m.\u001b[39mitems()\n\u001b[1;32m     63\u001b[0m     ):\n\u001b[1;32m     64\u001b[0m         \u001b[38;5;28;01myield\u001b[39;00m selector\n",
      "File \u001b[0;32m~/.local/lib/python3.9/site-packages/mlscraper/selectors.py:44\u001b[0m, in \u001b[0;36mCssRuleSelector.select_all\u001b[0;34m(self, node)\u001b[0m\n\u001b[1;32m     43\u001b[0m \u001b[38;5;28;01mdef\u001b[39;00m \u001b[38;5;21mselect_all\u001b[39m(\u001b[38;5;28mself\u001b[39m, node: Node):\n\u001b[0;32m---> 44\u001b[0m     \u001b[38;5;28;01mreturn\u001b[39;00m \u001b[43mnode\u001b[49m\u001b[38;5;241;43m.\u001b[39;49m\u001b[43mselect\u001b[49m\u001b[43m(\u001b[49m\u001b[38;5;28;43mself\u001b[39;49m\u001b[38;5;241;43m.\u001b[39;49m\u001b[43mcss_rule\u001b[49m\u001b[43m)\u001b[49m\n",
      "File \u001b[0;32m~/.local/lib/python3.9/site-packages/mlscraper/html.py:111\u001b[0m, in \u001b[0;36mNode.select\u001b[0;34m(self, css_selector)\u001b[0m\n\u001b[1;32m    109\u001b[0m \u001b[38;5;28;01mdef\u001b[39;00m \u001b[38;5;21mselect\u001b[39m(\u001b[38;5;28mself\u001b[39m, css_selector):\n\u001b[1;32m    110\u001b[0m     \u001b[38;5;28;01mreturn\u001b[39;00m [\n\u001b[0;32m--> 111\u001b[0m         \u001b[38;5;28mself\u001b[39m\u001b[38;5;241m.\u001b[39m_page\u001b[38;5;241m.\u001b[39m_get_node_for_soup(n) \u001b[38;5;28;01mfor\u001b[39;00m n \u001b[38;5;129;01min\u001b[39;00m \u001b[38;5;28;43mself\u001b[39;49m\u001b[38;5;241;43m.\u001b[39;49m\u001b[43msoup\u001b[49m\u001b[38;5;241;43m.\u001b[39;49m\u001b[43mselect\u001b[49m\u001b[43m(\u001b[49m\u001b[43mcss_selector\u001b[49m\u001b[43m)\u001b[49m\n\u001b[1;32m    112\u001b[0m     ]\n",
      "File \u001b[0;32m/usr/local/lib/python3.9/site-packages/bs4/element.py:1973\u001b[0m, in \u001b[0;36mTag.select\u001b[0;34m(self, selector, namespaces, limit, **kwargs)\u001b[0m\n\u001b[1;32m   1968\u001b[0m \u001b[38;5;28;01mif\u001b[39;00m soupsieve \u001b[38;5;129;01mis\u001b[39;00m \u001b[38;5;28;01mNone\u001b[39;00m:\n\u001b[1;32m   1969\u001b[0m     \u001b[38;5;28;01mraise\u001b[39;00m \u001b[38;5;167;01mNotImplementedError\u001b[39;00m(\n\u001b[1;32m   1970\u001b[0m         \u001b[38;5;124m\"\u001b[39m\u001b[38;5;124mCannot execute CSS selectors because the soupsieve package is not installed.\u001b[39m\u001b[38;5;124m\"\u001b[39m\n\u001b[1;32m   1971\u001b[0m     )\n\u001b[0;32m-> 1973\u001b[0m results \u001b[38;5;241m=\u001b[39m \u001b[43msoupsieve\u001b[49m\u001b[38;5;241;43m.\u001b[39;49m\u001b[43mselect\u001b[49m\u001b[43m(\u001b[49m\u001b[43mselector\u001b[49m\u001b[43m,\u001b[49m\u001b[43m \u001b[49m\u001b[38;5;28;43mself\u001b[39;49m\u001b[43m,\u001b[49m\u001b[43m \u001b[49m\u001b[43mnamespaces\u001b[49m\u001b[43m,\u001b[49m\u001b[43m \u001b[49m\u001b[43mlimit\u001b[49m\u001b[43m,\u001b[49m\u001b[43m \u001b[49m\u001b[38;5;241;43m*\u001b[39;49m\u001b[38;5;241;43m*\u001b[39;49m\u001b[43mkwargs\u001b[49m\u001b[43m)\u001b[49m\n\u001b[1;32m   1975\u001b[0m \u001b[38;5;66;03m# We do this because it's more consistent and because\u001b[39;00m\n\u001b[1;32m   1976\u001b[0m \u001b[38;5;66;03m# ResultSet.__getattr__ has a helpful error message.\u001b[39;00m\n\u001b[1;32m   1977\u001b[0m \u001b[38;5;28;01mreturn\u001b[39;00m ResultSet(\u001b[38;5;28;01mNone\u001b[39;00m, results)\n",
      "File \u001b[0;32m/usr/local/lib/python3.9/site-packages/soupsieve/__init__.py:144\u001b[0m, in \u001b[0;36mselect\u001b[0;34m(select, tag, namespaces, limit, flags, custom, **kwargs)\u001b[0m\n\u001b[1;32m    132\u001b[0m \u001b[38;5;28;01mdef\u001b[39;00m \u001b[38;5;21mselect\u001b[39m(\n\u001b[1;32m    133\u001b[0m     select: \u001b[38;5;28mstr\u001b[39m,\n\u001b[1;32m    134\u001b[0m     tag: \u001b[38;5;124m'\u001b[39m\u001b[38;5;124mbs4.Tag\u001b[39m\u001b[38;5;124m'\u001b[39m,\n\u001b[0;32m   (...)\u001b[0m\n\u001b[1;32m    140\u001b[0m     \u001b[38;5;241m*\u001b[39m\u001b[38;5;241m*\u001b[39mkwargs: Any\n\u001b[1;32m    141\u001b[0m ) \u001b[38;5;241m-\u001b[39m\u001b[38;5;241m>\u001b[39m List[\u001b[38;5;124m'\u001b[39m\u001b[38;5;124mbs4.Tag\u001b[39m\u001b[38;5;124m'\u001b[39m]:\n\u001b[1;32m    142\u001b[0m     \u001b[38;5;124;03m\"\"\"Select the specified tags.\"\"\"\u001b[39;00m\n\u001b[0;32m--> 144\u001b[0m     \u001b[38;5;28;01mreturn\u001b[39;00m \u001b[38;5;28;43mcompile\u001b[39;49m\u001b[43m(\u001b[49m\u001b[43mselect\u001b[49m\u001b[43m,\u001b[49m\u001b[43m \u001b[49m\u001b[43mnamespaces\u001b[49m\u001b[43m,\u001b[49m\u001b[43m \u001b[49m\u001b[43mflags\u001b[49m\u001b[43m,\u001b[49m\u001b[43m \u001b[49m\u001b[38;5;241;43m*\u001b[39;49m\u001b[38;5;241;43m*\u001b[39;49m\u001b[43mkwargs\u001b[49m\u001b[43m)\u001b[49m\u001b[38;5;241m.\u001b[39mselect(tag, limit)\n",
      "File \u001b[0;32m/usr/local/lib/python3.9/site-packages/soupsieve/__init__.py:67\u001b[0m, in \u001b[0;36mcompile\u001b[0;34m(pattern, namespaces, flags, custom, **kwargs)\u001b[0m\n\u001b[1;32m     64\u001b[0m         \u001b[38;5;28;01mraise\u001b[39;00m \u001b[38;5;167;01mValueError\u001b[39;00m(\u001b[38;5;124m\"\u001b[39m\u001b[38;5;124mCannot process \u001b[39m\u001b[38;5;124m'\u001b[39m\u001b[38;5;124mcustom\u001b[39m\u001b[38;5;124m'\u001b[39m\u001b[38;5;124m argument on a compiled selector list\u001b[39m\u001b[38;5;124m\"\u001b[39m)\n\u001b[1;32m     65\u001b[0m     \u001b[38;5;28;01mreturn\u001b[39;00m pattern\n\u001b[0;32m---> 67\u001b[0m \u001b[38;5;28;01mreturn\u001b[39;00m \u001b[43mcp\u001b[49m\u001b[38;5;241;43m.\u001b[39;49m\u001b[43m_cached_css_compile\u001b[49m\u001b[43m(\u001b[49m\u001b[43mpattern\u001b[49m\u001b[43m,\u001b[49m\u001b[43m \u001b[49m\u001b[43mns\u001b[49m\u001b[43m,\u001b[49m\u001b[43m \u001b[49m\u001b[43mcs\u001b[49m\u001b[43m,\u001b[49m\u001b[43m \u001b[49m\u001b[43mflags\u001b[49m\u001b[43m)\u001b[49m\n",
      "File \u001b[0;32m/usr/local/lib/python3.9/site-packages/soupsieve/css_parser.py:218\u001b[0m, in \u001b[0;36m_cached_css_compile\u001b[0;34m(pattern, namespaces, custom, flags)\u001b[0m\n\u001b[1;32m    213\u001b[0m \u001b[38;5;124;03m\"\"\"Cached CSS compile.\"\"\"\u001b[39;00m\n\u001b[1;32m    215\u001b[0m custom_selectors \u001b[38;5;241m=\u001b[39m process_custom(custom)\n\u001b[1;32m    216\u001b[0m \u001b[38;5;28;01mreturn\u001b[39;00m cm\u001b[38;5;241m.\u001b[39mSoupSieve(\n\u001b[1;32m    217\u001b[0m     pattern,\n\u001b[0;32m--> 218\u001b[0m     \u001b[43mCSSParser\u001b[49m\u001b[43m(\u001b[49m\n\u001b[1;32m    219\u001b[0m \u001b[43m        \u001b[49m\u001b[43mpattern\u001b[49m\u001b[43m,\u001b[49m\n\u001b[1;32m    220\u001b[0m \u001b[43m        \u001b[49m\u001b[43mcustom\u001b[49m\u001b[38;5;241;43m=\u001b[39;49m\u001b[43mcustom_selectors\u001b[49m\u001b[43m,\u001b[49m\n\u001b[1;32m    221\u001b[0m \u001b[43m        \u001b[49m\u001b[43mflags\u001b[49m\u001b[38;5;241;43m=\u001b[39;49m\u001b[43mflags\u001b[49m\n\u001b[1;32m    222\u001b[0m \u001b[43m    \u001b[49m\u001b[43m)\u001b[49m\u001b[38;5;241;43m.\u001b[39;49m\u001b[43mprocess_selectors\u001b[49m\u001b[43m(\u001b[49m\u001b[43m)\u001b[49m,\n\u001b[1;32m    223\u001b[0m     namespaces,\n\u001b[1;32m    224\u001b[0m     custom,\n\u001b[1;32m    225\u001b[0m     flags\n\u001b[1;32m    226\u001b[0m )\n",
      "File \u001b[0;32m/usr/local/lib/python3.9/site-packages/soupsieve/css_parser.py:1159\u001b[0m, in \u001b[0;36mCSSParser.process_selectors\u001b[0;34m(self, index, flags)\u001b[0m\n\u001b[1;32m   1156\u001b[0m \u001b[38;5;28;01mdef\u001b[39;00m \u001b[38;5;21mprocess_selectors\u001b[39m(\u001b[38;5;28mself\u001b[39m, index: \u001b[38;5;28mint\u001b[39m \u001b[38;5;241m=\u001b[39m \u001b[38;5;241m0\u001b[39m, flags: \u001b[38;5;28mint\u001b[39m \u001b[38;5;241m=\u001b[39m \u001b[38;5;241m0\u001b[39m) \u001b[38;5;241m-\u001b[39m\u001b[38;5;241m>\u001b[39m ct\u001b[38;5;241m.\u001b[39mSelectorList:\n\u001b[1;32m   1157\u001b[0m     \u001b[38;5;124;03m\"\"\"Process selectors.\"\"\"\u001b[39;00m\n\u001b[0;32m-> 1159\u001b[0m     \u001b[38;5;28;01mreturn\u001b[39;00m \u001b[38;5;28;43mself\u001b[39;49m\u001b[38;5;241;43m.\u001b[39;49m\u001b[43mparse_selectors\u001b[49m\u001b[43m(\u001b[49m\u001b[38;5;28;43mself\u001b[39;49m\u001b[38;5;241;43m.\u001b[39;49m\u001b[43mselector_iter\u001b[49m\u001b[43m(\u001b[49m\u001b[38;5;28;43mself\u001b[39;49m\u001b[38;5;241;43m.\u001b[39;49m\u001b[43mpattern\u001b[49m\u001b[43m)\u001b[49m\u001b[43m,\u001b[49m\u001b[43m \u001b[49m\u001b[43mindex\u001b[49m\u001b[43m,\u001b[49m\u001b[43m \u001b[49m\u001b[43mflags\u001b[49m\u001b[43m)\u001b[49m\n",
      "File \u001b[0;32m/usr/local/lib/python3.9/site-packages/soupsieve/css_parser.py:985\u001b[0m, in \u001b[0;36mCSSParser.parse_selectors\u001b[0;34m(self, iselector, index, flags)\u001b[0m\n\u001b[1;32m    983\u001b[0m \u001b[38;5;28;01mtry\u001b[39;00m:\n\u001b[1;32m    984\u001b[0m     \u001b[38;5;28;01mwhile\u001b[39;00m \u001b[38;5;28;01mTrue\u001b[39;00m:\n\u001b[0;32m--> 985\u001b[0m         key, m \u001b[38;5;241m=\u001b[39m \u001b[38;5;28;43mnext\u001b[39;49m\u001b[43m(\u001b[49m\u001b[43miselector\u001b[49m\u001b[43m)\u001b[49m\n\u001b[1;32m    987\u001b[0m         \u001b[38;5;66;03m# Handle parts\u001b[39;00m\n\u001b[1;32m    988\u001b[0m         \u001b[38;5;28;01mif\u001b[39;00m key \u001b[38;5;241m==\u001b[39m \u001b[38;5;124m\"\u001b[39m\u001b[38;5;124mat_rule\u001b[39m\u001b[38;5;124m\"\u001b[39m:\n",
      "File \u001b[0;32m/usr/local/lib/python3.9/site-packages/soupsieve/css_parser.py:1152\u001b[0m, in \u001b[0;36mCSSParser.selector_iter\u001b[0;34m(self, pattern)\u001b[0m\n\u001b[1;32m   1150\u001b[0m         \u001b[38;5;28;01melse\u001b[39;00m:\n\u001b[1;32m   1151\u001b[0m             msg \u001b[38;5;241m=\u001b[39m \u001b[38;5;124m\"\u001b[39m\u001b[38;5;124mInvalid character \u001b[39m\u001b[38;5;132;01m{!r}\u001b[39;00m\u001b[38;5;124m position \u001b[39m\u001b[38;5;132;01m{}\u001b[39;00m\u001b[38;5;124m\"\u001b[39m\u001b[38;5;241m.\u001b[39mformat(c, index)\n\u001b[0;32m-> 1152\u001b[0m         \u001b[38;5;28;01mraise\u001b[39;00m SelectorSyntaxError(msg, \u001b[38;5;28mself\u001b[39m\u001b[38;5;241m.\u001b[39mpattern, index)\n\u001b[1;32m   1153\u001b[0m \u001b[38;5;28;01mif\u001b[39;00m \u001b[38;5;28mself\u001b[39m\u001b[38;5;241m.\u001b[39mdebug:  \u001b[38;5;66;03m# pragma: no cover\u001b[39;00m\n\u001b[1;32m   1154\u001b[0m     \u001b[38;5;28mprint\u001b[39m(\u001b[38;5;124m'\u001b[39m\u001b[38;5;124m## END PARSING\u001b[39m\u001b[38;5;124m'\u001b[39m)\n",
      "\u001b[0;31mSelectorSyntaxError\u001b[0m: Malformed attribute selector at position 3\n  line 1:\ndiv[data-viewport=\"{\"trackableId\":\"01GZM9D1F0H20BX31VGJBZW923\"}\"] span\n   ^"
     ]
    }
   ],
   "source": [
    "# dict_scrap = create_dict({\"name\": \"Animal Insect Enamel Pin Lapel Collar Pin Corsage Brooch Women Men Jewelry Gift\",\n",
    "#                          \"description\":\"Enamel\", \n",
    "#                           \"price\":\"0.99\",\n",
    "#                           \"location\":\"义乌, China\",\n",
    "#                         \"ship_to\":\"Worldwide\",\n",
    "#                         \"seller\": \"yaojie_80\"})\n",
    "# scraper = create_scraper(http, dict_scrap)"
   ]
  },
  {
   "cell_type": "code",
   "execution_count": null,
   "id": "20eb9a6d-bcbc-463c-a31c-ff12cff9d293",
   "metadata": {},
   "outputs": [],
   "source": [
    "test_page_and_save(http=http,\n",
    "                   scraper=scraper,\n",
    "                   site=\"scraper_ebay\")"
   ]
  },
  {
   "cell_type": "code",
   "execution_count": null,
   "id": "4a32fa85-7771-482e-9ce6-4704e50cc179",
   "metadata": {},
   "outputs": [],
   "source": []
  },
  {
   "cell_type": "markdown",
   "id": "dc727574-9561-42b8-98b5-f06c4835b8d7",
   "metadata": {},
   "source": [
    "## usedcalgary"
   ]
  },
  {
   "cell_type": "code",
   "execution_count": 56,
   "id": "1ab48753-6be0-43ac-8906-b8094a14cc44",
   "metadata": {},
   "outputs": [],
   "source": [
    "http = \"https://www.usedcalgary.com/all/18176415\""
   ]
  },
  {
   "cell_type": "code",
   "execution_count": 59,
   "id": "035d57c3-51c3-4e06-b231-1e7787905f01",
   "metadata": {
    "tags": []
   },
   "outputs": [],
   "source": [
    "# dict_scrap = create_dict({\"name\": \"$25 · ** BBQ Grills **\",\n",
    "#                          \"description\":\"BBQ wire grills : two round 22.5 in. $25. ea. Round with handle 17 in. $20. Rectangle 19in. x 20 in. $10. Small 11 in. x 14 in. $5. Round stand up 13.5in. $20. .** Call only** 403-291-4067.\", \n",
    "#                           \"price\":None,\n",
    "#                           \"posted\":\"September 21, 2012\",\n",
    "#                         \"category\":\"Household\",\n",
    "#                         \"seller\": None})\n",
    "# scraper = create_scraper(http, dict_scrap)"
   ]
  },
  {
   "cell_type": "code",
   "execution_count": null,
   "id": "f598038d-3a7a-4658-9aaf-56ac5e0a9056",
   "metadata": {
    "tags": []
   },
   "outputs": [],
   "source": [
    "# test_page_and_save(http=\"http://implora.com/Implora%20Brown%20Shark%20Skin%20Leather%20Hide.html?=st0550\",\n",
    "#                    scraper=scraper,\n",
    "#                    site=\"scraper_implora\")"
   ]
  },
  {
   "cell_type": "code",
   "execution_count": null,
   "id": "62987c55-9630-44a5-8a68-ac086a6a2c0a",
   "metadata": {},
   "outputs": [],
   "source": []
  },
  {
   "cell_type": "code",
   "execution_count": null,
   "id": "02377e07-99b7-45c2-a567-bd7b66fecfdf",
   "metadata": {},
   "outputs": [],
   "source": []
  },
  {
   "cell_type": "code",
   "execution_count": null,
   "id": "aebb0d62-9802-43f2-9ab2-8843f63a8d5a",
   "metadata": {},
   "outputs": [],
   "source": []
  },
  {
   "cell_type": "code",
   "execution_count": null,
   "id": "f8d2a697-3cc0-452a-bd98-b24d5c224cf7",
   "metadata": {},
   "outputs": [],
   "source": [
    "\n",
    "    # seeds.append(f\"http://www.antiques-atlas.com/search/?q={pattern}&a_status=&sort=priced&a_antiquesdealers=antique&action=search\")\n",
    "    # seeds.append(f\"http://picclick.com/?q={pattern}\")\n",
    "    # seeds.append(f\"http://www.boneroom.com/apps/search?q={pattern}\")\n",
    "    # seeds.append(f\"http://www.trocadero.com/directory/search.php?keyword={pattern}&archinsearch=yes&click_to_search_now_x=0&click_to_search_now_y=0&category=ALL%20ITEMS&period=No%20Selection&sortfield=calculatedPrice&sortdir=SORT_DESC&start=0&l=60&view=icon\")\n",
    "    # seeds.append(f\"http://www.glacierwear.com/catalogsearch/result/index/?ajaxcatalog=true&dir=desc&limit=24&order=price&q={pattern}\")\n",
    "    # seeds.append(f\"http://chichesterinc.com/?ss360Query={pattern}\")\n",
    "    # seeds.append(f\"https://www.worthpoint.com/inventory/search?max=100&sort=BestMatch&img=true&restrictTo=worldwide&query={pattern}&categories=\")\n",
    "    # seeds.append(f\"http://implora.com/searchresult.asp?searchimp={pattern}&submit=Search\")\n",
    "    seeds.append(f\"http://www.rubylane.com/ni/search?q={pattern}&sort=pricehigh&style=3&cstyle=1ttp://www.auctionzip.com/cgi-bin/auctionsearch.cgi?txtSearchRadius=0&txtSearchZip=&idxSearchCategory=0&txtSearchKeywords={pattern}&month=&year=&searchPath=head&newsearch=1\")\n",
    "    seeds.append(f\"http://www.ioffer.com/search/items/{pattern}?order=price_desc\")\n",
    "    # seeds.append(f\"http://www.preloved.co.uk/search?keyword={pattern}&orderBy=priceDesc&location=&lat=&lon=&distance=&sectionId=&minimumPrice=&maximumPrice=&advertType=&advertiserType=&promotionType=\")\n",
    "    seeds.append(f\"http://www.usedcalgary.com/classifieds/all?description={pattern}\")\n",
    "    seeds.append(f\"https://tradingpost.com.au/search-results/?q={pattern}&filter-location-text=&filter-location-dist=%3E500&cat=&filter-sort-by=Price-Dsc\")\n",
    "    seeds.append(f\"http://www.ecrater.com/filter.php?a=1&keywords={pattern}&view=list&sort=price_desc\")"
   ]
  },
  {
   "cell_type": "code",
   "execution_count": null,
   "id": "5080521f-6ed8-4d18-a404-8a26a0b00702",
   "metadata": {},
   "outputs": [],
   "source": []
  },
  {
   "cell_type": "code",
   "execution_count": null,
   "id": "8f27eca1-1ce5-403b-b3b1-1f67689103a4",
   "metadata": {},
   "outputs": [],
   "source": []
  },
  {
   "cell_type": "code",
   "execution_count": 50,
   "id": "f492f5a6-68cc-43e8-8123-2ef172c7ebb5",
   "metadata": {
    "tags": []
   },
   "outputs": [],
   "source": [
    "# import requests\n",
    "# from mlscraper.html import Page\n",
    "# from mlscraper.samples import Sample, TrainingSet\n",
    "# from mlscraper.training import train_scraper\n",
    "# import pickle\n",
    "# # fetch the page to train\n",
    "ebay = 'https://www.ebay.com/itm/275647232802?epid=27036415710&hash=item402ddafb22:g:rJIAAOSwg8Bj0rtx&amdata=enc%3AAQAIAAAA4JkX1NQwkgZ5cqPVH4AfMcE9FbAOLrErBz%2BGM9OEVDkvzRQ1MjK%2FZQsDMp7%2FyxhKzlqnvhtOVqUsFDDl3ayluXbGUuAwZcZNU%2B1sv7rXMFqoSynCFueDCHlRIPpyATvXbZjsr0OZR8ZZlLiFjBwwZIDjqsdEB66WixJR3AfeJXVjQ4TUSSB7UVeukEjUEAFgoKFK3jXWFqG310raIHM565DyKKfitGhm7oeR%2BgHJGTAyjQnlAWv1%2BLVnnyQx9%2FNtoiBOnCwcSKTQdLVXZaUMwA9TaFv0kavQTLyd9BH2CdtJ%7Ctkp%3ABFBMlsfbmPdh'\n",
    "resp = requests.get(ebay)\n",
    "assert resp.status_code == 200\n",
    "\n",
    "# create a sample for Albert Einstein\n",
    "training_set = TrainingSet()\n",
    "page = Page(resp.content)\n",
    "sample = Sample(page, {'product': \"Dyson V11 Animal + Cordless Vacuum | Red | Certified Refurbished\", \"price\": \"279.99\",\"location\": \"Fairfield, Ohio, United States\", \"ships to\": \"United States\", \"seller\": \"dysonstore\"})\n",
    "training_set.add_sample(sample)\n",
    "\n",
    "# train the scraper with the created training set\n",
    "scraper = train_scraper(training_set)\n"
   ]
  },
  {
   "cell_type": "code",
   "execution_count": 51,
   "id": "dd51337b-ea8f-427c-bfe6-f377d59c8e0d",
   "metadata": {},
   "outputs": [
    {
     "name": "stdout",
     "output_type": "stream",
     "text": [
      "{'product': 'Burmese Python Print Genuine Cobra SNAKESKIN SNAKE SKIN Leather Hide Pelt Olive   | eBay', 'seller': 'the-snakeskin-guy', 'ships to': 'Worldwide', 'price': '19.06', 'location': 'CN, China'}\n"
     ]
    }
   ],
   "source": [
    "# scrape another page\n",
    "resp = requests.get('https://www.ebay.com/itm/275727724334?_trkparms=amclksrc%3DITM%26aid%3D1110006%26algo%3DHOMESPLICE.SIM%26ao%3D1%26asc%3D248861%26meid%3D06a47d5529684211831a62bbe6f206f4%26pid%3D101224%26rk%3D2%26rkt%3D5%26sd%3D195718678492%26itm%3D275727724334%26pmt%3D0%26noa%3D1%26pg%3D2047675%26algv%3DDefaultOrganicWebV9BertRefreshRanker%26brand%3DUnbranded&_trksid=p2047675.c101224.m-1')\n",
    "result = scraper.get(Page(resp.content))\n",
    "print(result)"
   ]
  },
  {
   "cell_type": "code",
   "execution_count": 28,
   "id": "e30af19f-06fd-4978-b19f-84c0d2571162",
   "metadata": {},
   "outputs": [],
   "source": [
    "with open(\"scraper_ebay\", \"wb\") as f:\n",
    "    pickle.dump(scraper, f, protocol=pickle.HIGHEST_PROTOCOL)"
   ]
  },
  {
   "cell_type": "code",
   "execution_count": 26,
   "id": "9ee35f29-a5d1-4561-8483-cbfcb22aa7cd",
   "metadata": {},
   "outputs": [],
   "source": [
    "with open(\"scraper\", \"rb\") as f:\n",
    "    # bytes_io = io.BytesIO(f.read())\n",
    "    scrap = pickle.load(f)"
   ]
  },
  {
   "cell_type": "markdown",
   "id": "4689ed5e-1a0b-4d90-919f-06e2c183bc77",
   "metadata": {},
   "source": [
    "## Auction zip"
   ]
  },
  {
   "cell_type": "code",
   "execution_count": 60,
   "id": "cdaaebf0-5402-47b1-abbc-612fcb18ebd7",
   "metadata": {},
   "outputs": [],
   "source": [
    "ebay = 'https://www.auctionzip.com/cgi-bin/ritem.cgi?itemid=52672&top=1'\n",
    "resp = requests.get(ebay)\n",
    "assert resp.status_code == 200\n",
    "\n",
    "ebay2 = 'https://www.auctionzip.com/auction-lot/5-1862-indian-head-cents-g-vg_99D4C93A87'\n",
    "resp2 = requests.get(ebay2)\n",
    "assert resp2.status_code == 200\n",
    "\n",
    "# create a sample for Albert Einstein\n",
    "training_set = TrainingSet()\n",
    "page = Page(resp.content)\n",
    "page2 = Page(resp2.content)\n",
    "\n",
    "sample1 = Sample(page, {'name': \"1924 CADILLAC SEDANHAS BEEN IN THE FAMILY SINCE NEW\",\"location\": \"City: CHARLESTOWN\", \"ships to\": \"State: RI\", \"seller\": \"Bob Ward\", \"price\": \"Sold For:\"})\n",
    "# sample2 = Sample(page2, {'product': \"(5) 1862 INDIAN HEAD CENTS G/VG\",\"location\": \"Findlay, OH, US 45840\", \"ships to\": \"SHIPPING INFO\", \"seller\": \"by Silver City Auctions\"})\n",
    "training_set.add_sample(sample1)\n",
    "# training_set.add_sample(sample2)\n",
    "# train the scraper with the created training set\n",
    "scraper = train_scraper(training_set)"
   ]
  },
  {
   "cell_type": "code",
   "execution_count": 61,
   "id": "e7ac422a-d724-4db4-a36a-1895945f9f32",
   "metadata": {},
   "outputs": [
    {
     "name": "stdout",
     "output_type": "stream",
     "text": [
      "{'price': 'Sold For: $137,500.00', 'location': 'City: Mt. Vernon', 'ships to': 'State: OH', 'seller': 'Michael Hoffman CAI, Auctioneer', 'name': 'Low mileage 1989 Chevy Blazer'}\n"
     ]
    }
   ],
   "source": [
    "\n",
    "# scrape another page\n",
    "resp = requests.get(\"https://www.auctionzip.com/cgi-bin/ritem.cgi?itemid=52750&top=1\")\n",
    "result = scraper.get(Page(resp.content))\n",
    "print(result)"
   ]
  },
  {
   "cell_type": "code",
   "execution_count": 62,
   "id": "eabee475-dab4-481c-b957-ac6c579718b8",
   "metadata": {},
   "outputs": [],
   "source": [
    "with open(\"scraper_auctionzip\", \"wb\") as f:\n",
    "    pickle.dump(scraper, f, protocol=pickle.HIGHEST_PROTOCOL)"
   ]
  },
  {
   "cell_type": "markdown",
   "id": "07769ddd-3bb5-4c21-b316-b0f7f532e324",
   "metadata": {},
   "source": [
    "## https://www.ebid.net/"
   ]
  },
  {
   "cell_type": "code",
   "execution_count": 36,
   "id": "988a7f6e-99b0-44ce-8960-592fa6bb0eb6",
   "metadata": {},
   "outputs": [],
   "source": [
    "\n",
    "http=\"http://www.gumtree.com/p/mens-trainers/nike-air-python-prm-snake-skin/1419067474\"\n",
    "dict_scrap = create_dict({\"product\": \"Nike Air PYTHON PRM Snake Skin\",\n",
    "                         \"description\": \"Nike Air PYTHON PRM Snake Skin\",\n",
    "                        \"location\":\"South East London, London\",\n",
    "                        \"ship_to\":\"South East London, London\",\n",
    "                        \"seller\": \"Don\",\n",
    "                        \"price\": \"£200.00\"})\n",
    "\n",
    "ebay = 'http://www.gumtree.com/p/mens-trainers/nike-air-python-prm-snake-skin/1419067474'\n",
    "headers={'User-Agent': 'Mozilla/5.0 (Windows NT 10.0; Win64; x64) AppleWebKit/537.36 (KHTML, like Gecko) Chrome/102.0.0.0 Safari/537.36'}\n",
    "resp = requests.get(ebay, headers= headers)\n",
    "assert resp.status_code == 200\n",
    "\n",
    "\n",
    "# create a sample for Albert Einstein\n",
    "training_set = TrainingSet()\n",
    "page = Page(resp.content)\n",
    "\n",
    "\n",
    "sample = Sample(page, {'name': \"Nike Air PYTHON PRM Snake Skin\",'description': 'Nike Air PYTHON PRM Snake Skin', \"location\": \"South East London\",'ship_to': 'South East London, London', 'seller':'Don', 'price': '£200.00'})\n",
    "# sample2 = Sample(page2, {'product': \"(5) 1862 INDIAN HEAD CENTS G/VG\",\"location\": \"Findlay, OH, US 45840\", \"ships to\": \"SHIPPING INFO\", \"seller\": \"by Silver City Auctions\"})\n",
    "training_set.add_sample(sample)\n",
    "# training_set.add_sample(sample2)\n",
    "# train the scraper with the created training set\n",
    "scraper = train_scraper(training_set)"
   ]
  },
  {
   "cell_type": "code",
   "execution_count": null,
   "id": "c997594f-f88e-4e0e-811b-1375eeddba76",
   "metadata": {},
   "outputs": [],
   "source": []
  },
  {
   "cell_type": "code",
   "execution_count": 60,
   "id": "3c24f8ec-0f00-48f8-a3db-c27305cfac42",
   "metadata": {},
   "outputs": [
    {
     "data": {
      "text/plain": [
       "{'product': 'Nike Air PYTHON PRM Snake Skin',\n",
       " 'description': 'Nike Air PYTHON PRM Snake Skin',\n",
       " 'location': 'South East London, London',\n",
       " 'ship_to': 'South East London, London',\n",
       " 'seller': 'Don',\n",
       " 'price': '£200.00'}"
      ]
     },
     "execution_count": 60,
     "metadata": {},
     "output_type": "execute_result"
    }
   ],
   "source": [
    "dict_scrap"
   ]
  },
  {
   "cell_type": "code",
   "execution_count": null,
   "id": "edd335f2-0bfe-48bd-9928-187897921ec6",
   "metadata": {},
   "outputs": [],
   "source": []
  },
  {
   "cell_type": "code",
   "execution_count": 65,
   "id": "feefe711-0f2d-4b8b-a9a0-cb0f8829fe67",
   "metadata": {
    "collapsed": true,
    "jupyter": {
     "outputs_hidden": true
    },
    "tags": []
   },
   "outputs": [
    {
     "ename": "AssertionError",
     "evalue": "css rule does not match any node (self.css_rule='.highlights-ritem-info--detail__sale li:nth-child(1)', node=<Page self.soup.name='[document]' classes=None, text=Error Page...>)",
     "output_type": "error",
     "traceback": [
      "\u001b[0;31m---------------------------------------------------------------------------\u001b[0m",
      "\u001b[0;31mAssertionError\u001b[0m                            Traceback (most recent call last)",
      "Cell \u001b[0;32mIn [65], line 3\u001b[0m\n\u001b[1;32m      1\u001b[0m \u001b[38;5;66;03m# scrape another page\u001b[39;00m\n\u001b[1;32m      2\u001b[0m resp \u001b[38;5;241m=\u001b[39m requests\u001b[38;5;241m.\u001b[39mget(\u001b[38;5;124m\"\u001b[39m\u001b[38;5;124mhttps://www.gumtree.com/p/mens-trainers/nike-air-force-1-high-tops/1456283340\u001b[39m\u001b[38;5;124m\"\u001b[39m)\n\u001b[0;32m----> 3\u001b[0m result \u001b[38;5;241m=\u001b[39m \u001b[43mscraper\u001b[49m\u001b[38;5;241;43m.\u001b[39;49m\u001b[43mget\u001b[49m\u001b[43m(\u001b[49m\u001b[43mPage\u001b[49m\u001b[43m(\u001b[49m\u001b[43mresp\u001b[49m\u001b[38;5;241;43m.\u001b[39;49m\u001b[43mcontent\u001b[49m\u001b[43m)\u001b[49m\u001b[43m)\u001b[49m\n\u001b[1;32m      4\u001b[0m \u001b[38;5;28mprint\u001b[39m(result)\n",
      "File \u001b[0;32m~/.local/lib/python3.9/site-packages/mlscraper/scrapers.py:18\u001b[0m, in \u001b[0;36mDictScraper.get\u001b[0;34m(self, node)\u001b[0m\n\u001b[1;32m     17\u001b[0m \u001b[38;5;28;01mdef\u001b[39;00m \u001b[38;5;21mget\u001b[39m(\u001b[38;5;28mself\u001b[39m, node: Node):\n\u001b[0;32m---> 18\u001b[0m     \u001b[38;5;28;01mreturn\u001b[39;00m {key: scraper\u001b[38;5;241m.\u001b[39mget(node) \u001b[38;5;28;01mfor\u001b[39;00m key, scraper \u001b[38;5;129;01min\u001b[39;00m \u001b[38;5;28mself\u001b[39m\u001b[38;5;241m.\u001b[39mscraper_per_key\u001b[38;5;241m.\u001b[39mitems()}\n",
      "File \u001b[0;32m~/.local/lib/python3.9/site-packages/mlscraper/scrapers.py:18\u001b[0m, in \u001b[0;36m<dictcomp>\u001b[0;34m(.0)\u001b[0m\n\u001b[1;32m     17\u001b[0m \u001b[38;5;28;01mdef\u001b[39;00m \u001b[38;5;21mget\u001b[39m(\u001b[38;5;28mself\u001b[39m, node: Node):\n\u001b[0;32m---> 18\u001b[0m     \u001b[38;5;28;01mreturn\u001b[39;00m {key: \u001b[43mscraper\u001b[49m\u001b[38;5;241;43m.\u001b[39;49m\u001b[43mget\u001b[49m\u001b[43m(\u001b[49m\u001b[43mnode\u001b[49m\u001b[43m)\u001b[49m \u001b[38;5;28;01mfor\u001b[39;00m key, scraper \u001b[38;5;129;01min\u001b[39;00m \u001b[38;5;28mself\u001b[39m\u001b[38;5;241m.\u001b[39mscraper_per_key\u001b[38;5;241m.\u001b[39mitems()}\n",
      "File \u001b[0;32m~/.local/lib/python3.9/site-packages/mlscraper/scrapers.py:50\u001b[0m, in \u001b[0;36mValueScraper.get\u001b[0;34m(self, node)\u001b[0m\n\u001b[1;32m     49\u001b[0m \u001b[38;5;28;01mdef\u001b[39;00m \u001b[38;5;21mget\u001b[39m(\u001b[38;5;28mself\u001b[39m, node: Node):\n\u001b[0;32m---> 50\u001b[0m     \u001b[38;5;28;01mreturn\u001b[39;00m \u001b[38;5;28mself\u001b[39m\u001b[38;5;241m.\u001b[39mextractor\u001b[38;5;241m.\u001b[39mextract(\u001b[38;5;28;43mself\u001b[39;49m\u001b[38;5;241;43m.\u001b[39;49m\u001b[43mselector\u001b[49m\u001b[38;5;241;43m.\u001b[39;49m\u001b[43mselect_one\u001b[49m\u001b[43m(\u001b[49m\u001b[43mnode\u001b[49m\u001b[43m)\u001b[49m)\n",
      "File \u001b[0;32m~/.local/lib/python3.9/site-packages/mlscraper/selectors.py:38\u001b[0m, in \u001b[0;36mCssRuleSelector.select_one\u001b[0;34m(self, node)\u001b[0m\n\u001b[1;32m     36\u001b[0m selection \u001b[38;5;241m=\u001b[39m node\u001b[38;5;241m.\u001b[39mselect(\u001b[38;5;28mself\u001b[39m\u001b[38;5;241m.\u001b[39mcss_rule)\n\u001b[1;32m     37\u001b[0m \u001b[38;5;28;01mif\u001b[39;00m \u001b[38;5;129;01mnot\u001b[39;00m selection:\n\u001b[0;32m---> 38\u001b[0m     \u001b[38;5;28;01mraise\u001b[39;00m \u001b[38;5;167;01mAssertionError\u001b[39;00m(\n\u001b[1;32m     39\u001b[0m         \u001b[38;5;124mf\u001b[39m\u001b[38;5;124m\"\u001b[39m\u001b[38;5;124mcss rule does not match any node (\u001b[39m\u001b[38;5;132;01m{\u001b[39;00m\u001b[38;5;28mself\u001b[39m\u001b[38;5;241m.\u001b[39mcss_rule\u001b[38;5;132;01m=}\u001b[39;00m\u001b[38;5;124m, \u001b[39m\u001b[38;5;132;01m{\u001b[39;00mnode\u001b[38;5;132;01m=}\u001b[39;00m\u001b[38;5;124m)\u001b[39m\u001b[38;5;124m\"\u001b[39m\n\u001b[1;32m     40\u001b[0m     )\n\u001b[1;32m     41\u001b[0m \u001b[38;5;28;01mreturn\u001b[39;00m selection[\u001b[38;5;241m0\u001b[39m]\n",
      "\u001b[0;31mAssertionError\u001b[0m: css rule does not match any node (self.css_rule='.highlights-ritem-info--detail__sale li:nth-child(1)', node=<Page self.soup.name='[document]' classes=None, text=Error Page...>)"
     ]
    }
   ],
   "source": [
    "# scrape another page\n",
    "resp = requests.get(\"https://www.gumtree.com/p/mens-trainers/nike-air-force-1-high-tops/1456283340\")\n",
    "result = scraper.get(Page(resp.content))\n",
    "print(result)"
   ]
  },
  {
   "cell_type": "code",
   "execution_count": null,
   "id": "6a053a60-3381-4193-9d7f-fb57bd72797d",
   "metadata": {},
   "outputs": [],
   "source": [
    "def create_scraper(http: str, dict_page: dict) -> Any:\n",
    "    headers={'User-Agent': 'Mozilla/5.0 (Windows NT 10.0; Win64; x64) AppleWebKit/537.36 (KHTML, like Gecko) Chrome/102.0.0.0 Safari/537.36'}\n",
    "    resp = requests.get(http, headers= headers)\n",
    "    assert resp.status_code == 200\n",
    "\n",
    "    training_set = TrainingSet()\n",
    "    page = Page(resp.content)\n",
    "\n",
    "    sample= Sample(page, dict_page)\n",
    "    training_set.add_sample(sample)\n",
    "    scraper = train_scraper(training_set)\n",
    "    return scraper\n"
   ]
  },
  {
   "cell_type": "code",
   "execution_count": 94,
   "id": "ac1bf58c-2e8b-4b47-9f39-37b17ffa4e5c",
   "metadata": {},
   "outputs": [
    {
     "data": {
      "text/plain": [
       "<Response [503]>"
      ]
     },
     "execution_count": 94,
     "metadata": {},
     "output_type": "execute_result"
    }
   ],
   "source": [
    "resp"
   ]
  },
  {
   "cell_type": "code",
   "execution_count": null,
   "id": "d7237d5d-64d9-4189-a716-2d1c50e56f89",
   "metadata": {},
   "outputs": [],
   "source": [
    "### A"
   ]
  },
  {
   "cell_type": "code",
   "execution_count": null,
   "id": "3c6b6d72-9236-4d51-b55f-002f2131bb21",
   "metadata": {},
   "outputs": [],
   "source": [
    "headers={'User-Agent': 'Mozilla/5.0 (Windows NT 10.0; Win64; x64) AppleWebKit/537.36 (KHTML, like Gecko) Chrome/102.0.0.0 Safari/537.36'}"
   ]
  },
  {
   "cell_type": "code",
   "execution_count": null,
   "id": "d73b02fc-2a84-4cf9-9d68-38ed3cb8e462",
   "metadata": {},
   "outputs": [],
   "source": [
    "def create_dict(options: dict) -> dict:\n",
    "    keys=[]\n",
    "    for key in options.keys():\n",
    "        if not options[key]:\n",
    "            keys.append(key)\n",
    "    for key in keys:\n",
    "        options.pop(key)\n",
    "    return options\n"
   ]
  },
  {
   "cell_type": "code",
   "execution_count": null,
   "id": "09f0e11f-d386-4f68-859b-01fa35f1076d",
   "metadata": {},
   "outputs": [],
   "source": [
    "def test_page_and_save(http: str, scraper: Any, site: str) -> None:\n",
    "    resp = requests.get(http, headers=headers)\n",
    "    assert resp.status_code == 200\n",
    "    result = scraper.get(Page(resp.content))\n",
    "    print(result)\n",
    "    if result:\n",
    "        with open(site, \"wb\") as f:\n",
    "            pickle.dump(scraper, f, protocol=pickle.HIGHEST_PROTOCOL)\n",
    "        "
   ]
  },
  {
   "cell_type": "code",
   "execution_count": 67,
   "id": "f0b2de70-3523-4959-8395-7a11a3f6e22f",
   "metadata": {
    "tags": []
   },
   "outputs": [],
   "source": [
    "http=\"https://www.gumtree.com/p/mens-trainers/new-nike-tempo-next-flyease-size-uk-10/1455633446\"\n",
    "dict_scrap = create_dict({\"name\": \"New Nike Tempo next% Flyease size UK 10\",\n",
    "                         \"description\": \"Brand new no box Nike Air Tempo Next% Flyease size UK10 trainers. Never been worn. Bought from Sports Direct for £145. Absolutely nothing wrong with them, Trainers are as pictured.\",\n",
    "                        \"location\":\"Lambeth, London\",\n",
    "                        \"ship_to\":None,\n",
    "                        \"seller\": \"fixnaflexa\",\n",
    "                        \"price\": \"£65.00\"})\n",
    "scraper = create_scraper(http, dict_scrap)\n"
   ]
  },
  {
   "cell_type": "code",
   "execution_count": 68,
   "id": "4dc93d84-687c-4f65-8d65-8c9ccae46a28",
   "metadata": {},
   "outputs": [
    {
     "name": "stdout",
     "output_type": "stream",
     "text": [
      "{'price': '£80.00', 'location': 'Loughborough, Leicestershire', 'description': 'Brand new with tags adidas Adizero race running singlet. Provided for contracted adidas athletes. Spare one here. Size XL. \\nHappy to post for FREE.', 'seller': 'Contact Harry', 'name': 'Adidas Adizero Speed Professional Race Singlet 2020'}\n"
     ]
    }
   ],
   "source": [
    "test_page_and_save(http=\"https://www.gumtree.com/p/mens-trainers/adidas-adizero-speed-professional-race-singlet-2020/1409382639\", scraper=scraper, site=\"scraper_gumtree\")"
   ]
  },
  {
   "cell_type": "code",
   "execution_count": null,
   "id": "70480b8b-ea78-4c32-9bdf-364b555e79f0",
   "metadata": {},
   "outputs": [],
   "source": []
  },
  {
   "cell_type": "code",
   "execution_count": null,
   "id": "034021c5-818a-41ca-8bbf-62a6f9814cd8",
   "metadata": {},
   "outputs": [],
   "source": []
  },
  {
   "cell_type": "code",
   "execution_count": null,
   "id": "7e5a95f8-d0c1-4cf8-bcdb-db2a27eded91",
   "metadata": {},
   "outputs": [],
   "source": []
  }
 ],
 "metadata": {
  "kernelspec": {
   "display_name": "Python 3 (ipykernel)",
   "language": "python",
   "name": "python3"
  },
  "language_info": {
   "codemirror_mode": {
    "name": "ipython",
    "version": 3
   },
   "file_extension": ".py",
   "mimetype": "text/x-python",
   "name": "python",
   "nbconvert_exporter": "python",
   "pygments_lexer": "ipython3",
   "version": "3.9.14"
  }
 },
 "nbformat": 4,
 "nbformat_minor": 5
}
