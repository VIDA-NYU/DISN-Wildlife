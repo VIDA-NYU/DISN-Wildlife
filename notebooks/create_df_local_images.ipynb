{
 "cells": [
  {
   "cell_type": "code",
   "execution_count": 5,
   "id": "9dee38d3-ce10-41a6-bde4-1c1b0cacde67",
   "metadata": {},
   "outputs": [],
   "source": [
    "import pandas as pd\n",
    "import numpy as np\n",
    "import os\n",
    "import time\n",
    "from PIL import Image\n",
    "import requests\n",
    "from io import BytesIO\n",
    "# from geopy.geocoders import Nominatim\n",
    "# geolocator = Nominatim(user_agent=\"disn-wildlife\")\n",
    "import datamart_geo\n",
    "geo_data = datamart_geo.GeoData.download() \n",
    "import uuid\n",
    "from statistics import mean\n",
    "from PIL import Image\n",
    "from numpy import asarray\n"
   ]
  },
  {
   "cell_type": "code",
   "execution_count": 6,
   "id": "6031f566-1676-45ad-84d5-f958cbc7cd56",
   "metadata": {},
   "outputs": [],
   "source": [
    "from pathlib import Path\n",
    "\n",
    "disk_dir = Path(\"data/disk/\")\n",
    "lmdb_dir = Path(\"data/lmdb/\")\n",
    "hdf5_dir = Path(\"data/hdf5/\")\n",
    "\n",
    "# disk_dir.mkdir(parents=True, exist_ok=True)\n",
    "# lmdb_dir.mkdir(parents=True, exist_ok=True)\n",
    "# hdf5_dir.mkdir(parents=True, exist_ok=True)"
   ]
  },
  {
   "cell_type": "code",
   "execution_count": 7,
   "id": "f164b32a-dc2e-4f40-821a-6c452bfdb79e",
   "metadata": {},
   "outputs": [],
   "source": [
    "def read_many_disk(num_images):\n",
    "    \"\"\" Reads image from disk.\n",
    "        Parameters:\n",
    "        ---------------\n",
    "        num_images   number of images to read\n",
    "\n",
    "        Returns:\n",
    "        ----------\n",
    "        images      images array, (N, 32, 32, 3) to be stored\n",
    "        labels      associated meta data, int label (N, 1)\n",
    "    \"\"\"\n",
    "    images, labels = [], []\n",
    "\n",
    "    # Loop over all IDs and read each image in one by one\n",
    "    for image_id in range(num_images):\n",
    "        images.append(np.array(Image.open(disk_dir / f\"{image_id}.png\")))\n",
    "\n",
    "    with open(disk_dir / f\"{num_images}.csv\", \"r\") as csvfile:\n",
    "        reader = csv.reader(\n",
    "            csvfile, delimiter=\" \", quotechar=\"|\", quoting=csv.QUOTE_MINIMAL\n",
    "        )\n",
    "        for row in reader:\n",
    "            labels.append(row[0])\n",
    "    return images, labels\n",
    "\n",
    "def store_many_disk(images, img_id):\n",
    "    \"\"\" Stores an array of images to disk\n",
    "        Parameters:\n",
    "        ---------------\n",
    "        images       images array, (N, 32, 32, 3) to be stored\n",
    "        labels       labels array, (N, 1) to be stored\n",
    "    \"\"\"\n",
    "    num_images = len(images)\n",
    "\n",
    "    # Save all the images one by one\n",
    "    for i, image in zip(img_id, images):\n",
    "        Image.fromarray(image).save(disk_dir / f\"{i}.png\")\n",
    "\n",
    "    # Save all the labels to the csv file\n",
    "    with open(disk_dir / f\"{num_images}.csv\", \"w\") as csvfile:\n",
    "        writer = csv.writer(\n",
    "            csvfile, delimiter=\" \", quotechar=\"|\", quoting=csv.QUOTE_MINIMAL\n",
    "        )\n",
    "        for ids in img_id:\n",
    "            # This typically would be more than just one value per row\n",
    "            writer.writerow([ids])"
   ]
  },
  {
   "cell_type": "code",
   "execution_count": 8,
   "id": "6a4945db-03c3-41b5-af6e-673bcf87e4cf",
   "metadata": {},
   "outputs": [],
   "source": [
    "# def reverse_geocoding(lat, long):\n",
    "#     point = Point(lat, lon)\n",
    "#     try:\n",
    "#         location = locator.reverse(point)\n",
    "#         adress = location.raw['address']\n",
    "#         return address.get(\"state\"), address.get(\"country\")\n",
    "#     except (AttributeError, KeyError, ValueError):\n",
    "#         return None, None"
   ]
  },
  {
   "cell_type": "code",
   "execution_count": null,
   "id": "118090a1-1802-45e2-a50f-fbb4b6c2fc0b",
   "metadata": {
    "tags": []
   },
   "outputs": [],
   "source": [
    "# path = \"extraction/data_april12-13/\"\n",
    "# list_path = os.listdir(path=path)\n",
    "# list_path.remove('.ipynb_checkpoints')\n",
    "# list_path\n",
    "# dfs=[]\n",
    "# urls=[]\n",
    "# labels = []\n",
    "# for file in list_path:\n",
    "#     data = pd.read_parquet(\"extraction/data_april12-13/\"+file)\n",
    "#     data[\"location\"]=np.where(data[\"location\"]== \"None\", None, data[\"location\"])\n",
    "#     data[\"location\"]=np.where(data[\"location\"]== \"US\", \"USA\", data[\"location\"])\n",
    "#     data[\"location\"]=np.where(data[\"location\"]== \"GB\", \"United Kingdom\", data[\"location\"])\n",
    "#     # df = data[(data[\"final_label\"] == \"an animal body part\") | (data[\"final_label\"] == \"a real animal\")]\n",
    "#     df= data\n",
    "#     df[\"loc\"] = df[\"location\"].apply(lambda x: geo_data.resolve_name(x) if x else None)\n",
    "#     # time.sleep(1)\n",
    "#     # df[\"location\"]= df[\"loc\"].apply(lambda loc: tuple(loc.point) if loc else None)\n",
    "#     df['loc_name'] = df[\"loc\"].apply(lambda loc: loc.name if loc else None)\n",
    "#     df['lat'] = df[\"loc\"].apply(lambda loc: loc.latitude if loc else None)\n",
    "#     df['lon'] = df[\"loc\"].apply(lambda loc: loc.longitude if loc else None)\n",
    "#     df['country'] = df[\"loc\"].apply(lambda loc: loc.get_parent_area(level=0).name if loc else None)\n",
    "#     # df[[\"state\", \"country\"]] = df.apply(lambda x: reverse_geocoding(x[\"lat\"], x[\"lon\"]) if loc else None)\n",
    "#     df = df.drop(columns=[\"loc\"])\n",
    "#     dfs.append(df)\n",
    "# df = pd.concat(dfs)\n",
    "# df = df.reset_index(drop=True)\n",
    "# df[\"id\"] = df.apply(lambda _: uuid.uuid4(), axis=1)"
   ]
  },
  {
   "cell_type": "code",
   "execution_count": 8,
   "id": "77006a5b-89fd-4aa3-9ae1-9a7484873d18",
   "metadata": {},
   "outputs": [],
   "source": [
    "df = pd.read_csv(\"extraction/complete_days_12_13.csv\")"
   ]
  },
  {
   "cell_type": "code",
   "execution_count": 15,
   "id": "fa5af9d9-3bd3-42f6-a740-b6d237f3e07d",
   "metadata": {},
   "outputs": [
    {
     "data": {
      "text/plain": [
       "21903"
      ]
     },
     "execution_count": 15,
     "metadata": {},
     "output_type": "execute_result"
    }
   ],
   "source": [
    "len(df)"
   ]
  },
  {
   "cell_type": "code",
   "execution_count": 14,
   "id": "ced83acd-2265-4d61-bb5c-d5658707d497",
   "metadata": {
    "tags": []
   },
   "outputs": [
    {
     "name": "stdout",
     "output_type": "stream",
     "text": [
      "appended 1000\n",
      "appended 1000\n",
      "appended 1000\n"
     ]
    }
   ],
   "source": [
    "images = []\n",
    "ids= []\n",
    "count=0\n",
    "for _, row in df.iterrows():\n",
    "    try:\n",
    "        response = requests.get(row[\"image\"])\n",
    "        img = Image.open(BytesIO(response.content))\n",
    "        images.append(asarray(img))\n",
    "        labels.append(row[\"final_label\"])\n",
    "        ids.append(row[\"id\"])\n",
    "        count +=1\n",
    "        if count == 1000:\n",
    "            print(\"appended 1000\")\n",
    "            count = 0\n",
    "            store_many_disk(images, ids)\n",
    "            images = []\n",
    "            ids= []\n",
    "    except Exception:\n",
    "        continue"
   ]
  },
  {
   "cell_type": "code",
   "execution_count": 15,
   "id": "b7f4dcf7-3a68-466a-851a-b7dca971b5d6",
   "metadata": {},
   "outputs": [
    {
     "data": {
      "text/plain": [
       "3349"
      ]
     },
     "execution_count": 15,
     "metadata": {},
     "output_type": "execute_result"
    }
   ],
   "source": [
    "len(images)"
   ]
  },
  {
   "cell_type": "code",
   "execution_count": null,
   "id": "e558b3b9-2db0-451f-9eda-06e2ab842501",
   "metadata": {},
   "outputs": [
    {
     "name": "stdout",
     "output_type": "stream",
     "text": [
      "appended 1000\n",
      "appended 1000\n"
     ]
    }
   ],
   "source": [
    "images = []\n",
    "ids= []\n",
    "labels = []\n",
    "\n",
    "count=0\n",
    "for _, row in df[15000:].iterrows():\n",
    "    try:\n",
    "        response = requests.get(row[\"image\"])\n",
    "        img = Image.open(BytesIO(response.content))\n",
    "        images.append(asarray(img))\n",
    "        labels.append(row[\"final_label\"])\n",
    "        ids.append(row[\"id\"])\n",
    "        count +=1\n",
    "        \n",
    "        \n",
    "        if count == 1000:\n",
    "            print(\"appended 1000\")\n",
    "            count = 0\n",
    "            store_many_disk(images, ids)\n",
    "            images = []\n",
    "            ids= []\n",
    "            labels = []\n",
    "    except Exception:\n",
    "        continue"
   ]
  },
  {
   "cell_type": "code",
   "execution_count": null,
   "id": "af4abb56-0ed0-454f-ba26-46b37668b999",
   "metadata": {},
   "outputs": [],
   "source": [
    "store_many_disk(images, ids)"
   ]
  },
  {
   "cell_type": "code",
   "execution_count": null,
   "id": "7ace75ba-8590-4ad7-a18a-90e4cf98e2c9",
   "metadata": {},
   "outputs": [],
   "source": []
  },
  {
   "cell_type": "code",
   "execution_count": null,
   "id": "bb6660a4-41bc-4826-a316-a494147925c6",
   "metadata": {},
   "outputs": [],
   "source": []
  },
  {
   "cell_type": "code",
   "execution_count": null,
   "id": "149daa89-07e1-455a-8582-e3f6814ca91a",
   "metadata": {},
   "outputs": [],
   "source": []
  },
  {
   "cell_type": "code",
   "execution_count": null,
   "id": "8ae536f3-3181-4b5f-ac03-6aaec3ded6c8",
   "metadata": {},
   "outputs": [],
   "source": []
  },
  {
   "cell_type": "code",
   "execution_count": null,
   "id": "6b88d311-6720-4cbc-961b-adad48008c89",
   "metadata": {},
   "outputs": [],
   "source": []
  },
  {
   "cell_type": "code",
   "execution_count": null,
   "id": "0bdba266-0141-4ea4-8ff4-0ba5fb10c2d5",
   "metadata": {},
   "outputs": [],
   "source": []
  },
  {
   "cell_type": "code",
   "execution_count": null,
   "id": "1c578484-1ba9-4776-ae45-f3f98d5db319",
   "metadata": {},
   "outputs": [],
   "source": []
  },
  {
   "cell_type": "code",
   "execution_count": null,
   "id": "fd164839-d33b-42b6-81d1-c043bef0f760",
   "metadata": {},
   "outputs": [],
   "source": []
  },
  {
   "cell_type": "code",
   "execution_count": null,
   "id": "d6be4b38-0809-44e1-8200-e2d258eabc9f",
   "metadata": {},
   "outputs": [],
   "source": []
  },
  {
   "cell_type": "code",
   "execution_count": null,
   "id": "8679ba6e-803c-4bb5-81d3-ff406384ddf1",
   "metadata": {},
   "outputs": [],
   "source": []
  },
  {
   "cell_type": "code",
   "execution_count": null,
   "id": "e3f38155-db74-4dd5-802c-4b43790d95a8",
   "metadata": {},
   "outputs": [],
   "source": []
  },
  {
   "cell_type": "code",
   "execution_count": null,
   "id": "fdeca529-53f1-45f7-a474-f55661dba419",
   "metadata": {},
   "outputs": [],
   "source": []
  },
  {
   "cell_type": "code",
   "execution_count": null,
   "id": "f52a991f-bfbe-47bf-b26d-5e74636fbe6d",
   "metadata": {},
   "outputs": [],
   "source": []
  },
  {
   "cell_type": "code",
   "execution_count": null,
   "id": "9eee4057-f730-4b0f-9b3f-412c3008c0b0",
   "metadata": {},
   "outputs": [],
   "source": []
  },
  {
   "cell_type": "code",
   "execution_count": null,
   "id": "a01a796f-43ec-4962-b2ec-27625c5432bf",
   "metadata": {},
   "outputs": [],
   "source": []
  },
  {
   "cell_type": "code",
   "execution_count": null,
   "id": "e85aff01-cbae-407d-b35d-7d8aca860098",
   "metadata": {},
   "outputs": [],
   "source": []
  },
  {
   "cell_type": "code",
   "execution_count": null,
   "id": "ae8c016f-2708-47eb-b8d1-e8a98bdded16",
   "metadata": {},
   "outputs": [],
   "source": []
  },
  {
   "cell_type": "code",
   "execution_count": null,
   "id": "9ec7da84-13d5-4fee-a7ff-bc92bfc61c65",
   "metadata": {},
   "outputs": [],
   "source": []
  },
  {
   "cell_type": "code",
   "execution_count": null,
   "id": "637d8a07-0552-43ee-b48e-99f93510665f",
   "metadata": {},
   "outputs": [],
   "source": []
  },
  {
   "cell_type": "code",
   "execution_count": null,
   "id": "8816afbf-b84d-456e-9c18-ff00bcb80178",
   "metadata": {},
   "outputs": [],
   "source": []
  },
  {
   "cell_type": "code",
   "execution_count": null,
   "id": "e88f09b7-eb27-4d90-88ea-5e34f983d35f",
   "metadata": {},
   "outputs": [],
   "source": []
  },
  {
   "cell_type": "code",
   "execution_count": null,
   "id": "a707267f-69cb-492c-909d-bcb6fab08282",
   "metadata": {},
   "outputs": [],
   "source": []
  },
  {
   "cell_type": "code",
   "execution_count": null,
   "id": "f917fd0b-1400-4a13-b236-49c77c0b3aaa",
   "metadata": {},
   "outputs": [],
   "source": []
  },
  {
   "cell_type": "code",
   "execution_count": null,
   "id": "dd6aef1e-0927-4b58-8347-03046f40736c",
   "metadata": {},
   "outputs": [],
   "source": []
  },
  {
   "cell_type": "code",
   "execution_count": null,
   "id": "2e258dbe-b8dc-42e5-88c6-724f6ea8bbdb",
   "metadata": {},
   "outputs": [],
   "source": []
  },
  {
   "cell_type": "code",
   "execution_count": null,
   "id": "f9c64b44-16e1-4206-89b0-4679491639b1",
   "metadata": {},
   "outputs": [],
   "source": []
  },
  {
   "cell_type": "code",
   "execution_count": null,
   "id": "9d2f4548-bef2-40e9-81b8-62ecae8b3e40",
   "metadata": {},
   "outputs": [],
   "source": []
  },
  {
   "cell_type": "code",
   "execution_count": null,
   "id": "6621d079-3aad-42f7-882f-30b968f2d2c8",
   "metadata": {},
   "outputs": [],
   "source": []
  },
  {
   "cell_type": "code",
   "execution_count": null,
   "id": "55950feb-87e0-4248-9cd2-0869fbbf998f",
   "metadata": {},
   "outputs": [],
   "source": []
  },
  {
   "cell_type": "code",
   "execution_count": null,
   "id": "47ed42e5-3460-43e8-a703-2e99059625e6",
   "metadata": {},
   "outputs": [],
   "source": []
  },
  {
   "cell_type": "code",
   "execution_count": null,
   "id": "6869e9f7-fe80-49d7-9add-58650559f278",
   "metadata": {},
   "outputs": [],
   "source": []
  },
  {
   "cell_type": "code",
   "execution_count": null,
   "id": "85224350-9cad-452c-b941-9d5a14ab194f",
   "metadata": {},
   "outputs": [],
   "source": []
  },
  {
   "cell_type": "code",
   "execution_count": null,
   "id": "a2271b50-a64f-4dc8-b4ed-25b946006aac",
   "metadata": {},
   "outputs": [],
   "source": []
  },
  {
   "cell_type": "code",
   "execution_count": null,
   "id": "227ac4d5-150c-4687-a661-4a559c7799ea",
   "metadata": {},
   "outputs": [],
   "source": []
  },
  {
   "cell_type": "code",
   "execution_count": null,
   "id": "447ab8ae-0934-43f8-8523-1f5dfe3452e7",
   "metadata": {},
   "outputs": [],
   "source": []
  },
  {
   "cell_type": "code",
   "execution_count": null,
   "id": "c3ed5cc4-c6d0-451e-8212-724d805b3c1e",
   "metadata": {},
   "outputs": [],
   "source": []
  },
  {
   "cell_type": "code",
   "execution_count": null,
   "id": "dde13e01-f145-4dfe-9749-f766bb31e0c0",
   "metadata": {},
   "outputs": [],
   "source": []
  },
  {
   "cell_type": "code",
   "execution_count": null,
   "id": "be9fb022-0b1f-401c-a65d-e3557e3b0b12",
   "metadata": {},
   "outputs": [],
   "source": []
  },
  {
   "cell_type": "code",
   "execution_count": null,
   "id": "1de3587d-8852-4851-bd45-d0cb7081264c",
   "metadata": {},
   "outputs": [],
   "source": []
  },
  {
   "cell_type": "code",
   "execution_count": null,
   "id": "2db5c129-5f08-47ba-a403-f86d85ab518a",
   "metadata": {},
   "outputs": [],
   "source": []
  },
  {
   "cell_type": "code",
   "execution_count": null,
   "id": "5935750d-ca4f-4ff6-87d6-c95cf3ead360",
   "metadata": {},
   "outputs": [],
   "source": []
  },
  {
   "cell_type": "code",
   "execution_count": null,
   "id": "c69a065e-2aec-41a2-9277-06041fff5bef",
   "metadata": {},
   "outputs": [],
   "source": []
  },
  {
   "cell_type": "code",
   "execution_count": null,
   "id": "006e3434-f86b-4f0a-b0c9-50cf13665845",
   "metadata": {},
   "outputs": [],
   "source": []
  },
  {
   "cell_type": "code",
   "execution_count": null,
   "id": "0572164f-bf42-4a74-9aa3-9459fab7e112",
   "metadata": {},
   "outputs": [],
   "source": []
  },
  {
   "cell_type": "code",
   "execution_count": null,
   "id": "969229a2-f9bc-4090-81b3-50050185e048",
   "metadata": {},
   "outputs": [],
   "source": []
  },
  {
   "cell_type": "code",
   "execution_count": null,
   "id": "52e8252b-5553-4145-9d09-8ac2fb89eb21",
   "metadata": {},
   "outputs": [],
   "source": []
  },
  {
   "cell_type": "code",
   "execution_count": null,
   "id": "844db0c5-da7f-4b85-ab36-7e79c568318f",
   "metadata": {},
   "outputs": [],
   "source": []
  },
  {
   "cell_type": "code",
   "execution_count": null,
   "id": "5b0e212c-36c2-43b1-8f06-291e394bc092",
   "metadata": {},
   "outputs": [],
   "source": []
  },
  {
   "cell_type": "code",
   "execution_count": null,
   "id": "8ff19846-874c-4613-b24d-50075a974e4b",
   "metadata": {},
   "outputs": [],
   "source": []
  }
 ],
 "metadata": {
  "kernelspec": {
   "display_name": "Python 3 (ipykernel)",
   "language": "python",
   "name": "python3"
  },
  "language_info": {
   "codemirror_mode": {
    "name": "ipython",
    "version": 3
   },
   "file_extension": ".py",
   "mimetype": "text/x-python",
   "name": "python",
   "nbconvert_exporter": "python",
   "pygments_lexer": "ipython3",
   "version": "3.9.14"
  }
 },
 "nbformat": 4,
 "nbformat_minor": 5
}
