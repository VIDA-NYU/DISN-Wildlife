{
 "cells": [
  {
   "cell_type": "code",
   "execution_count": 1,
   "id": "1288b075-4335-4e13-8f50-ea00e5d331f0",
   "metadata": {},
   "outputs": [],
   "source": [
    "from elasticsearch import Elasticsearch, helpers\n",
    "from elasticsearch.helpers import scan\n",
    "from pathlib import Path\n",
    "import pandas as pd\n",
    "\n",
    "from typing import Optional, Any\n",
    "import requests\n",
    "from mlscraper.html import Page\n",
    "from mlscraper.samples import Sample, TrainingSet\n",
    "from mlscraper.training import train_scraper\n",
    "import pickle\n",
    "import extruct\n",
    "import datetime"
   ]
  },
  {
   "cell_type": "code",
   "execution_count": 19,
   "id": "0e7a8476-73a1-4d3a-a809-2b26c5d2b00c",
   "metadata": {},
   "outputs": [],
   "source": [
    "from pybloom import ScalableBloomFilter\n",
    "import os\n",
    "import pickle\n",
    "\n",
    "\n",
    "\n",
    "# bloom_path = \"/bloom\"\n",
    "\n",
    "class BloomFilter():\n",
    "    def __init__(self):\n",
    "        if os.path.isfile(\"bloom_filter\"):\n",
    "            with open(\"bloom_filter\", \"rb\") as f:\n",
    "                self.bloom = pickle.load(f)\n",
    "        else:\n",
    "            self.bloom = ScalableBloomFilter(mode=ScalableBloomFilter.SMALL_SET_GROWTH, error_rate=0.001)\n",
    "\n",
    "    def save(self):\n",
    "        # if not os.path.exists(bloom_path):\n",
    "        #     os.makedirs(bloom_path)\n",
    "        with open(\"bloom_filter\", \"wb\") as f:\n",
    "            pickle.dump(self.bloom, f, protocol=pickle.HIGHEST_PROTOCOL)\n",
    "\n",
    "    def check_bloom_filter(self, text: str) -> bool:\n",
    "        text = text.strip().lower()\n",
    "        res = text in self.bloom\n",
    "        if not res:\n",
    "            self.bloom.add(text)\n",
    "        return res"
   ]
  },
  {
   "cell_type": "code",
   "execution_count": 31,
   "id": "cdb63e8d-72a1-4c82-9822-92b5f2f8dae8",
   "metadata": {},
   "outputs": [
    {
     "name": "stdout",
     "output_type": "stream",
     "text": [
      "{'cluster_name': 'elasticsearch-clean', 'status': 'green', 'timed_out': False, 'number_of_nodes': 3, 'number_of_data_nodes': 3, 'active_primary_shards': 3, 'active_shards': 6, 'relocating_shards': 0, 'initializing_shards': 0, 'unassigned_shards': 0, 'delayed_unassigned_shards': 0, 'number_of_pending_tasks': 0, 'number_of_in_flight_fetch': 0, 'task_max_waiting_in_queue_millis': 0, 'active_shards_percent_as_number': 100.0}\n"
     ]
    }
   ],
   "source": [
    "es_ache = Elasticsearch(\"http://elasticsearch-clean:9200\")\n",
    "index=\"clean_index_apr\"\n",
    "print(es_ache.cluster.health())"
   ]
  },
  {
   "cell_type": "code",
   "execution_count": 70,
   "id": "f0315c5f-169a-42fd-b97d-b915b9989b25",
   "metadata": {},
   "outputs": [],
   "source": [
    "# animals =[]\n",
    "# with open(\"seeds_animals_cites.txt\", \"r\") as f:\n",
    "#     for line in f:\n",
    "#         animals.append(line.strip())"
   ]
  },
  {
   "cell_type": "code",
   "execution_count": 72,
   "id": "59a82361-0d42-4d74-ab76-c5e920dbc73a",
   "metadata": {},
   "outputs": [],
   "source": [
    "def open_scrap(domain):\n",
    "    site = \"scraper_\"+domain\n",
    "    with open(site, \"rb\") as f:\n",
    "        scraper = pickle.load(f)\n",
    "    return scraper"
   ]
  },
  {
   "cell_type": "code",
   "execution_count": 73,
   "id": "c59139b6-5627-4dc7-bc0b-6e256d0f8d2e",
   "metadata": {},
   "outputs": [],
   "source": [
    "scraper = open_scrap(\"ebay\")"
   ]
  },
  {
   "cell_type": "code",
   "execution_count": 74,
   "id": "52b2807c-2219-42f6-8b54-a54d964c9e6a",
   "metadata": {
    "tags": []
   },
   "outputs": [
    {
     "data": {
      "text/plain": [
       "{'product': 'Animal Insect Enamel Pin Lapel Collar Pin Corsage Brooch Women Men Jewelry Gift  | eBay',\n",
       " 'seller': 'yaojie_80',\n",
       " 'ships to': 'Worldwide',\n",
       " 'price': '0.99',\n",
       " 'location': '义乌, China'}"
      ]
     },
     "execution_count": 74,
     "metadata": {},
     "output_type": "execute_result"
    }
   ],
   "source": [
    "http = \"https://www.ebay.com/itm/384693477548?hash=item599184a0ac:g:0jsAAOSwTHNiTWNa&amdata=enc%3AAQAIAAAA4GBg9A4c7Z11DQDr0I1DAWh864ozZtXprcOzEjdCkvxi12FY1VCl9UgflOOMVMqWUG0B9InP12Y2H6Ksd4dR4uzPC0C6REnu26XTuPc6hUHzRkQSX0lQwt6E1RQxFiOyOEk94oNDaexr1xgzF1SenL%2FBlgviAW1poF1rXEBsHaoWTvfyYAqZ3OgmNjUEeIKbF7PrnAsySKgkKAMEbdPJ6MYYXxQO7GTJlrmn5OH55%2BLU2nsutqWUPYDBhioMSh3kk%2FM1HJRZ5z5vcMjHOWEwxTfzqO%2B2CL2WixXuJcchmyzg%7Ctkp%3ABk9SR6K694j9YQ\"\n",
    "headers={'User-Agent': 'Mozilla/5.0 (Windows NT 10.0; Win64; x64) AppleWebKit/537.36 (KHTML, like Gecko) Chrome/102.0.0.0 Safari/537.36'}\n",
    "resp = requests.get(http, headers= headers)\n",
    "test = scraper.get(Page(resp.content))\n",
    "test"
   ]
  },
  {
   "cell_type": "code",
   "execution_count": null,
   "id": "2764cb4d-8ddf-425f-b210-c974e45823b5",
   "metadata": {},
   "outputs": [],
   "source": [
    "## observation\n",
    "## add seller page url"
   ]
  },
  {
   "cell_type": "code",
   "execution_count": 10,
   "id": "cc23b1e6-f9f8-4b73-9572-ecb400d5d289",
   "metadata": {},
   "outputs": [],
   "source": [
    "domain_scrapers = ['gumtree',\n",
    " 'auctionzip',\n",
    " '1stdibs',\n",
    " 'canadianlisted',\n",
    " 'stsy',\n",
    " 'ukclassifieds',\n",
    " 'taxidermy',\n",
    " 'skullsunlimited',\n",
    " 'glacierwear',\n",
    " 'picclick',\n",
    " 'preloved',\n",
    " 'ebay']"
   ]
  },
  {
   "cell_type": "code",
   "execution_count": 11,
   "id": "eb1d0d7e-c7e5-4beb-a7cd-e6984d49b4e0",
   "metadata": {},
   "outputs": [],
   "source": [
    "def get_sintax_opengraph(metadata: dict):\n",
    "    product_meta = {}\n",
    "    if product_meta[\"price\"]:\n",
    "        product_meta[\"name\"] = metadata.get(\"og:title\")\n",
    "        product_meta[\"description\"]=  metadata.get(\"og:description\")\n",
    "        product_meta[\"price\"] = metadata.get(\"product:price:amount\")\n",
    "        product_meta[\"currency\"] =  metadata.get(\"product:price:currency\")\n",
    "        product_meta[\"category\"] = metadata.get(\"product:category\")\n",
    "    \n",
    "    return product_meta\n",
    "\n",
    "\n",
    "def get_sintax_dublincore(metadata: dict):\n",
    "    product_meta = {}\n",
    "    metas = metadata.get(\"elements\")\n",
    "    for meta in metas:\n",
    "        if meta.get(\"name\") == \"description\":\n",
    "            if meta.get(\"price\"):\n",
    "                product_meta[\"name\"] = meta.get(\"name\")\n",
    "                product_meta[\"description\"]=  meta.get(\"content\")\n",
    "                product_meta[\"price\"] = meta.get(\"price\")\n",
    "                product_meta[\"currency\"] =  meta.get(\"currency\")\n",
    "                product_meta[\"category\"] = meta.get(\"category\")\n",
    "    return product_meta\n",
    "\n",
    "def get_dict_json_ld(meta):\n",
    "    # dict_page = []\n",
    "    product = meta\n",
    "    # for product in meta:\n",
    "    obj = {}\n",
    "    obj[\"name\"]= product.get(\"name\")\n",
    "    obj[\"description\"]= product.get(\"description\")\n",
    "    obj[\"image\"]= product.get(\"image\")\n",
    "    if obj[\"image\"] and isinstance(obj[\"image\"], dict):\n",
    "        obj[\"image\"]= product.get(\"image\").get(\"contentUrl\")\n",
    "    if obj[\"image\"] and isinstance(obj[\"image\"], list):\n",
    "        obj[\"image\"]= product.get(\"image\")[0]\n",
    "        if obj[\"image\"] and isinstance(obj[\"image\"], dict):\n",
    "            obj[\"image\"]= obj[\"image\"].get(\"contentUrl\")\n",
    "    obj[\"url\"]= product.get(\"url\")\n",
    "    obj[\"production_data\"]= product.get(\"productionDate\")\n",
    "    obj[\"category\"]= product.get(\"category\")\n",
    "    if product.get(\"offers\"):\n",
    "        obj[\"price\"]= product.get(\"offers\").get(\"price\")\n",
    "        obj[\"currency\"]= product.get(\"offers\").get(\"priceCurrency\")\n",
    "        if product.get(\"offers\").get(\"seller\"):\n",
    "            obj[\"seller\"]= product.get(\"offers\").get(\"seller\").get(\"name\")\n",
    "            obj[\"seller_type\"]= product.get(\"offers\").get(\"seller\").get(\"@type\")\n",
    "            if product.get(\"offers\").get(\"seller\").get(\"address\"):\n",
    "                # obj[\"address_type\"]= product.get(\"offers\").get(\"seller\").get(\"address\").get(\"@type\")\n",
    "                # obj[\"addres_location\"]= product.get(\"offers\").get(\"seller\").get(\"address\").get(\"addressLocality\")\n",
    "                obj[\"location\"]= product.get(\"offers\").get(\"seller\").get(\"address\").get(\"addressCountry\")\n",
    "    # dict_page.append(obj)\n",
    "    return obj\n",
    "\n",
    "def get_dict_microdata(meta):\n",
    "    dict_page = []\n",
    "    for product in meta:\n",
    "        obj = {}\n",
    "        obj[\"name\"]= product.get(\"name\")\n",
    "        obj[\"description\"]= product.get(\"description\")\n",
    "        obj[\"image\"]= product.get(\"image\")\n",
    "        if obj[\"image\"] and isinstance(obj[\"image\"], dict):\n",
    "            obj[\"image\"]= obj[\"image\"].get(\"contentUrl\")\n",
    "        if obj[\"image\"] and isinstance(obj[\"image\"], list):\n",
    "            obj[\"image\"]= product.get(\"image\")[0]\n",
    "            if obj[\"image\"] and isinstance(obj[\"image\"], dict):\n",
    "                 obj[\"image\"]= obj[\"image\"].get(\"contentUrl\")\n",
    "        obj[\"production_data\"]= product.get(\"productionDate\")\n",
    "        obj[\"category\"]= product.get(\"category\")\n",
    "        if product.get(\"offers\") and isinstance(product.get(\"offers\"), dict):\n",
    "            obj[\"url\"]= product.get(\"offers\").get(\"url\")\n",
    "            obj[\"price\"]= product.get(\"offers\").get(\"price\")\n",
    "            obj[\"currency\"]= product.get(\"offers\").get(\"priceCurrency\")\n",
    "            if product.get(\"offers\").get(\"seller\"):\n",
    "                obj[\"seller\"]= product.get(\"offers\").get(\"seller\").get(\"name\")\n",
    "                obj[\"seller_type\"]= product.get(\"offers\").get(\"seller\").get(\"@type\")\n",
    "                if product.get(\"offers\").get(\"seller\").get(\"address\"):\n",
    "                    # obj[\"address_type\"]= product.get(\"offers\").get(\"seller\").get(\"address\").get(\"@type\")\n",
    "                    # obj[\"addres_location\"]= product.get(\"offers\").get(\"seller\").get(\"address\").get(\"addressLocality\")\n",
    "                    obj[\"location\"]= product.get(\"offers\").get(\"seller\").get(\"address\").get(\"addressCountry\")\n",
    "        elif product.get(\"offers\") and isinstance(product.get(\"offers\"), list):\n",
    "            obj[\"url\"]= product.get(\"offers\")[0].get(\"url\")\n",
    "            obj[\"price\"]= product.get(\"offers\")[0].get(\"price\")\n",
    "            obj[\"currency\"]= product.get(\"offers\")[0].get(\"priceCurrency\")\n",
    "            if product.get(\"offers\")[0].get(\"seller\"):\n",
    "                obj[\"seller\"]= product.get(\"offers\")[0].get(\"seller\").get(\"name\")\n",
    "                obj[\"seller_type\"]= product.get(\"offers\")[0].get(\"seller\").get(\"@type\")\n",
    "                if product.get(\"offers\")[0].get(\"seller\").get(\"address\"):\n",
    "                    # obj[\"address_type\"]= product.get(\"offers\")[0].get(\"seller\").get(\"address\").get(\"@type\")\n",
    "                    # obj[\"addres_location\"]= product.get(\"offers\")[0].get(\"seller\").get(\"address\").get(\"addressLocality\")\n",
    "                    obj[\"location\"]= product.get(\"offers\")[0].get(\"seller\").get(\"address\").get(\"addressCountry\")\n",
    "        dict_page.append(obj)\n",
    "    return dict_page\n"
   ]
  },
  {
   "cell_type": "code",
   "execution_count": 41,
   "id": "a5f4880e-e758-44a7-9915-278b3f06e6c4",
   "metadata": {
    "tags": []
   },
   "outputs": [],
   "source": [
    "def create_df(ads):\n",
    "    df_metas = pd.DataFrame()\n",
    "    for ad in ads:\n",
    "        scraper = None\n",
    "        data_ext = []\n",
    "        metas = {}\n",
    "        domain = ad[\"_source\"][\"domain\"].split(\".\")[0]\n",
    "        try:\n",
    "            if domain in domain_scrapers:\n",
    "                scraper = open_scrap(domain)\n",
    "                data_ext = scraper.get(Page(ad[\"_source\"][\"html\"]))\n",
    "                if data_ext[\"product\"]:\n",
    "                    data_ext[\"name\"] = data_ext.pop(\"product\")\n",
    "                meta_df = pd.DataFrame(data_ext, index=[0])\n",
    "                meta_df[\"url\"] = ad[\"_source\"][\"url\"]\n",
    "                meta_df[\"title\"] = ad[\"_source\"][\"title\"]\n",
    "                meta_df[\"text\"] = ad[\"_source\"][\"text\"]\n",
    "                df_metas = pd.concat([df_metas, meta_df])\n",
    "        except Exception:\n",
    "            data_ext = []\n",
    "        try:\n",
    "            metadata = extruct.extract(ad[\"_source\"][\"html\"], \n",
    "                                               base_url=ad[\"_source\"][\"url\"],\n",
    "                                               uniform=True,\n",
    "                                               syntaxes=['json-ld',\n",
    "                                                         'microdata',\n",
    "                                                         'opengraph',\n",
    "                                                        'dublincore'])\n",
    "\n",
    "            if metadata.get(\"microdata\"):\n",
    "                meta_df = pd.DataFrame(get_dict_microdata(metadata.get(\"microdata\")))\n",
    "                meta_df[\"url\"] = ad[\"_source\"][\"url\"]\n",
    "                meta_df[\"title\"] = ad[\"_source\"][\"title\"]\n",
    "                meta_df[\"text\"] = ad[\"_source\"][\"text\"]\n",
    "                df_metas = pd.concat([df_metas, meta_df])\n",
    "            if metadata.get(\"json-ld\"):\n",
    "                for meta in metadata.get(\"json-ld\"):\n",
    "                    if meta.get(\"@type\") == 'Product':\n",
    "                        meta_dict = get_dict_json_ld(meta)\n",
    "                        meta_df = pd.DataFrame([meta_dict])\n",
    "                        meta_df[\"url\"] = ad[\"_source\"][\"url\"]\n",
    "                        meta_df[\"title\"] = ad[\"_source\"][\"title\"]\n",
    "                        meta_df[\"text\"] = ad[\"_source\"][\"text\"]\n",
    "                        df_metas = pd.concat([df_metas, meta_df])\n",
    "            if metadata.get(\"opengraph\"):\n",
    "                open_ = get_sintax_dublincore(metadata.get(\"dublincore\")[0])\n",
    "                if open_:\n",
    "                    meta_df = pd.DataFrame(open_, index=[0])\n",
    "                    meta_df[\"url\"] = ad[\"_source\"][\"url\"]\n",
    "                    meta_df[\"title\"] = ad[\"_source\"][\"title\"]\n",
    "                    meta_df[\"text\"] = ad[\"_source\"][\"text\"]\n",
    "                    df_metas = pd.concat([df_metas, meta_df])\n",
    "\n",
    "\n",
    "                # metas[\"metas_opengraph\"] = get_sintax_opengraph(metadata.get(\"opengraph\")[0])\n",
    "                # meta_df = pd.DataFrame(get_sintax_opengraph(metadata.get(\"opengraph\")[0]), index=[0])\n",
    "                # meta_df[\"url\"] = ad[\"_source\"][\"url\"]\n",
    "                # meta_df[\"title\"] = ad[\"_source\"][\"title\"]\n",
    "                # meta_df[\"text\"] = ad[\"_source\"][\"text\"]\n",
    "            if metadata.get(\"dublincore\"):\n",
    "                dublin = get_sintax_dublincore(metadata.get(\"dublincore\")[0])\n",
    "                if dublin:\n",
    "                    meta_df = pd.DataFrame(dublin)\n",
    "                    meta_df[\"url\"] = ad[\"_source\"][\"url\"]\n",
    "                    meta_df[\"title\"] = ad[\"_source\"][\"title\"]\n",
    "                    meta_df[\"text\"] = ad[\"_source\"][\"text\"]\n",
    "                    df_metas = pd.concat([df_metas, meta_df])\n",
    "                # metas[\"metas_dublincore\"] = get_sintax_dublincore(metadata.get(\"dublincore\")[0])\n",
    "        except Exception as e:\n",
    "            print(e) \n",
    "            # raise e\n",
    "\n",
    "            \n",
    "    df_metas = df_metas.groupby('url').agg({\"name\": 'first',\n",
    "                            \"description\":'first',\n",
    "                            \"image\":'first',\n",
    "                            \"production_data\": 'first',\n",
    "                            \"category\": 'first',\n",
    "                            \"title\":'first',\n",
    "                            \"text\":'first',\n",
    "                            \"price\":'first',\n",
    "                            \"currency\":\"first\",\n",
    "                            \"seller\":'first',\n",
    "                            \"seller_type\":'first',\n",
    "                            \"location\":'first',\n",
    "                            \"ships to\":'first'}).reset_index()\n",
    "    df_metas = df_metas.astype({'name': 'str', 'price': 'str', 'currency': 'str', 'image': 'str', 'seller': 'str', 'seller_type': 'str', 'location': 'str', 'ships to': 'str' })\n",
    " \n",
    "    ct = datetime.datetime.now()\n",
    "    file = \"data_april14-15/data_\"+ct.strftime(\"%m-%d-%YT%H:%M:%S\")\n",
    "    df_metas.to_parquet(file, index=False)\n",
    "\n",
    "\n",
    "    #     data.append(pd.DataFrame({\"url\": ad[\"_source\"][\"url\"], \"title\": ad[\"_source\"][\"title\"], \"text\": ad[\"_source\"][\"text\"]}, index=[0]))\n",
    "    #     # metas_df.append(pd.DataFrame(\n",
    "    #     #                           \"metas\": [metas], \"mlscraper\": [data_ext]}))\n"
   ]
  },
  {
   "cell_type": "code",
   "execution_count": 54,
   "id": "3c5e9d19-2b33-4148-817b-27482d560ada",
   "metadata": {},
   "outputs": [],
   "source": [
    "docs = scan(\n",
    "            client=es_ache,\n",
    "            index=index,\n",
    "            scroll='25m',\n",
    "            query= { \"query\":{\n",
    "                        \"bool\": {\n",
    "                            \"filter\": {\n",
    "                                \"range\": {\n",
    "                                    \"retrieved\": {\n",
    "                                        \"gte\": \"2023-04-13T00:00:00\",\n",
    "                                        \"lt\": \"2023-04-13T06:00:00\",\n",
    "                                    },\n",
    "                                },\n",
    "                            },\n",
    "                        }\n",
    "                    }\n",
    "                    })"
   ]
  },
  {
   "cell_type": "code",
   "execution_count": 57,
   "id": "cd8c7821-1684-4cd1-9400-d37bce0c85d7",
   "metadata": {},
   "outputs": [],
   "source": [
    "bloom = BloomFilter()"
   ]
  },
  {
   "cell_type": "code",
   "execution_count": null,
   "id": "33a15661-38fb-46f6-b8fc-0f5dac6d75f0",
   "metadata": {},
   "outputs": [],
   "source": [
    "## bottleneck"
   ]
  },
  {
   "cell_type": "code",
   "execution_count": 61,
   "id": "ad774bba-6a34-42da-be83-971c42c7e073",
   "metadata": {
    "tags": []
   },
   "outputs": [],
   "source": [
    "ads = []\n",
    "count=0\n",
    "for doc in docs:\n",
    "    if not bloom.check_bloom_filter(doc[\"_source\"][\"url\"]):\n",
    "        ads.append(doc)\n",
    "        count += 1\n",
    "        if count ==5000:\n",
    "            create_df(ads)\n",
    "            ads=[]\n",
    "            count=0\n",
    "            bloom.save()\n",
    "if ads:\n",
    "    create_df(ads)\n",
    "    ads=[]\n",
    "    count=0\n",
    "    bloom.save()"
   ]
  },
  {
   "cell_type": "code",
   "execution_count": 62,
   "id": "9f2e3675-59a0-45be-a980-f6b3087d9c91",
   "metadata": {},
   "outputs": [
    {
     "name": "stdout",
     "output_type": "stream",
     "text": [
      "finished\n"
     ]
    }
   ],
   "source": [
    "print(\"finished\")"
   ]
  },
  {
   "cell_type": "code",
   "execution_count": 64,
   "id": "ba746bf5-f166-4923-9c80-b5b76878e263",
   "metadata": {},
   "outputs": [],
   "source": [
    "docs = scan(\n",
    "            client=es_ache,\n",
    "            index=index,\n",
    "            scroll='25m',\n",
    "            query= { \"query\":{\n",
    "                        \"bool\": {\n",
    "                            \"filter\": {\n",
    "                                \"range\": {\n",
    "                                    \"retrieved\": {\n",
    "                                        \"gte\": \"2023-04-13T06:00:00\",\n",
    "                                        \"lt\": \"2023-04-13T12:00:00\",\n",
    "                                    },\n",
    "                                },\n",
    "                            },\n",
    "                        }\n",
    "                    }\n",
    "                    })"
   ]
  },
  {
   "cell_type": "code",
   "execution_count": 65,
   "id": "3d6254d2-404a-4278-98f0-c5f09c004b57",
   "metadata": {},
   "outputs": [
    {
     "name": "stdout",
     "output_type": "stream",
     "text": [
      "Expecting ',' delimiter: line 6 column 24 (char 95)\n",
      "Expecting ',' delimiter: line 6 column 19 (char 90)\n",
      "Expecting ',' delimiter: line 6 column 48 (char 119)\n",
      "Expecting ',' delimiter: line 6 column 39 (char 110)\n",
      "Expecting ',' delimiter: line 6 column 38 (char 109)\n",
      "Expecting ',' delimiter: line 13 column 44 (char 736)\n",
      "Expecting ',' delimiter: line 6 column 31 (char 102)\n"
     ]
    }
   ],
   "source": [
    "ads = []\n",
    "count=0\n",
    "for doc in docs:\n",
    "    if not bloom.check_bloom_filter(doc[\"_source\"][\"url\"]):\n",
    "        ads.append(doc)\n",
    "        count += 1\n",
    "        if count ==5000:\n",
    "            create_df(ads)\n",
    "            ads=[]\n",
    "            count=0\n",
    "            bloom.save()\n",
    "if ads:\n",
    "    create_df(ads)\n",
    "    ads=[]\n",
    "    count=0\n",
    "    bloom.save()\n",
    "            "
   ]
  },
  {
   "cell_type": "code",
   "execution_count": 66,
   "id": "9190cbec-449e-45fd-86b0-4978612730d8",
   "metadata": {},
   "outputs": [
    {
     "name": "stdout",
     "output_type": "stream",
     "text": [
      "finished\n"
     ]
    }
   ],
   "source": [
    "print(\"finished\")"
   ]
  },
  {
   "cell_type": "code",
   "execution_count": null,
   "id": "e7b40bbc-ce9f-4484-b5aa-07b1ad662b7c",
   "metadata": {},
   "outputs": [],
   "source": [
    "## count to see if finish"
   ]
  },
  {
   "cell_type": "code",
   "execution_count": 61,
   "id": "fd05983e-6fc8-4909-b884-37ae6e8bbab9",
   "metadata": {},
   "outputs": [],
   "source": [
    "docs = scan(\n",
    "            client=es_ache,\n",
    "            index=index,\n",
    "            scroll='25m',\n",
    "            size=10,\n",
    "            raise_on_error=False,\n",
    "            query= { \"query\":{\n",
    "                        \"bool\": {\n",
    "                            \"filter\": {\n",
    "                                \"range\": {\n",
    "                                    \"retrieved\": {\n",
    "                                        \"gte\": \"2023-04-15T06:00:00\",\n",
    "                                        \"lt\": \"2023-04-15T12:00:00\",\n",
    "                                    },\n",
    "                                },\n",
    "                            },\n",
    "                        }\n",
    "                    }\n",
    "                    })"
   ]
  },
  {
   "cell_type": "code",
   "execution_count": 62,
   "id": "a4c933fe-0af7-40ef-bedb-a9dbb11f4fff",
   "metadata": {},
   "outputs": [],
   "source": [
    "bloom = BloomFilter()"
   ]
  },
  {
   "cell_type": "code",
   "execution_count": 63,
   "id": "3e184b7f-70ef-4e8b-acea-0cca000eff11",
   "metadata": {},
   "outputs": [],
   "source": [
    "ads = []\n",
    "count=0\n",
    "for doc in docs:\n",
    "    if not bloom.check_bloom_filter(doc[\"_source\"][\"url\"]):\n",
    "        ads.append(doc)\n",
    "        count += 1\n",
    "        if count == 5000:\n",
    "            create_df(ads)\n",
    "            ads=[]\n",
    "            count=0\n",
    "            bloom.save()\n",
    "if ads:\n",
    "    create_df(ads)\n",
    "    ads=[]\n",
    "    count=0\n",
    "    bloom.save()"
   ]
  },
  {
   "cell_type": "code",
   "execution_count": 64,
   "id": "bba173d5-5cb2-4cfa-907f-016996d500fe",
   "metadata": {},
   "outputs": [
    {
     "name": "stdout",
     "output_type": "stream",
     "text": [
      "finished\n"
     ]
    }
   ],
   "source": [
    "print(\"finished\")"
   ]
  },
  {
   "cell_type": "code",
   "execution_count": 36,
   "id": "61ea3c6a-c725-4e44-9d59-2764110e7e94",
   "metadata": {},
   "outputs": [
    {
     "data": {
      "text/plain": [
       "0"
      ]
     },
     "execution_count": 36,
     "metadata": {},
     "output_type": "execute_result"
    }
   ],
   "source": [
    "count"
   ]
  },
  {
   "cell_type": "code",
   "execution_count": null,
   "id": "42fa603c-1861-4a16-b04d-8be6b42d6250",
   "metadata": {},
   "outputs": [],
   "source": []
  },
  {
   "cell_type": "code",
   "execution_count": null,
   "id": "016e6703-15db-418a-8942-dfadfd03aeeb",
   "metadata": {},
   "outputs": [],
   "source": []
  },
  {
   "cell_type": "code",
   "execution_count": null,
   "id": "aa493805-522f-48dd-81c5-c8f2d5d1b0a0",
   "metadata": {},
   "outputs": [],
   "source": []
  },
  {
   "cell_type": "code",
   "execution_count": null,
   "id": "75d9361b-8689-45dd-83df-6e81679f0631",
   "metadata": {},
   "outputs": [],
   "source": []
  },
  {
   "cell_type": "code",
   "execution_count": null,
   "id": "cd6551c5-0a28-4312-bdaf-1752ed6eea0b",
   "metadata": {},
   "outputs": [],
   "source": []
  },
  {
   "cell_type": "code",
   "execution_count": null,
   "id": "c9c8eba9-7786-4756-be1e-6979d08f832f",
   "metadata": {},
   "outputs": [],
   "source": []
  },
  {
   "cell_type": "code",
   "execution_count": null,
   "id": "223c77b0-68c3-453b-b491-a8171cb019a1",
   "metadata": {},
   "outputs": [],
   "source": []
  },
  {
   "cell_type": "code",
   "execution_count": null,
   "id": "5f897096-6b3a-4b74-a402-876e4eaa3a04",
   "metadata": {},
   "outputs": [],
   "source": []
  },
  {
   "cell_type": "code",
   "execution_count": null,
   "id": "db51fe00-6788-4e64-9c54-53e82ce6177a",
   "metadata": {},
   "outputs": [],
   "source": []
  },
  {
   "cell_type": "code",
   "execution_count": null,
   "id": "29ef85f5-d372-4ff7-b35e-a85b4b1f8a54",
   "metadata": {},
   "outputs": [],
   "source": []
  },
  {
   "cell_type": "code",
   "execution_count": null,
   "id": "91c15ecd-6212-4e5e-8159-361a5294b5a0",
   "metadata": {},
   "outputs": [],
   "source": []
  },
  {
   "cell_type": "code",
   "execution_count": null,
   "id": "1a58a248-6e41-47bf-a774-10072b1badef",
   "metadata": {},
   "outputs": [],
   "source": []
  },
  {
   "cell_type": "code",
   "execution_count": null,
   "id": "8e26e90a-88ba-4924-9e70-41357bfb67c4",
   "metadata": {},
   "outputs": [],
   "source": []
  },
  {
   "cell_type": "code",
   "execution_count": null,
   "id": "a7dc1584-03e1-4ae7-9236-db5bd8dd850d",
   "metadata": {},
   "outputs": [],
   "source": []
  },
  {
   "cell_type": "code",
   "execution_count": null,
   "id": "7847438a-142d-47a1-9ef5-e6fd37fbdc2e",
   "metadata": {},
   "outputs": [],
   "source": []
  },
  {
   "cell_type": "code",
   "execution_count": null,
   "id": "15463fbd-a81a-42b8-a349-ffe6b621f5ea",
   "metadata": {},
   "outputs": [],
   "source": []
  },
  {
   "cell_type": "code",
   "execution_count": null,
   "id": "10e697cd-2862-4b40-958f-9256e13b6016",
   "metadata": {},
   "outputs": [],
   "source": []
  },
  {
   "cell_type": "code",
   "execution_count": null,
   "id": "82190dfb-b27d-41a4-a109-2a51b2d57a45",
   "metadata": {},
   "outputs": [],
   "source": []
  },
  {
   "cell_type": "code",
   "execution_count": null,
   "id": "ac2c42ba-f910-46ec-a292-a774cf92d236",
   "metadata": {},
   "outputs": [],
   "source": []
  },
  {
   "cell_type": "code",
   "execution_count": null,
   "id": "854eb1f0-f440-4344-8bfe-2553d044b8be",
   "metadata": {},
   "outputs": [],
   "source": []
  },
  {
   "cell_type": "code",
   "execution_count": null,
   "id": "93ec09f4-0f64-45b1-a7a8-61e1fa7c0fc9",
   "metadata": {},
   "outputs": [],
   "source": []
  },
  {
   "cell_type": "code",
   "execution_count": null,
   "id": "024c197a-d813-459e-95d0-462398bdea08",
   "metadata": {},
   "outputs": [],
   "source": []
  },
  {
   "cell_type": "code",
   "execution_count": null,
   "id": "b21a07b6-1122-48a3-93bb-3a284b830293",
   "metadata": {},
   "outputs": [],
   "source": []
  },
  {
   "cell_type": "code",
   "execution_count": null,
   "id": "526b9157-f404-4677-bdec-aba5a44400a9",
   "metadata": {},
   "outputs": [],
   "source": []
  },
  {
   "cell_type": "code",
   "execution_count": null,
   "id": "49323448-9046-408a-9e15-a001b859ffa0",
   "metadata": {},
   "outputs": [],
   "source": []
  },
  {
   "cell_type": "code",
   "execution_count": null,
   "id": "d59828b6-2a67-4f95-9bfb-57af6ed21efd",
   "metadata": {},
   "outputs": [],
   "source": []
  },
  {
   "cell_type": "code",
   "execution_count": null,
   "id": "6191d8ae-1049-40f7-a7b1-4a4db926b6ca",
   "metadata": {},
   "outputs": [],
   "source": []
  },
  {
   "cell_type": "code",
   "execution_count": null,
   "id": "30c6bf93-c381-4b95-a17f-65fe64c826f3",
   "metadata": {},
   "outputs": [],
   "source": []
  },
  {
   "cell_type": "code",
   "execution_count": null,
   "id": "57b6a269-c3d6-4032-90d8-ec71d80cd776",
   "metadata": {},
   "outputs": [],
   "source": []
  },
  {
   "cell_type": "code",
   "execution_count": null,
   "id": "bc609095-641f-4be5-a12f-595ef1251736",
   "metadata": {},
   "outputs": [],
   "source": []
  },
  {
   "cell_type": "code",
   "execution_count": null,
   "id": "784796c2-b60c-4af2-8a56-9c322ec994af",
   "metadata": {},
   "outputs": [],
   "source": []
  },
  {
   "cell_type": "code",
   "execution_count": null,
   "id": "4ed5438f-3dbc-48ef-ba5c-490f826f34c9",
   "metadata": {},
   "outputs": [],
   "source": []
  },
  {
   "cell_type": "code",
   "execution_count": null,
   "id": "ab4f5ec4-0b1a-476e-a412-5ac275c7291d",
   "metadata": {},
   "outputs": [],
   "source": []
  },
  {
   "cell_type": "code",
   "execution_count": null,
   "id": "4db972b3-dfbc-441d-a917-3b84a5787aa8",
   "metadata": {},
   "outputs": [],
   "source": []
  },
  {
   "cell_type": "code",
   "execution_count": null,
   "id": "2bde026a-92f4-4c07-9480-f4954c5864e1",
   "metadata": {},
   "outputs": [],
   "source": []
  },
  {
   "cell_type": "code",
   "execution_count": null,
   "id": "7feb633b-293e-4788-b447-3115c547ac43",
   "metadata": {},
   "outputs": [],
   "source": []
  },
  {
   "cell_type": "code",
   "execution_count": null,
   "id": "4aac48bb-b52a-4733-bdd7-30b658d03710",
   "metadata": {},
   "outputs": [],
   "source": []
  },
  {
   "cell_type": "code",
   "execution_count": null,
   "id": "7653fa38-17bc-405c-b8cd-510ba3f03f9a",
   "metadata": {},
   "outputs": [],
   "source": []
  },
  {
   "cell_type": "code",
   "execution_count": null,
   "id": "2db7634c-aaab-4d81-bb5c-8c56aefe26ef",
   "metadata": {},
   "outputs": [],
   "source": []
  },
  {
   "cell_type": "code",
   "execution_count": null,
   "id": "8893130c-c860-4d7c-92c8-5ba01a0a9c29",
   "metadata": {},
   "outputs": [],
   "source": []
  },
  {
   "cell_type": "code",
   "execution_count": null,
   "id": "4911710c-0169-4c3a-ad4d-8b8800a180fd",
   "metadata": {},
   "outputs": [],
   "source": []
  },
  {
   "cell_type": "code",
   "execution_count": null,
   "id": "db75cfed-3a7d-4dc0-95d9-07f5bb5e0d83",
   "metadata": {},
   "outputs": [],
   "source": []
  },
  {
   "cell_type": "code",
   "execution_count": null,
   "id": "8838ec1b-2050-4c9f-b3ff-d971a0121c0f",
   "metadata": {},
   "outputs": [],
   "source": []
  },
  {
   "cell_type": "code",
   "execution_count": null,
   "id": "f9d17a74-cc8f-43ec-8183-a15c865b1f9f",
   "metadata": {},
   "outputs": [],
   "source": []
  },
  {
   "cell_type": "code",
   "execution_count": null,
   "id": "65b51fd5-7fdb-4bf9-9873-7ecb74d53cde",
   "metadata": {},
   "outputs": [],
   "source": []
  },
  {
   "cell_type": "code",
   "execution_count": null,
   "id": "c5f60ca4-1490-4f43-9e4a-cace9c63f222",
   "metadata": {},
   "outputs": [],
   "source": []
  },
  {
   "cell_type": "code",
   "execution_count": null,
   "id": "b46fb59a-f4b5-41be-9cf9-7c6bd4963591",
   "metadata": {},
   "outputs": [],
   "source": []
  },
  {
   "cell_type": "code",
   "execution_count": null,
   "id": "93941a51-3ba7-45aa-9c9d-c707e926484d",
   "metadata": {},
   "outputs": [],
   "source": []
  }
 ],
 "metadata": {
  "kernelspec": {
   "display_name": "Python 3 (ipykernel)",
   "language": "python",
   "name": "python3"
  },
  "language_info": {
   "codemirror_mode": {
    "name": "ipython",
    "version": 3
   },
   "file_extension": ".py",
   "mimetype": "text/x-python",
   "name": "python",
   "nbconvert_exporter": "python",
   "pygments_lexer": "ipython3",
   "version": "3.9.14"
  }
 },
 "nbformat": 4,
 "nbformat_minor": 5
}
